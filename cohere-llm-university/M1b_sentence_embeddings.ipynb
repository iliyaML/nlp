{
  "cells": [
    {
      "cell_type": "code",
      "execution_count": 1,
      "metadata": {
        "id": "-H_N7AkCV0P-"
      },
      "outputs": [],
      "source": [
        "!pip install -q cohere altair sentence-transformers > /dev/null"
      ]
    },
    {
      "cell_type": "code",
      "execution_count": 2,
      "metadata": {
        "id": "y_6mkTnw5lsD"
      },
      "outputs": [],
      "source": [
        "import cohere\n",
        "import pandas as pd\n",
        "import numpy as np\n",
        "import seaborn as sns\n",
        "import altair as alt\n",
        "\n",
        "from sklearn.metrics.pairwise import cosine_similarity\n",
        "\n",
        "from sentence_transformers import SentenceTransformer"
      ]
    },
    {
      "cell_type": "markdown",
      "metadata": {
        "id": "ckDYQboW5o75"
      },
      "source": [
        "## Models"
      ]
    },
    {
      "cell_type": "markdown",
      "metadata": {
        "id": "Yc1e9bKJ6aNY"
      },
      "source": [
        "### Cohere API"
      ]
    },
    {
      "cell_type": "code",
      "execution_count": 3,
      "metadata": {
        "id": "Zg5H7gd7V0Mu"
      },
      "outputs": [],
      "source": [
        "api_key = ''\n",
        "co = cohere.Client(api_key)"
      ]
    },
    {
      "cell_type": "markdown",
      "metadata": {
        "id": "m3Et9fge6d3S"
      },
      "source": [
        "### Sentence Transformer"
      ]
    },
    {
      "cell_type": "code",
      "execution_count": 4,
      "metadata": {
        "id": "drCtAsYT74cY"
      },
      "outputs": [],
      "source": [
        "from sentence_transformers import SentenceTransformer\n",
        "\n",
        "st_model = SentenceTransformer('all-MiniLM-L6-v2')"
      ]
    },
    {
      "cell_type": "markdown",
      "metadata": {
        "id": "4_YQVuAbf3Xh"
      },
      "source": [
        "## Turn text into embeddings"
      ]
    },
    {
      "cell_type": "code",
      "execution_count": 5,
      "metadata": {
        "id": "ftbQKnV26r0C"
      },
      "outputs": [],
      "source": [
        "sentences_ls = [\n",
        "    \"I like to be in my house\",\n",
        "    \"I enjoy staying home\",\n",
        "    \"the isotope 238u decays to 206pb\"\n",
        "]"
      ]
    },
    {
      "cell_type": "markdown",
      "metadata": {
        "id": "wdop3Mi17-3v"
      },
      "source": [
        "### Cohere"
      ]
    },
    {
      "cell_type": "code",
      "execution_count": 6,
      "metadata": {
        "colab": {
          "base_uri": "https://localhost:8080/"
        },
        "id": "h2F8T2ti7-nj",
        "outputId": "c073d9ac-acd9-4311-a740-1e88e8687c4a"
      },
      "outputs": [
        {
          "data": {
            "text/plain": [
              "array([[-1.3642578 , -0.53808594,  0.06185913, ...,  0.60791016,\n",
              "        -0.2878418 ,  0.68652344],\n",
              "       [-0.3840332 ,  2.3808594 ,  2.5507812 , ...,  0.12426758,\n",
              "        -0.9145508 ,  0.65527344],\n",
              "       [-1.1630859 , -1.9238281 , -1.1640625 , ..., -2.9785156 ,\n",
              "         1.5761719 ,  0.15100098]])"
            ]
          },
          "execution_count": 6,
          "metadata": {},
          "output_type": "execute_result"
        }
      ],
      "source": [
        "sentences_embeddings_ls = np.asarray(co.embed(sentences_ls, model='embed-english-v2.0').embeddings)\n",
        "sentences_embeddings_ls"
      ]
    },
    {
      "cell_type": "code",
      "execution_count": 7,
      "metadata": {
        "colab": {
          "base_uri": "https://localhost:8080/"
        },
        "id": "p_B1j4V3-CrF",
        "outputId": "c7a6558c-3f71-40b3-98a2-32a63dcab81d"
      },
      "outputs": [
        {
          "data": {
            "text/plain": [
              "(3, 4096)"
            ]
          },
          "execution_count": 7,
          "metadata": {},
          "output_type": "execute_result"
        }
      ],
      "source": [
        "sentences_embeddings_ls.shape"
      ]
    },
    {
      "cell_type": "markdown",
      "metadata": {
        "id": "L37ac4dn8At2"
      },
      "source": [
        "### Sentence Transformer"
      ]
    },
    {
      "cell_type": "code",
      "execution_count": 8,
      "metadata": {
        "colab": {
          "base_uri": "https://localhost:8080/"
        },
        "id": "-fpxSTTA8YXh",
        "outputId": "345b5376-ff97-45b6-aa91-54fdf9e55c83"
      },
      "outputs": [
        {
          "data": {
            "text/plain": [
              "array([[ 0.04602624, -0.05628698,  0.05238659, ...,  0.10794593,\n",
              "        -0.04512526, -0.02710544],\n",
              "       [ 0.05751314, -0.03896498,  0.04849717, ...,  0.05301371,\n",
              "        -0.05489819,  0.00085395],\n",
              "       [-0.0190251 ,  0.0010913 , -0.04220471, ..., -0.06778219,\n",
              "         0.04150676, -0.05456711]], dtype=float32)"
            ]
          },
          "execution_count": 8,
          "metadata": {},
          "output_type": "execute_result"
        }
      ],
      "source": [
        "sentences_embeddings_ls = st_model.encode(sentences_ls)\n",
        "sentences_embeddings_ls"
      ]
    },
    {
      "cell_type": "code",
      "execution_count": 9,
      "metadata": {
        "colab": {
          "base_uri": "https://localhost:8080/"
        },
        "id": "CyiVnEW9yEYy",
        "outputId": "6b980e01-4d98-413b-8f36-f212c538d2c0"
      },
      "outputs": [
        {
          "data": {
            "text/plain": [
              "(3, 384)"
            ]
          },
          "execution_count": 9,
          "metadata": {},
          "output_type": "execute_result"
        }
      ],
      "source": [
        "sentences_embeddings_ls.shape"
      ]
    },
    {
      "cell_type": "markdown",
      "metadata": {
        "id": "9pR9yDy1ot17"
      },
      "source": [
        "## Calculate dot products"
      ]
    },
    {
      "cell_type": "code",
      "execution_count": 10,
      "metadata": {
        "colab": {
          "base_uri": "https://localhost:8080/"
        },
        "id": "8b-FViGlJQLe",
        "outputId": "c84253fa-ed9d-44e1-c348-d4c379e210a3"
      },
      "outputs": [
        {
          "name": "stdout",
          "output_type": "stream",
          "text": [
            "Similarity between sentences 1 and 2: 0.62823874\n",
            "Similarity between sentences 1 and 3: 0.019688334\n",
            "Similarity between sentences 2 and 3: 0.0049621537\n"
          ]
        }
      ],
      "source": [
        "print(\"Similarity between sentences 1 and 2:\", np.dot(sentences_embeddings_ls[0], sentences_embeddings_ls[1]))\n",
        "print(\"Similarity between sentences 1 and 3:\", np.dot(sentences_embeddings_ls[0], sentences_embeddings_ls[2]))\n",
        "print(\"Similarity between sentences 2 and 3:\", np.dot(sentences_embeddings_ls[1], sentences_embeddings_ls[2]))"
      ]
    },
    {
      "cell_type": "code",
      "execution_count": 11,
      "metadata": {
        "colab": {
          "base_uri": "https://localhost:8080/"
        },
        "id": "sb-MX-MdhlPj",
        "outputId": "4da2a36e-aab9-4068-d30e-08d02fd30227"
      },
      "outputs": [
        {
          "name": "stdout",
          "output_type": "stream",
          "text": [
            "Similarity between sentences 1 and 1: 0.99999994\n",
            "Similarity between sentences 2 and 2: 1.0000002\n",
            "Similarity between sentences 3 and 3: 0.9999998\n"
          ]
        }
      ],
      "source": [
        "print(\"Similarity between sentences 1 and 1:\", np.dot(sentences_embeddings_ls[0], sentences_embeddings_ls[0]))\n",
        "print(\"Similarity between sentences 2 and 2:\", np.dot(sentences_embeddings_ls[1], sentences_embeddings_ls[1]))\n",
        "print(\"Similarity between sentences 3 and 3:\", np.dot(sentences_embeddings_ls[2], sentences_embeddings_ls[2]))"
      ]
    },
    {
      "cell_type": "markdown",
      "metadata": {
        "id": "DWEpWsI0o8gn"
      },
      "source": [
        "## Calculate cosine similarities"
      ]
    },
    {
      "cell_type": "code",
      "execution_count": 12,
      "metadata": {
        "colab": {
          "base_uri": "https://localhost:8080/"
        },
        "id": "D4ZkpwMSL_oH",
        "outputId": "daf13ffd-1185-4a29-8ecc-6577686bc4e4"
      },
      "outputs": [
        {
          "name": "stdout",
          "output_type": "stream",
          "text": [
            "Cosine similarity between sentences 1 and 2: 0.62823874\n",
            "Cosine similarity between sentences 1 and 3: 0.01968835\n",
            "Cosine similarity between sentences 2 and 3: 0.004962161\n"
          ]
        }
      ],
      "source": [
        "from sklearn.metrics.pairwise import cosine_similarity\n",
        "\n",
        "print(\"Cosine similarity between sentences 1 and 2:\", cosine_similarity([sentences_embeddings_ls[0]], [sentences_embeddings_ls[1]])[0][0])\n",
        "print(\"Cosine similarity between sentences 1 and 3:\", cosine_similarity([sentences_embeddings_ls[0]], [sentences_embeddings_ls[2]])[0][0])\n",
        "print(\"Cosine similarity between sentences 2 and 3:\", cosine_similarity([sentences_embeddings_ls[1]], [sentences_embeddings_ls[2]])[0][0])"
      ]
    },
    {
      "cell_type": "code",
      "execution_count": 13,
      "metadata": {
        "colab": {
          "base_uri": "https://localhost:8080/"
        },
        "id": "tZ7ls1JlkngY",
        "outputId": "91b63fe5-d637-42fe-aad5-0f33bf020662"
      },
      "outputs": [
        {
          "name": "stdout",
          "output_type": "stream",
          "text": [
            "Cosine similarity between sentences 1 and 1: 0.99999994\n",
            "Cosine similarity between sentences 2 and 2: 1.0000002\n",
            "Cosine similarity between sentences 3 and 3: 1.0\n"
          ]
        }
      ],
      "source": [
        "from sklearn.metrics.pairwise import cosine_similarity\n",
        "\n",
        "print(\"Cosine similarity between sentences 1 and 1:\", cosine_similarity([sentences_embeddings_ls[0]], [sentences_embeddings_ls[0]])[0][0])\n",
        "print(\"Cosine similarity between sentences 2 and 2:\", cosine_similarity([sentences_embeddings_ls[1]], [sentences_embeddings_ls[1]])[0][0])\n",
        "print(\"Cosine similarity between sentences 3 and 3:\", cosine_similarity([sentences_embeddings_ls[2]], [sentences_embeddings_ls[2]])[0][0])"
      ]
    },
    {
      "cell_type": "code",
      "execution_count": 14,
      "metadata": {
        "colab": {
          "base_uri": "https://localhost:8080/",
          "height": 599
        },
        "id": "sO3AxCUJq7AH",
        "outputId": "f7e27fea-5859-468c-c487-489ab07992dd"
      },
      "outputs": [
        {
          "data": {
            "image/png": "[encoded data removed]",
            "text/plain": [
              "<Figure size 640x480 with 2 Axes>"
            ]
          },
          "metadata": {},
          "output_type": "display_data"
        }
      ],
      "source": [
        "embeddings = [[sentences_embeddings_ls[0]], [sentences_embeddings_ls[1]], [sentences_embeddings_ls[2]]]\n",
        "dot_product_similarities = [[cosine_similarity(embeddings[i], embeddings[j])[0][0] for i in range(len(embeddings))] for j in range(len(embeddings))]\n",
        "ax = sns.heatmap(dot_product_similarities, vmin=0, vmax=1,\n",
        "                 linewidths=1, linecolor='grey',\n",
        "                 xticklabels=[\"I like to be in my house\", \"I enjoy staying home\", \"the isotope 238u decays to 206pb\"],\n",
        "                 yticklabels=[\"I like to be in my house\", \"I enjoy staying home\", \"the isotope 238u decays to 206pb\"],\n",
        ")\n",
        "ax.set_xticklabels(ax.get_xticklabels(), rotation=45);"
      ]
    },
    {
      "cell_type": "markdown",
      "metadata": {
        "id": "9BKWyGdcypOq"
      },
      "source": [
        "## Dependencies"
      ]
    },
    {
      "cell_type": "code",
      "execution_count": 15,
      "metadata": {
        "colab": {
          "base_uri": "https://localhost:8080/"
        },
        "id": "4p2TSx4VrDj0",
        "outputId": "16eef287-26c6-41ea-d1c3-ff0fc4b1a3ce"
      },
      "outputs": [
        {
          "name": "stdout",
          "output_type": "stream",
          "text": [
            "  Preparing metadata (setup.py) ... \u001b[?25l\u001b[?25hdone\n",
            "\u001b[?25l     \u001b[90m━━━━━━━━━━━━━━━━━━━━━━━━━━━━━━━━━━━━━━━━\u001b[0m \u001b[32m0.0/63.5 kB\u001b[0m \u001b[31m?\u001b[0m eta \u001b[36m-:--:--\u001b[0m\r\u001b[2K     \u001b[90m━━━━━━━━━━━━━━━━━━━━━━━━━━━━━━━━━━━━━━━━\u001b[0m \u001b[32m63.5/63.5 kB\u001b[0m \u001b[31m2.4 MB/s\u001b[0m eta \u001b[36m0:00:00\u001b[0m\n",
            "\u001b[?25h  Building wheel for session-info (setup.py) ... \u001b[?25l\u001b[?25hdone\n"
          ]
        }
      ],
      "source": [
        "!pip install -q session-info"
      ]
    },
    {
      "cell_type": "code",
      "execution_count": 16,
      "metadata": {
        "colab": {
          "base_uri": "https://localhost:8080/",
          "height": 416
        },
        "id": "UsBezGTnyr1f",
        "outputId": "546e8019-745f-4a60-96fb-e7eecd043f2e"
      },
      "outputs": [
        {
          "data": {
            "text/html": [
              "<details>\n",
              "<summary>Click to view session information</summary>\n",
              "<pre>\n",
              "-----\n",
              "altair                      4.2.2\n",
              "cohere                      NA\n",
              "matplotlib                  3.7.1\n",
              "numpy                       1.22.4\n",
              "pandas                      1.5.3\n",
              "seaborn                     0.12.2\n",
              "sentence_transformers       2.2.2\n",
              "session_info                1.0.0\n",
              "sklearn                     1.2.2\n",
              "-----\n",
              "</pre>\n",
              "<details>\n",
              "<summary>Click to view modules imported as dependencies</summary>\n",
              "<pre>\n",
              "PIL                 8.4.0\n",
              "aiohttp             3.8.4\n",
              "aiosignal           1.3.1\n",
              "astunparse          1.6.3\n",
              "async_timeout       4.0.2\n",
              "attr                23.1.0\n",
              "backcall            0.2.0\n",
              "backoff             2.2.1\n",
              "certifi             2022.12.07\n",
              "cffi                1.15.1\n",
              "chardet             4.0.0\n",
              "charset_normalizer  2.0.12\n",
              "cloudpickle         2.2.1\n",
              "cycler              0.10.0\n",
              "cython_runtime      NA\n",
              "dateutil            2.8.2\n",
              "debugpy             1.6.6\n",
              "decorator           4.4.2\n",
              "defusedxml          0.7.1\n",
              "dot_parser          NA\n",
              "entrypoints         0.4\n",
              "etils               1.2.0\n",
              "filelock            3.12.0\n",
              "frozenlist          1.3.3\n",
              "google              NA\n",
              "httplib2            0.21.0\n",
              "huggingface_hub     0.14.1\n",
              "idna                3.4\n",
              "importlib_resources NA\n",
              "ipykernel           5.5.6\n",
              "ipython_genutils    0.2.0\n",
              "ipywidgets          7.7.1\n",
              "jax                 0.4.8\n",
              "jaxlib              0.4.7\n",
              "jinja2              3.1.2\n",
              "joblib              1.2.0\n",
              "jsonschema          4.3.3\n",
              "kiwisolver          1.4.4\n",
              "markupsafe          2.1.2\n",
              "matplotlib_inline   0.1.6\n",
              "ml_dtypes           0.1.0\n",
              "mpl_toolkits        NA\n",
              "mpmath              1.3.0\n",
              "multidict           6.0.4\n",
              "nltk                3.8.1\n",
              "numexpr             2.8.4\n",
              "nvfuser             NA\n",
              "opt_einsum          v3.3.0\n",
              "packaging           23.1\n",
              "pexpect             4.8.0\n",
              "pickleshare         0.7.5\n",
              "pkg_resources       NA\n",
              "platformdirs        3.3.0\n",
              "portpicker          NA\n",
              "prompt_toolkit      3.0.38\n",
              "psutil              5.9.5\n",
              "ptyprocess          0.7.0\n",
              "pyarrow             9.0.0\n",
              "pydev_ipython       NA\n",
              "pydevconsole        NA\n",
              "pydevd              2.9.5\n",
              "pydevd_file_utils   NA\n",
              "pydevd_plugins      NA\n",
              "pydevd_tracing      NA\n",
              "pydot               1.4.2\n",
              "pygments            2.14.0\n",
              "pyparsing           3.0.9\n",
              "pyrsistent          NA\n",
              "pytz                2022.7.1\n",
              "regex               2.5.123\n",
              "requests            2.27.1\n",
              "rich                NA\n",
              "scipy               1.10.1\n",
              "sentencepiece       0.1.99\n",
              "setuptools          67.7.2\n",
              "sitecustomize       NA\n",
              "six                 1.16.0\n",
              "socks               1.7.1\n",
              "sphinxcontrib       NA\n",
              "statsmodels         0.13.5\n",
              "storemagic          NA\n",
              "swig_runtime_data4  NA\n",
              "sympy               1.11.1\n",
              "threadpoolctl       3.1.0\n",
              "tokenizers          0.13.3\n",
              "toolz               0.12.0\n",
              "torch               2.0.1+cu118\n",
              "tornado             6.3.1\n",
              "tqdm                4.65.0\n",
              "traitlets           5.7.1\n",
              "transformers        4.29.2\n",
              "typing_extensions   NA\n",
              "urllib3             1.26.15\n",
              "wcwidth             0.2.6\n",
              "webcolors           1.13\n",
              "yaml                6.0\n",
              "yarl                1.9.2\n",
              "zmq                 23.2.1\n",
              "zoneinfo            NA\n",
              "</pre>\n",
              "</details> <!-- seems like this ends pre, so might as well be explicit -->\n",
              "<pre>\n",
              "-----\n",
              "IPython             7.34.0\n",
              "jupyter_client      6.1.12\n",
              "jupyter_core        5.3.0\n",
              "notebook            6.4.8\n",
              "-----\n",
              "Python 3.10.11 (main, Apr  5 2023, 14:15:10) [GCC 9.4.0]\n",
              "Linux-5.15.107+-x86_64-with-glibc2.31\n",
              "-----\n",
              "Session information updated at 2023-05-22 14:38\n",
              "</pre>\n",
              "</details>"
            ],
            "text/plain": [
              "<IPython.core.display.HTML object>"
            ]
          },
          "execution_count": 16,
          "metadata": {},
          "output_type": "execute_result"
        }
      ],
      "source": [
        "import session_info\n",
        "\n",
        "session_info.show()"
      ]
    }
  ],
  "metadata": {
    "colab": {
      "provenance": [],
      "toc_visible": true
    },
    "gpuClass": "standard",
    "kernelspec": {
      "display_name": "Python 3.9.2 64-bit",
      "language": "python",
      "name": "python3"
    },
    "language_info": {
      "name": "python",
      "version": "3.9.2"
    },
    "vscode": {
      "interpreter": {
        "hash": "01fd550304b9e7cfb3e25c8e3ca63c0030fb0173de6652dd3d36373edc7c122f"
      }
    }
  },
  "nbformat": 4,
  "nbformat_minor": 0
}
