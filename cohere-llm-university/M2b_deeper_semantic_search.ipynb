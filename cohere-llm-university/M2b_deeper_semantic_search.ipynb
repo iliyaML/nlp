{
 "cells": [
  {
   "cell_type": "markdown",
   "metadata": {
    "id": "tt_eCfKkxm0y"
   },
   "source": [
    "- Embeddings (Cohere, Sentence Transformer)\n",
    "- Vectorstore (Annoy)\n",
    "- Visualization (UMAP)"
   ]
  },
  {
   "cell_type": "markdown",
   "metadata": {
    "id": "65_Qg86Sl2eF"
   },
   "source": [
    "# Deeper Semantic Search\n",
    "Language models give computers the ability to search by meaning and go beyond searching by matching keywords. This capability is called semantic search. \n",
    "\n",
    "![Searching an archive using sentence embeddings](https://github.com/cohere-ai/notebooks/raw/main/notebooks/images/basic-semantic-search-overview.png?3)\n",
    "\n",
    "In this notebook, we'll build a simple semantic search engine. The applications of semantic search go beyond building a web search engine. They can empower a private search engine for internal documents or records. It can also be used to power features like StackOverflow's \"similar questions\" feature.\n",
    "\n",
    "1. Get the archive of questions\n",
    "2. [Embed](https://docs.cohere.ai/embed-reference/) the archive\n",
    "3. Search using an index and nearest neighbor search\n",
    "4. Visualize the archive based on the embeddings "
   ]
  },
  {
   "cell_type": "code",
   "execution_count": 1,
   "metadata": {
    "id": "PUaWQA1znD_g",
    "scrolled": true,
    "tags": []
   },
   "outputs": [],
   "source": [
    "# Install Cohere for embeddings, Umap to reduce embeddings to 2 dimensions,\n",
    "# Altair for visualization, Annoy for approximate nearest neighbor search\n",
    "!pip install -q cohere umap-learn altair annoy datasets tqdm sentence-transformers > /dev/null"
   ]
  },
  {
   "cell_type": "code",
   "execution_count": 2,
   "metadata": {
    "id": "pgh8_8qMMnqp"
   },
   "outputs": [],
   "source": [
    "# @title Import libraries (Run this cell to execute required code) {display-mode: \"form\"}\n",
    "import re\n",
    "\n",
    "import numpy as np\n",
    "import pandas as pd\n",
    "import umap\n",
    "import altair as alt\n",
    "import sklearn\n",
    "from sklearn.metrics.pairwise import cosine_similarity\n",
    "\n",
    "import cohere\n",
    "from tqdm import tqdm\n",
    "from datasets import load_dataset\n",
    "from annoy import AnnoyIndex\n",
    "\n",
    "from sentence_transformers import SentenceTransformer\n",
    "\n",
    "import warnings\n",
    "\n",
    "warnings.filterwarnings(\"ignore\")\n",
    "\n",
    "pd.set_option(\"display.max_colwidth\", None)"
   ]
  },
  {
   "cell_type": "code",
   "execution_count": 3,
   "metadata": {
    "colab": {
     "base_uri": "https://localhost:8080/"
    },
    "id": "fpl1Qo5ZqnT4",
    "outputId": "d927ad5e-7681-4c59-af37-ea86d3fef972"
   },
   "outputs": [
    {
     "name": "stdout",
     "output_type": "stream",
     "text": [
      "Pandas version: 1.5.3\n",
      "NumPy version: 1.22.4\n",
      "Altair version: 4.2.2\n",
      "sklearn version: 1.2.2\n",
      "UMAP version: 0.5.3\n"
     ]
    }
   ],
   "source": [
    "print(\"Pandas version:\", pd.__version__)\n",
    "print(\"NumPy version:\", np.__version__)\n",
    "print(\"Altair version:\", alt.__version__)\n",
    "print(\"sklearn version:\", sklearn.__version__)\n",
    "print(\"UMAP version:\", umap.__version__)"
   ]
  },
  {
   "cell_type": "markdown",
   "metadata": {
    "id": "2LZ7SBKSU4bx"
   },
   "source": [
    "## 1. Get The Archive of Questions\n",
    "We'll use the [trec](https://www.tensorflow.org/datasets/catalog/trec) dataset which is made up of questions and their categories."
   ]
  },
  {
   "cell_type": "code",
   "execution_count": 4,
   "metadata": {
    "colab": {
     "base_uri": "https://localhost:8080/",
     "height": 401
    },
    "id": "6_Z18T1qSicl",
    "outputId": "a8c821ee-3a0a-4496-8849-dbd05253a570"
   },
   "outputs": [
    {
     "name": "stderr",
     "output_type": "stream",
     "text": [
      "WARNING:datasets.builder:Found cached dataset trec (/root/.cache/huggingface/datasets/trec/default/2.0.0/f2469cab1b5fceec7249fda55360dfdbd92a7a5b545e91ea0f78ad108ffac1c2)\n"
     ]
    },
    {
     "data": {
      "text/html": [
       "\n",
       "  <div id=\"df-7c8a5896-588d-4762-87a2-3ef6a8958e89\">\n",
       "    <div class=\"colab-df-container\">\n",
       "      <div>\n",
       "<style scoped>\n",
       "    .dataframe tbody tr th:only-of-type {\n",
       "        vertical-align: middle;\n",
       "    }\n",
       "\n",
       "    .dataframe tbody tr th {\n",
       "        vertical-align: top;\n",
       "    }\n",
       "\n",
       "    .dataframe thead th {\n",
       "        text-align: right;\n",
       "    }\n",
       "</style>\n",
       "<table border=\"1\" class=\"dataframe\">\n",
       "  <thead>\n",
       "    <tr style=\"text-align: right;\">\n",
       "      <th></th>\n",
       "      <th>text</th>\n",
       "      <th>coarse_label</th>\n",
       "      <th>fine_label</th>\n",
       "    </tr>\n",
       "  </thead>\n",
       "  <tbody>\n",
       "    <tr>\n",
       "      <th>0</th>\n",
       "      <td>How did serfdom develop in and then leave Russia ?</td>\n",
       "      <td>2</td>\n",
       "      <td>26</td>\n",
       "    </tr>\n",
       "    <tr>\n",
       "      <th>1</th>\n",
       "      <td>What films featured the character Popeye Doyle ?</td>\n",
       "      <td>1</td>\n",
       "      <td>5</td>\n",
       "    </tr>\n",
       "    <tr>\n",
       "      <th>2</th>\n",
       "      <td>How can I find a list of celebrities ' real names ?</td>\n",
       "      <td>2</td>\n",
       "      <td>26</td>\n",
       "    </tr>\n",
       "    <tr>\n",
       "      <th>3</th>\n",
       "      <td>What fowl grabs the spotlight after the Chinese Year of the Monkey ?</td>\n",
       "      <td>1</td>\n",
       "      <td>2</td>\n",
       "    </tr>\n",
       "    <tr>\n",
       "      <th>4</th>\n",
       "      <td>What is the full form of .com ?</td>\n",
       "      <td>0</td>\n",
       "      <td>1</td>\n",
       "    </tr>\n",
       "    <tr>\n",
       "      <th>5</th>\n",
       "      <td>What contemptible scoundrel stole the cork from my lunch ?</td>\n",
       "      <td>3</td>\n",
       "      <td>29</td>\n",
       "    </tr>\n",
       "    <tr>\n",
       "      <th>6</th>\n",
       "      <td>What team did baseball 's St. Louis Browns become ?</td>\n",
       "      <td>3</td>\n",
       "      <td>28</td>\n",
       "    </tr>\n",
       "    <tr>\n",
       "      <th>7</th>\n",
       "      <td>What is the oldest profession ?</td>\n",
       "      <td>3</td>\n",
       "      <td>30</td>\n",
       "    </tr>\n",
       "    <tr>\n",
       "      <th>8</th>\n",
       "      <td>What are liver enzymes ?</td>\n",
       "      <td>2</td>\n",
       "      <td>24</td>\n",
       "    </tr>\n",
       "    <tr>\n",
       "      <th>9</th>\n",
       "      <td>Name the scar-faced bounty hunter of The Old West .</td>\n",
       "      <td>3</td>\n",
       "      <td>29</td>\n",
       "    </tr>\n",
       "  </tbody>\n",
       "</table>\n",
       "</div>\n",
       "      <button class=\"colab-df-convert\" onclick=\"convertToInteractive('df-7c8a5896-588d-4762-87a2-3ef6a8958e89')\"\n",
       "              title=\"Convert this dataframe to an interactive table.\"\n",
       "              style=\"display:none;\">\n",
       "        \n",
       "  <svg xmlns=\"http://www.w3.org/2000/svg\" height=\"24px\"viewBox=\"0 0 24 24\"\n",
       "       width=\"24px\">\n",
       "    <path d=\"M0 0h24v24H0V0z\" fill=\"none\"/>\n",
       "    <path d=\"M18.56 5.44l.94 2.06.94-2.06 2.06-.94-2.06-.94-.94-2.06-.94 2.06-2.06.94zm-11 1L8.5 8.5l.94-2.06 2.06-.94-2.06-.94L8.5 2.5l-.94 2.06-2.06.94zm10 10l.94 2.06.94-2.06 2.06-.94-2.06-.94-.94-2.06-.94 2.06-2.06.94z\"/><path d=\"M17.41 7.96l-1.37-1.37c-.4-.4-.92-.59-1.43-.59-.52 0-1.04.2-1.43.59L10.3 9.45l-7.72 7.72c-.78.78-.78 2.05 0 2.83L4 21.41c.39.39.9.59 1.41.59.51 0 1.02-.2 1.41-.59l7.78-7.78 2.81-2.81c.8-.78.8-2.07 0-2.86zM5.41 20L4 18.59l7.72-7.72 1.47 1.35L5.41 20z\"/>\n",
       "  </svg>\n",
       "      </button>\n",
       "      \n",
       "  <style>\n",
       "    .colab-df-container {\n",
       "      display:flex;\n",
       "      flex-wrap:wrap;\n",
       "      gap: 12px;\n",
       "    }\n",
       "\n",
       "    .colab-df-convert {\n",
       "      background-color: #E8F0FE;\n",
       "      border: none;\n",
       "      border-radius: 50%;\n",
       "      cursor: pointer;\n",
       "      display: none;\n",
       "      fill: #1967D2;\n",
       "      height: 32px;\n",
       "      padding: 0 0 0 0;\n",
       "      width: 32px;\n",
       "    }\n",
       "\n",
       "    .colab-df-convert:hover {\n",
       "      background-color: #E2EBFA;\n",
       "      box-shadow: 0px 1px 2px rgba(60, 64, 67, 0.3), 0px 1px 3px 1px rgba(60, 64, 67, 0.15);\n",
       "      fill: #174EA6;\n",
       "    }\n",
       "\n",
       "    [theme=dark] .colab-df-convert {\n",
       "      background-color: #3B4455;\n",
       "      fill: #D2E3FC;\n",
       "    }\n",
       "\n",
       "    [theme=dark] .colab-df-convert:hover {\n",
       "      background-color: #434B5C;\n",
       "      box-shadow: 0px 1px 3px 1px rgba(0, 0, 0, 0.15);\n",
       "      filter: drop-shadow(0px 1px 2px rgba(0, 0, 0, 0.3));\n",
       "      fill: #FFFFFF;\n",
       "    }\n",
       "  </style>\n",
       "\n",
       "      <script>\n",
       "        const buttonEl =\n",
       "          document.querySelector('#df-7c8a5896-588d-4762-87a2-3ef6a8958e89 button.colab-df-convert');\n",
       "        buttonEl.style.display =\n",
       "          google.colab.kernel.accessAllowed ? 'block' : 'none';\n",
       "\n",
       "        async function convertToInteractive(key) {\n",
       "          const element = document.querySelector('#df-7c8a5896-588d-4762-87a2-3ef6a8958e89');\n",
       "          const dataTable =\n",
       "            await google.colab.kernel.invokeFunction('convertToInteractive',\n",
       "                                                     [key], {});\n",
       "          if (!dataTable) return;\n",
       "\n",
       "          const docLinkHtml = 'Like what you see? Visit the ' +\n",
       "            '<a target=\"_blank\" href=https://colab.research.google.com/notebooks/data_table.ipynb>data table notebook</a>'\n",
       "            + ' to learn more about interactive tables.';\n",
       "          element.innerHTML = '';\n",
       "          dataTable['output_type'] = 'display_data';\n",
       "          await google.colab.output.renderOutput(dataTable, element);\n",
       "          const docLink = document.createElement('div');\n",
       "          docLink.innerHTML = docLinkHtml;\n",
       "          element.appendChild(docLink);\n",
       "        }\n",
       "      </script>\n",
       "    </div>\n",
       "  </div>\n",
       "  "
      ],
      "text/plain": [
       "                                                                   text  \\\n",
       "0                    How did serfdom develop in and then leave Russia ?   \n",
       "1                      What films featured the character Popeye Doyle ?   \n",
       "2                   How can I find a list of celebrities ' real names ?   \n",
       "3  What fowl grabs the spotlight after the Chinese Year of the Monkey ?   \n",
       "4                                       What is the full form of .com ?   \n",
       "5            What contemptible scoundrel stole the cork from my lunch ?   \n",
       "6                   What team did baseball 's St. Louis Browns become ?   \n",
       "7                                       What is the oldest profession ?   \n",
       "8                                              What are liver enzymes ?   \n",
       "9                   Name the scar-faced bounty hunter of The Old West .   \n",
       "\n",
       "   coarse_label  fine_label  \n",
       "0             2          26  \n",
       "1             1           5  \n",
       "2             2          26  \n",
       "3             1           2  \n",
       "4             0           1  \n",
       "5             3          29  \n",
       "6             3          28  \n",
       "7             3          30  \n",
       "8             2          24  \n",
       "9             3          29  "
      ]
     },
     "execution_count": 4,
     "metadata": {},
     "output_type": "execute_result"
    }
   ],
   "source": [
    "# Get dataset\n",
    "dataset = load_dataset(\"trec\", split=\"train\")\n",
    "\n",
    "# Import into a pandas dataframe, take only the first 1000 rows\n",
    "df = pd.DataFrame(dataset)[:1000]\n",
    "\n",
    "# Preview the data to ensure it has loaded correctly\n",
    "df.head(10)"
   ]
  },
  {
   "cell_type": "code",
   "execution_count": 5,
   "metadata": {
    "colab": {
     "base_uri": "https://localhost:8080/"
    },
    "id": "5801bV4qrVDJ",
    "outputId": "b00d6115-7d05-41fa-fa0d-1231ee5441be"
   },
   "outputs": [
    {
     "name": "stdout",
     "output_type": "stream",
     "text": [
      "<class 'pandas.core.frame.DataFrame'>\n",
      "RangeIndex: 1000 entries, 0 to 999\n",
      "Data columns (total 3 columns):\n",
      " #   Column        Non-Null Count  Dtype \n",
      "---  ------        --------------  ----- \n",
      " 0   text          1000 non-null   object\n",
      " 1   coarse_label  1000 non-null   int64 \n",
      " 2   fine_label    1000 non-null   int64 \n",
      "dtypes: int64(2), object(1)\n",
      "memory usage: 23.6+ KB\n"
     ]
    }
   ],
   "source": [
    "df.info()"
   ]
  },
  {
   "cell_type": "markdown",
   "metadata": {
    "id": "zrajiGkNVw7E"
   },
   "source": [
    "## 2. Embed the archive\n",
    "The next step is to embed the text of the questions."
   ]
  },
  {
   "cell_type": "markdown",
   "metadata": {
    "id": "kBKr9p9aoku1"
   },
   "source": [
    "![embedding archive texts](https://github.com/cohere-ai/notebooks/raw/main/notebooks/images/semantic-search-embed-text-archive.png)\n",
    "\n",
    "To get a thousand embeddings of this length should take about fifteen seconds."
   ]
  },
  {
   "cell_type": "markdown",
   "metadata": {
    "id": "vQHJYqIgupyd"
   },
   "source": [
    "### Cohere"
   ]
  },
  {
   "cell_type": "code",
   "execution_count": 6,
   "metadata": {
    "id": "AD7VSg88Yc75",
    "tags": []
   },
   "outputs": [],
   "source": [
    "import cohere\n",
    "\n",
    "api_key = \"\"\n",
    "co = cohere.Client(api_key)\n",
    "\n",
    "# Get the embeddings\n",
    "embeds_co = co.embed(\n",
    "    texts=list(df[\"text\"]), model=\"embed-english-v2.0\", truncate=\"RIGHT\"\n",
    ").embeddings"
   ]
  },
  {
   "cell_type": "markdown",
   "metadata": {
    "id": "WTs80O2QutNI"
   },
   "source": [
    "### Sentence Transformer"
   ]
  },
  {
   "cell_type": "code",
   "execution_count": 7,
   "metadata": {
    "id": "REIOY_Ssux8Z"
   },
   "outputs": [],
   "source": [
    "from sentence_transformers import SentenceTransformer\n",
    "\n",
    "embeds_st = SentenceTransformer(\"all-MiniLM-L6-v2\").encode(list(df[\"text\"])).tolist()"
   ]
  },
  {
   "cell_type": "markdown",
   "metadata": {
    "id": "6UK3j19Iuvgb"
   },
   "source": [
    "### Embeddings"
   ]
  },
  {
   "cell_type": "code",
   "execution_count": 8,
   "metadata": {
    "colab": {
     "base_uri": "https://localhost:8080/"
    },
    "id": "TgG_l10YY2rH",
    "outputId": "7af685a3-cebe-4d01-ce1e-a6721db13315"
   },
   "outputs": [
    {
     "data": {
      "text/plain": [
       "((1000, 4096),\n",
       " array([[ 0.49414062,  0.09405518, -0.80322266, ...,  0.41137695,\n",
       "         -0.9121094 , -0.42993164],\n",
       "        [ 0.9824219 ,  0.94189453,  0.03445435, ..., -2.0429688 ,\n",
       "         -0.23693848, -1.7714844 ],\n",
       "        [ 1.6259766 , -2.4902344 ,  1.3359375 , ...,  0.66748047,\n",
       "          1.0722656 , -1.53125   ],\n",
       "        ...,\n",
       "        [-3.6269531 ,  2.7089844 , -1.9228516 , ...,  1.7314453 ,\n",
       "         -0.35717773, -2.3710938 ],\n",
       "        [ 1.7861328 , -1.0185547 , -1.8486328 , ...,  0.9057617 ,\n",
       "          1.7705078 , -2.6074219 ],\n",
       "        [-0.3046875 ,  0.5258789 , -0.24743652, ...,  0.42407227,\n",
       "         -0.03034973, -1.7109375 ]]))"
      ]
     },
     "execution_count": 8,
     "metadata": {},
     "output_type": "execute_result"
    }
   ],
   "source": [
    "# Check the dimensions of the embeddings\n",
    "embeds = np.array(embeds_co)\n",
    "embeds.shape, embeds"
   ]
  },
  {
   "cell_type": "markdown",
   "metadata": {
    "id": "lzcDFCDePVxA"
   },
   "source": [
    "## 3. Search using an index and nearest neighbor search using Annoy\n",
    "![Building the search index from the embeddings](https://github.com/cohere-ai/notebooks/raw/main/notebooks/images/semantic-search-index.png)\n",
    "Let's now use [Annoy](https://github.com/spotify/annoy) to build an index that stores the embeddings in a way that is optimized for fast search. This approach scales well to a large number of texts (other options include [Faiss](https://github.com/facebookresearch/faiss), [ScaNN](https://github.com/google-research/google-research/tree/master/scann), and [PyNNDescent](https://github.com/lmcinnes/pynndescent)).\n",
    "\n",
    "After building the index, we can use it to retrieve the nearest neighbors either of existing questions (section 3.1), or of new questions that we embed (section 3.2)."
   ]
  },
  {
   "cell_type": "code",
   "execution_count": 9,
   "metadata": {
    "colab": {
     "base_uri": "https://localhost:8080/"
    },
    "id": "fPCuyFc8w04q",
    "outputId": "eccec085-3194-4ead-a92d-be3cafadd9ed"
   },
   "outputs": [
    {
     "data": {
      "text/plain": [
       "True"
      ]
     },
     "execution_count": 9,
     "metadata": {},
     "output_type": "execute_result"
    }
   ],
   "source": [
    "# Create the search index, pass the size of embedding\n",
    "embedding_size = embeds.shape[1]\n",
    "search_index = AnnoyIndex(embedding_size, \"angular\")\n",
    "\n",
    "# Add all the vectors to the search index\n",
    "for i in range(len(embeds)):\n",
    "    search_index.add_item(i, embeds[i])\n",
    "\n",
    "search_index.build(10)  # 10 trees\n",
    "search_index.save(\"test.ann\")"
   ]
  },
  {
   "cell_type": "markdown",
   "metadata": {
    "id": "GfIDv25K0A-0"
   },
   "source": [
    "### 3.1. Find the neighbors of an example from the dataset\n",
    "If we're only interested in measuring the distance between the questions in the dataset (no outside queries), a simple way is to calculate the distance between every pair of embeddings we have."
   ]
  },
  {
   "cell_type": "code",
   "execution_count": 10,
   "metadata": {
    "colab": {
     "base_uri": "https://localhost:8080/"
    },
    "id": "yMdcTyvIw4-u",
    "outputId": "6083fec4-746e-4e95-c4dc-a1212b83b9d0"
   },
   "outputs": [
    {
     "data": {
      "text/plain": [
       "True"
      ]
     },
     "execution_count": 10,
     "metadata": {},
     "output_type": "execute_result"
    }
   ],
   "source": [
    "search_index = AnnoyIndex(embedding_size, \"angular\")\n",
    "search_index.load(\"test.ann\")  # super fast, will just mmap the file"
   ]
  },
  {
   "cell_type": "code",
   "execution_count": 11,
   "metadata": {
    "colab": {
     "base_uri": "https://localhost:8080/",
     "height": 367
    },
    "id": "AuBw_S7TyUiS",
    "outputId": "86f216f2-f17c-493b-9ca7-231b11f0a01f"
   },
   "outputs": [
    {
     "name": "stdout",
     "output_type": "stream",
     "text": [
      "Question:'What are bear and bull markets ?'\n",
      "Nearest neighbors:\n"
     ]
    },
    {
     "data": {
      "text/html": [
       "\n",
       "  <div id=\"df-ef9e143c-e7b7-4f29-b6f0-4732952c7e70\">\n",
       "    <div class=\"colab-df-container\">\n",
       "      <div>\n",
       "<style scoped>\n",
       "    .dataframe tbody tr th:only-of-type {\n",
       "        vertical-align: middle;\n",
       "    }\n",
       "\n",
       "    .dataframe tbody tr th {\n",
       "        vertical-align: top;\n",
       "    }\n",
       "\n",
       "    .dataframe thead th {\n",
       "        text-align: right;\n",
       "    }\n",
       "</style>\n",
       "<table border=\"1\" class=\"dataframe\">\n",
       "  <thead>\n",
       "    <tr style=\"text-align: right;\">\n",
       "      <th></th>\n",
       "      <th>texts</th>\n",
       "      <th>distance</th>\n",
       "    </tr>\n",
       "  </thead>\n",
       "  <tbody>\n",
       "    <tr>\n",
       "      <th>614</th>\n",
       "      <td>What animals do you find in the stock market ?</td>\n",
       "      <td>0.882663</td>\n",
       "    </tr>\n",
       "    <tr>\n",
       "      <th>137</th>\n",
       "      <td>What are equity securities ?</td>\n",
       "      <td>1.057621</td>\n",
       "    </tr>\n",
       "    <tr>\n",
       "      <th>307</th>\n",
       "      <td>What does NASDAQ stand for ?</td>\n",
       "      <td>1.077861</td>\n",
       "    </tr>\n",
       "    <tr>\n",
       "      <th>547</th>\n",
       "      <td>Where can stocks be traded on-line ?</td>\n",
       "      <td>1.090778</td>\n",
       "    </tr>\n",
       "    <tr>\n",
       "      <th>513</th>\n",
       "      <td>What do economists do ?</td>\n",
       "      <td>1.121698</td>\n",
       "    </tr>\n",
       "    <tr>\n",
       "      <th>363</th>\n",
       "      <td>What does it mean `` Rupee Depreciates '' ?</td>\n",
       "      <td>1.130840</td>\n",
       "    </tr>\n",
       "    <tr>\n",
       "      <th>922</th>\n",
       "      <td>What is the difference between a median and a mean ?</td>\n",
       "      <td>1.132407</td>\n",
       "    </tr>\n",
       "    <tr>\n",
       "      <th>601</th>\n",
       "      <td>What is `` the bear of beers '' ?</td>\n",
       "      <td>1.143383</td>\n",
       "    </tr>\n",
       "    <tr>\n",
       "      <th>932</th>\n",
       "      <td>Why did the world enter a global depression in 1929 ?</td>\n",
       "      <td>1.152521</td>\n",
       "    </tr>\n",
       "  </tbody>\n",
       "</table>\n",
       "</div>\n",
       "      <button class=\"colab-df-convert\" onclick=\"convertToInteractive('df-ef9e143c-e7b7-4f29-b6f0-4732952c7e70')\"\n",
       "              title=\"Convert this dataframe to an interactive table.\"\n",
       "              style=\"display:none;\">\n",
       "        \n",
       "  <svg xmlns=\"http://www.w3.org/2000/svg\" height=\"24px\"viewBox=\"0 0 24 24\"\n",
       "       width=\"24px\">\n",
       "    <path d=\"M0 0h24v24H0V0z\" fill=\"none\"/>\n",
       "    <path d=\"M18.56 5.44l.94 2.06.94-2.06 2.06-.94-2.06-.94-.94-2.06-.94 2.06-2.06.94zm-11 1L8.5 8.5l.94-2.06 2.06-.94-2.06-.94L8.5 2.5l-.94 2.06-2.06.94zm10 10l.94 2.06.94-2.06 2.06-.94-2.06-.94-.94-2.06-.94 2.06-2.06.94z\"/><path d=\"M17.41 7.96l-1.37-1.37c-.4-.4-.92-.59-1.43-.59-.52 0-1.04.2-1.43.59L10.3 9.45l-7.72 7.72c-.78.78-.78 2.05 0 2.83L4 21.41c.39.39.9.59 1.41.59.51 0 1.02-.2 1.41-.59l7.78-7.78 2.81-2.81c.8-.78.8-2.07 0-2.86zM5.41 20L4 18.59l7.72-7.72 1.47 1.35L5.41 20z\"/>\n",
       "  </svg>\n",
       "      </button>\n",
       "      \n",
       "  <style>\n",
       "    .colab-df-container {\n",
       "      display:flex;\n",
       "      flex-wrap:wrap;\n",
       "      gap: 12px;\n",
       "    }\n",
       "\n",
       "    .colab-df-convert {\n",
       "      background-color: #E8F0FE;\n",
       "      border: none;\n",
       "      border-radius: 50%;\n",
       "      cursor: pointer;\n",
       "      display: none;\n",
       "      fill: #1967D2;\n",
       "      height: 32px;\n",
       "      padding: 0 0 0 0;\n",
       "      width: 32px;\n",
       "    }\n",
       "\n",
       "    .colab-df-convert:hover {\n",
       "      background-color: #E2EBFA;\n",
       "      box-shadow: 0px 1px 2px rgba(60, 64, 67, 0.3), 0px 1px 3px 1px rgba(60, 64, 67, 0.15);\n",
       "      fill: #174EA6;\n",
       "    }\n",
       "\n",
       "    [theme=dark] .colab-df-convert {\n",
       "      background-color: #3B4455;\n",
       "      fill: #D2E3FC;\n",
       "    }\n",
       "\n",
       "    [theme=dark] .colab-df-convert:hover {\n",
       "      background-color: #434B5C;\n",
       "      box-shadow: 0px 1px 3px 1px rgba(0, 0, 0, 0.15);\n",
       "      filter: drop-shadow(0px 1px 2px rgba(0, 0, 0, 0.3));\n",
       "      fill: #FFFFFF;\n",
       "    }\n",
       "  </style>\n",
       "\n",
       "      <script>\n",
       "        const buttonEl =\n",
       "          document.querySelector('#df-ef9e143c-e7b7-4f29-b6f0-4732952c7e70 button.colab-df-convert');\n",
       "        buttonEl.style.display =\n",
       "          google.colab.kernel.accessAllowed ? 'block' : 'none';\n",
       "\n",
       "        async function convertToInteractive(key) {\n",
       "          const element = document.querySelector('#df-ef9e143c-e7b7-4f29-b6f0-4732952c7e70');\n",
       "          const dataTable =\n",
       "            await google.colab.kernel.invokeFunction('convertToInteractive',\n",
       "                                                     [key], {});\n",
       "          if (!dataTable) return;\n",
       "\n",
       "          const docLinkHtml = 'Like what you see? Visit the ' +\n",
       "            '<a target=\"_blank\" href=https://colab.research.google.com/notebooks/data_table.ipynb>data table notebook</a>'\n",
       "            + ' to learn more about interactive tables.';\n",
       "          element.innerHTML = '';\n",
       "          dataTable['output_type'] = 'display_data';\n",
       "          await google.colab.output.renderOutput(dataTable, element);\n",
       "          const docLink = document.createElement('div');\n",
       "          docLink.innerHTML = docLinkHtml;\n",
       "          element.appendChild(docLink);\n",
       "        }\n",
       "      </script>\n",
       "    </div>\n",
       "  </div>\n",
       "  "
      ],
      "text/plain": [
       "                                                     texts  distance\n",
       "614         What animals do you find in the stock market ?  0.882663\n",
       "137                           What are equity securities ?  1.057621\n",
       "307                           What does NASDAQ stand for ?  1.077861\n",
       "547                   Where can stocks be traded on-line ?  1.090778\n",
       "513                                What do economists do ?  1.121698\n",
       "363            What does it mean `` Rupee Depreciates '' ?  1.130840\n",
       "922   What is the difference between a median and a mean ?  1.132407\n",
       "601                      What is `` the bear of beers '' ?  1.143383\n",
       "932  Why did the world enter a global depression in 1929 ?  1.152521"
      ]
     },
     "execution_count": 11,
     "metadata": {},
     "output_type": "execute_result"
    }
   ],
   "source": [
    "# Choose an example (we'll retrieve others similar to it)\n",
    "example_id = 92\n",
    "\n",
    "# Retrieve nearest neighbors\n",
    "similar_item_ids = search_index.get_nns_by_item(example_id, 10, include_distances=True)\n",
    "# Format and print the text and distances\n",
    "results = pd.DataFrame(\n",
    "    data={\n",
    "        \"texts\": df.iloc[similar_item_ids[0]][\"text\"],\n",
    "        \"distance\": similar_item_ids[1],\n",
    "    }\n",
    ").drop(example_id)\n",
    "\n",
    "print(f\"Question:'{df.iloc[example_id]['text']}'\\nNearest neighbors:\")\n",
    "results"
   ]
  },
  {
   "cell_type": "markdown",
   "metadata": {
    "id": "bI4kGnnPcu90"
   },
   "source": [
    "### 3.2. Find the neighbors of a user query\n",
    "We're not limited to searching using existing items. If we get a query, we can embed it and find its nearest neighbors from the dataset."
   ]
  },
  {
   "cell_type": "code",
   "execution_count": 12,
   "metadata": {
    "colab": {
     "base_uri": "https://localhost:8080/",
     "height": 399
    },
    "id": "-eogJaFOyxt0",
    "outputId": "71c8fe9e-0067-468a-d91f-96c4f698ee8b"
   },
   "outputs": [
    {
     "name": "stdout",
     "output_type": "stream",
     "text": [
      "Query:'What is the tallest mountain in the world?'\n",
      "Nearest neighbors:\n"
     ]
    },
    {
     "data": {
      "text/html": [
       "\n",
       "  <div id=\"df-6c6ae970-c551-45f4-85cf-84f0f571e063\">\n",
       "    <div class=\"colab-df-container\">\n",
       "      <div>\n",
       "<style scoped>\n",
       "    .dataframe tbody tr th:only-of-type {\n",
       "        vertical-align: middle;\n",
       "    }\n",
       "\n",
       "    .dataframe tbody tr th {\n",
       "        vertical-align: top;\n",
       "    }\n",
       "\n",
       "    .dataframe thead th {\n",
       "        text-align: right;\n",
       "    }\n",
       "</style>\n",
       "<table border=\"1\" class=\"dataframe\">\n",
       "  <thead>\n",
       "    <tr style=\"text-align: right;\">\n",
       "      <th></th>\n",
       "      <th>texts</th>\n",
       "      <th>distance</th>\n",
       "    </tr>\n",
       "  </thead>\n",
       "  <tbody>\n",
       "    <tr>\n",
       "      <th>236</th>\n",
       "      <td>What is the name of the tallest mountain in the world ?</td>\n",
       "      <td>0.483461</td>\n",
       "    </tr>\n",
       "    <tr>\n",
       "      <th>670</th>\n",
       "      <td>What is the highest mountain in the world ?</td>\n",
       "      <td>0.545035</td>\n",
       "    </tr>\n",
       "    <tr>\n",
       "      <th>412</th>\n",
       "      <td>What was the highest mountain on earth before Mount Everest was discovered ?</td>\n",
       "      <td>0.795837</td>\n",
       "    </tr>\n",
       "    <tr>\n",
       "      <th>435</th>\n",
       "      <td>What is the highest peak in Africa ?</td>\n",
       "      <td>0.917477</td>\n",
       "    </tr>\n",
       "    <tr>\n",
       "      <th>109</th>\n",
       "      <td>Where is the highest point in Japan ?</td>\n",
       "      <td>0.970112</td>\n",
       "    </tr>\n",
       "    <tr>\n",
       "      <th>907</th>\n",
       "      <td>What mountain range is traversed by the highest railroad in the world ?</td>\n",
       "      <td>0.985555</td>\n",
       "    </tr>\n",
       "    <tr>\n",
       "      <th>901</th>\n",
       "      <td>What 's the longest river in the world ?</td>\n",
       "      <td>1.002368</td>\n",
       "    </tr>\n",
       "    <tr>\n",
       "      <th>114</th>\n",
       "      <td>What is the largest snake in the world ?</td>\n",
       "      <td>1.036423</td>\n",
       "    </tr>\n",
       "    <tr>\n",
       "      <th>27</th>\n",
       "      <td>What is the highest waterfall in the United States ?</td>\n",
       "      <td>1.041485</td>\n",
       "    </tr>\n",
       "    <tr>\n",
       "      <th>354</th>\n",
       "      <td>What ocean is the largest in the world ?</td>\n",
       "      <td>1.060601</td>\n",
       "    </tr>\n",
       "  </tbody>\n",
       "</table>\n",
       "</div>\n",
       "      <button class=\"colab-df-convert\" onclick=\"convertToInteractive('df-6c6ae970-c551-45f4-85cf-84f0f571e063')\"\n",
       "              title=\"Convert this dataframe to an interactive table.\"\n",
       "              style=\"display:none;\">\n",
       "        \n",
       "  <svg xmlns=\"http://www.w3.org/2000/svg\" height=\"24px\"viewBox=\"0 0 24 24\"\n",
       "       width=\"24px\">\n",
       "    <path d=\"M0 0h24v24H0V0z\" fill=\"none\"/>\n",
       "    <path d=\"M18.56 5.44l.94 2.06.94-2.06 2.06-.94-2.06-.94-.94-2.06-.94 2.06-2.06.94zm-11 1L8.5 8.5l.94-2.06 2.06-.94-2.06-.94L8.5 2.5l-.94 2.06-2.06.94zm10 10l.94 2.06.94-2.06 2.06-.94-2.06-.94-.94-2.06-.94 2.06-2.06.94z\"/><path d=\"M17.41 7.96l-1.37-1.37c-.4-.4-.92-.59-1.43-.59-.52 0-1.04.2-1.43.59L10.3 9.45l-7.72 7.72c-.78.78-.78 2.05 0 2.83L4 21.41c.39.39.9.59 1.41.59.51 0 1.02-.2 1.41-.59l7.78-7.78 2.81-2.81c.8-.78.8-2.07 0-2.86zM5.41 20L4 18.59l7.72-7.72 1.47 1.35L5.41 20z\"/>\n",
       "  </svg>\n",
       "      </button>\n",
       "      \n",
       "  <style>\n",
       "    .colab-df-container {\n",
       "      display:flex;\n",
       "      flex-wrap:wrap;\n",
       "      gap: 12px;\n",
       "    }\n",
       "\n",
       "    .colab-df-convert {\n",
       "      background-color: #E8F0FE;\n",
       "      border: none;\n",
       "      border-radius: 50%;\n",
       "      cursor: pointer;\n",
       "      display: none;\n",
       "      fill: #1967D2;\n",
       "      height: 32px;\n",
       "      padding: 0 0 0 0;\n",
       "      width: 32px;\n",
       "    }\n",
       "\n",
       "    .colab-df-convert:hover {\n",
       "      background-color: #E2EBFA;\n",
       "      box-shadow: 0px 1px 2px rgba(60, 64, 67, 0.3), 0px 1px 3px 1px rgba(60, 64, 67, 0.15);\n",
       "      fill: #174EA6;\n",
       "    }\n",
       "\n",
       "    [theme=dark] .colab-df-convert {\n",
       "      background-color: #3B4455;\n",
       "      fill: #D2E3FC;\n",
       "    }\n",
       "\n",
       "    [theme=dark] .colab-df-convert:hover {\n",
       "      background-color: #434B5C;\n",
       "      box-shadow: 0px 1px 3px 1px rgba(0, 0, 0, 0.15);\n",
       "      filter: drop-shadow(0px 1px 2px rgba(0, 0, 0, 0.3));\n",
       "      fill: #FFFFFF;\n",
       "    }\n",
       "  </style>\n",
       "\n",
       "      <script>\n",
       "        const buttonEl =\n",
       "          document.querySelector('#df-6c6ae970-c551-45f4-85cf-84f0f571e063 button.colab-df-convert');\n",
       "        buttonEl.style.display =\n",
       "          google.colab.kernel.accessAllowed ? 'block' : 'none';\n",
       "\n",
       "        async function convertToInteractive(key) {\n",
       "          const element = document.querySelector('#df-6c6ae970-c551-45f4-85cf-84f0f571e063');\n",
       "          const dataTable =\n",
       "            await google.colab.kernel.invokeFunction('convertToInteractive',\n",
       "                                                     [key], {});\n",
       "          if (!dataTable) return;\n",
       "\n",
       "          const docLinkHtml = 'Like what you see? Visit the ' +\n",
       "            '<a target=\"_blank\" href=https://colab.research.google.com/notebooks/data_table.ipynb>data table notebook</a>'\n",
       "            + ' to learn more about interactive tables.';\n",
       "          element.innerHTML = '';\n",
       "          dataTable['output_type'] = 'display_data';\n",
       "          await google.colab.output.renderOutput(dataTable, element);\n",
       "          const docLink = document.createElement('div');\n",
       "          docLink.innerHTML = docLinkHtml;\n",
       "          element.appendChild(docLink);\n",
       "        }\n",
       "      </script>\n",
       "    </div>\n",
       "  </div>\n",
       "  "
      ],
      "text/plain": [
       "                                                                            texts  \\\n",
       "236                       What is the name of the tallest mountain in the world ?   \n",
       "670                                   What is the highest mountain in the world ?   \n",
       "412  What was the highest mountain on earth before Mount Everest was discovered ?   \n",
       "435                                          What is the highest peak in Africa ?   \n",
       "109                                         Where is the highest point in Japan ?   \n",
       "907       What mountain range is traversed by the highest railroad in the world ?   \n",
       "901                                      What 's the longest river in the world ?   \n",
       "114                                      What is the largest snake in the world ?   \n",
       "27                           What is the highest waterfall in the United States ?   \n",
       "354                                      What ocean is the largest in the world ?   \n",
       "\n",
       "     distance  \n",
       "236  0.483461  \n",
       "670  0.545035  \n",
       "412  0.795837  \n",
       "435  0.917477  \n",
       "109  0.970112  \n",
       "907  0.985555  \n",
       "901  1.002368  \n",
       "114  1.036423  \n",
       "27   1.041485  \n",
       "354  1.060601  "
      ]
     },
     "execution_count": 12,
     "metadata": {},
     "output_type": "execute_result"
    }
   ],
   "source": [
    "query = \"What is the tallest mountain in the world?\"\n",
    "\n",
    "# Get the query's embedding\n",
    "query_embed = co.embed(texts=[query], model=\"large\", truncate=\"RIGHT\").embeddings\n",
    "\n",
    "# Retrieve the nearest neighbors\n",
    "similar_item_ids = search_index.get_nns_by_vector(\n",
    "    query_embed[0], 10, include_distances=True\n",
    ")\n",
    "# Format the results\n",
    "results = pd.DataFrame(\n",
    "    data={\n",
    "        \"texts\": df.iloc[similar_item_ids[0]][\"text\"],\n",
    "        \"distance\": similar_item_ids[1],\n",
    "    }\n",
    ")\n",
    "\n",
    "\n",
    "print(f\"Query:'{query}'\\nNearest neighbors:\")\n",
    "results"
   ]
  },
  {
   "cell_type": "markdown",
   "metadata": {
    "id": "4tN7fGDst7rh"
   },
   "source": [
    "## 4. Visualizing the archive using UMAP\n",
    "Finally, let's plot out all the questions onto a 2D chart so you're able to visualize the semantic similarities of this dataset!"
   ]
  },
  {
   "cell_type": "code",
   "execution_count": 13,
   "metadata": {
    "colab": {
     "base_uri": "https://localhost:8080/",
     "height": 468
    },
    "id": "BpWn78FwZ70f",
    "outputId": "a7155670-9bd6-448b-c48b-5d26760aec27"
   },
   "outputs": [
    {
     "data": {
      "text/html": [
       "\n",
       "<div id=\"altair-viz-c7a6f35603134a7db7bd1fd382fa25a3\"></div>\n",
       "<script type=\"text/javascript\">\n",
       "  var VEGA_DEBUG = (typeof VEGA_DEBUG == \"undefined\") ? {} : VEGA_DEBUG;\n",
       "  (function(spec, embedOpt){\n",
       "    let outputDiv = document.currentScript.previousElementSibling;\n",
       "    if (outputDiv.id !== \"altair-viz-c7a6f35603134a7db7bd1fd382fa25a3\") {\n",
       "      outputDiv = document.getElementById(\"altair-viz-c7a6f35603134a7db7bd1fd382fa25a3\");\n",
       "    }\n",
       "    const paths = {\n",
       "      \"vega\": \"https://cdn.jsdelivr.net/npm//vega@5?noext\",\n",
       "      \"vega-lib\": \"https://cdn.jsdelivr.net/npm//vega-lib?noext\",\n",
       "      \"vega-lite\": \"https://cdn.jsdelivr.net/npm//vega-lite@4.17.0?noext\",\n",
       "      \"vega-embed\": \"https://cdn.jsdelivr.net/npm//vega-embed@6?noext\",\n",
       "    };\n",
       "\n",
       "    function maybeLoadScript(lib, version) {\n",
       "      var key = `${lib.replace(\"-\", \"\")}_version`;\n",
       "      return (VEGA_DEBUG[key] == version) ?\n",
       "        Promise.resolve(paths[lib]) :\n",
       "        new Promise(function(resolve, reject) {\n",
       "          var s = document.createElement('script');\n",
       "          document.getElementsByTagName(\"head\")[0].appendChild(s);\n",
       "          s.async = true;\n",
       "          s.onload = () => {\n",
       "            VEGA_DEBUG[key] = version;\n",
       "            return resolve(paths[lib]);\n",
       "          };\n",
       "          s.onerror = () => reject(`Error loading script: ${paths[lib]}`);\n",
       "          s.src = paths[lib];\n",
       "        });\n",
       "    }\n",
       "\n",
       "    function showError(err) {\n",
       "      outputDiv.innerHTML = `<div class=\"error\" style=\"color:red;\">${err}</div>`;\n",
       "      throw err;\n",
       "    }\n",
       "\n",
       "    function displayChart(vegaEmbed) {\n",
       "      vegaEmbed(outputDiv, spec, embedOpt)\n",
       "        .catch(err => showError(`Javascript Error: ${err.message}<br>This usually means there's a typo in your chart specification. See the javascript console for the full traceback.`));\n",
       "    }\n",
       "\n",
       "    if(typeof define === \"function\" && define.amd) {\n",
       "      requirejs.config({paths});\n",
       "      require([\"vega-embed\"], displayChart, err => showError(`Error loading script: ${err.message}`));\n",
       "    } else {\n",
       "      maybeLoadScript(\"vega\", \"5\")\n",
       "        .then(() => maybeLoadScript(\"vega-lite\", \"4.17.0\"))\n",
       "        .then(() => maybeLoadScript(\"vega-embed\", \"6\"))\n",
       "        .catch(showError)\n",
       "        .then(() => displayChart(vegaEmbed));\n",
       "    }\n",
       "  })({\"config\": {\"view\": {\"continuousWidth\": 400, \"continuousHeight\": 300}}, \"data\": {\"name\": \"data-1c7fc510c9ae61c642cfa21b4bbb9d36\"}, \"mark\": {\"type\": \"circle\", \"size\": 60}, \"encoding\": {\"tooltip\": [{\"field\": \"text\", \"type\": \"nominal\"}], \"x\": {\"field\": \"x\", \"scale\": {\"zero\": false}, \"type\": \"quantitative\"}, \"y\": {\"field\": \"y\", \"scale\": {\"zero\": false}, \"type\": \"quantitative\"}}, \"height\": 400, \"selection\": {\"selector001\": {\"type\": \"interval\", \"bind\": \"scales\", \"encodings\": [\"x\", \"y\"]}}, \"width\": 700, \"$schema\": \"https://vega.github.io/schema/vega-lite/v4.17.0.json\", \"datasets\": {\"data-1c7fc510c9ae61c642cfa21b4bbb9d36\": [{\"text\": \"How did serfdom develop in and then leave Russia ?\", \"x\": 6.568758487701416, \"y\": 4.587321758270264}, {\"text\": \"What films featured the character Popeye Doyle ?\", \"x\": 8.739259719848633, \"y\": 4.6824493408203125}, {\"text\": \"How can I find a list of celebrities ' real names ?\", \"x\": 5.938165187835693, \"y\": 5.348723411560059}, {\"text\": \"What fowl grabs the spotlight after the Chinese Year of the Monkey ?\", \"x\": 3.0610971450805664, \"y\": 1.569532036781311}, {\"text\": \"What is the full form of .com ?\", \"x\": 4.950586318969727, \"y\": 4.8113861083984375}, {\"text\": \"What contemptible scoundrel stole the cork from my lunch ?\", \"x\": 5.477956295013428, \"y\": 3.2307608127593994}, {\"text\": \"What team did baseball 's St. Louis Browns become ?\", \"x\": 6.650428295135498, \"y\": 2.9150397777557373}, {\"text\": \"What is the oldest profession ?\", \"x\": 5.95282506942749, \"y\": 3.831076145172119}, {\"text\": \"What are liver enzymes ?\", \"x\": 2.7440521717071533, \"y\": 3.2225215435028076}, {\"text\": \"Name the scar-faced bounty hunter of The Old West .\", \"x\": 7.864097595214844, \"y\": 3.4743363857269287}, {\"text\": \"When was Ozzy Osbourne born ?\", \"x\": 7.902258396148682, \"y\": 1.7263388633728027}, {\"text\": \"Why do heavier objects travel downhill faster ?\", \"x\": 3.1135311126708984, \"y\": 3.54103946685791}, {\"text\": \"Who was The Pride of the Yankees ?\", \"x\": 6.809957027435303, \"y\": 3.287235975265503}, {\"text\": \"Who killed Gandhi ?\", \"x\": 8.3265380859375, \"y\": 2.3767600059509277}, {\"text\": \"What is considered the costliest disaster the insurance industry has ever faced ?\", \"x\": 8.28454875946045, \"y\": 1.6026482582092285}, {\"text\": \"What sprawling U.S. state boasts the most airports ?\", \"x\": 5.6256256103515625, \"y\": 1.3549708127975464}, {\"text\": \"What did the only repealed amendment to the U.S. Constitution deal with ?\", \"x\": 6.112397193908691, \"y\": 4.4620490074157715}, {\"text\": \"How many Jews were executed in concentration camps during WWII ?\", \"x\": 7.052797317504883, \"y\": 1.9541419744491577}, {\"text\": \"What is `` Nine Inch Nails '' ?\", \"x\": 3.7420904636383057, \"y\": 4.520707607269287}, {\"text\": \"What is an annotated bibliography ?\", \"x\": 3.210036039352417, \"y\": 4.605534553527832}, {\"text\": \"What is the date of Boxing Day ?\", \"x\": 7.752246856689453, \"y\": 0.8819519877433777}, {\"text\": \"What articles of clothing are tokens in Monopoly ?\", \"x\": 4.727811336517334, \"y\": 2.8473784923553467}, {\"text\": \"Name 11 famous martyrs .\", \"x\": 7.250340938568115, \"y\": 1.9744622707366943}, {\"text\": \"What 's the Olympic motto ?\", \"x\": 4.236404895782471, \"y\": 5.427032947540283}, {\"text\": \"What is the origin of the name ` Scarlett ' ?\", \"x\": 3.7054593563079834, \"y\": 5.964395046234131}, {\"text\": \"What 's the second-most-used vowel in English ?\", \"x\": 3.513695001602173, \"y\": 5.2361650466918945}, {\"text\": \"Who was the inventor of silly putty ?\", \"x\": 5.765461444854736, \"y\": 3.356137990951538}, {\"text\": \"What is the highest waterfall in the United States ?\", \"x\": 4.928404331207275, \"y\": 0.9731346964836121}, {\"text\": \"Name a golf course in Myrtle Beach .\", \"x\": 6.119033336639404, \"y\": 2.7639174461364746}, {\"text\": \"Which two states enclose Chesapeake Bay ?\", \"x\": 5.748585224151611, \"y\": 1.4213446378707886}, {\"text\": \"What does the abbreviation AIDS stand for ?\", \"x\": 4.2830047607421875, \"y\": 4.851248264312744}, {\"text\": \"What does a spermologer collect ?\", \"x\": 3.713469982147217, \"y\": 2.310152530670166}, {\"text\": \"How many points make up a perfect fivepin bowling score ?\", \"x\": 4.386740684509277, \"y\": 2.3410420417785645}, {\"text\": \"Which company that manufactures video-game hardware sells the `` super system '' ?\", \"x\": 5.251347541809082, \"y\": 4.038480758666992}, {\"text\": \"How many Community Chest cards are there in Monopoly ?\", \"x\": 4.853513717651367, \"y\": 2.438304901123047}, {\"text\": \"What do Mormons believe ?\", \"x\": 4.3631591796875, \"y\": 5.301896572113037}, {\"text\": \"When did the neanderthal man live ?\", \"x\": 4.769034385681152, \"y\": 0.6082690954208374}, {\"text\": \"In what religion was Isis the nature goddess ?\", \"x\": 4.209111213684082, \"y\": 5.608619689941406}, {\"text\": \"Where do the adventures of `` The Swiss Family Robinson '' take place ?\", \"x\": 6.650858402252197, \"y\": 1.3574025630950928}, {\"text\": \"What relative of the racoon is sometimes known as the cat-bear ?\", \"x\": 2.636850357055664, \"y\": 1.7796064615249634}, {\"text\": \"How can I register my website in Yahoo for free ?\", \"x\": 5.453266620635986, \"y\": 4.80470609664917}, {\"text\": \"What was cash-conscious Colonel Edwin L. Drake the first to drill ?\", \"x\": 6.285634994506836, \"y\": 3.499995231628418}, {\"text\": \"How many people in the world speak French ?\", \"x\": 6.211417198181152, \"y\": 0.2867608666419983}, {\"text\": \"How many inches over six feet is the Venus de Milo ?\", \"x\": 4.189688682556152, \"y\": 1.6541072130203247}, {\"text\": \"How do they find or choose witnesses to an execution ?\", \"x\": 6.884777069091797, \"y\": 1.8955501317977905}, {\"text\": \"What 1920s cowboy star rode Tony the Wonder Horse ?\", \"x\": 8.287420272827148, \"y\": 4.154706954956055}, {\"text\": \"What cocktail inspired John Doxat to write the book Stirred-Not Shaken ?\", \"x\": 4.557820796966553, \"y\": 3.6484031677246094}, {\"text\": \"What ISPs exist in the Caribbean ?\", \"x\": 5.1512298583984375, \"y\": 0.1476484090089798}, {\"text\": \"How do you ask a total stranger out on a date ?\", \"x\": 5.610040187835693, \"y\": 5.1409783363342285}, {\"text\": \"What weapon is the mythological character Apollo most proficient with ?\", \"x\": 5.377408027648926, \"y\": 3.836143732070923}, {\"text\": \"What country do the Galapagos Islands belong to ?\", \"x\": 5.353893756866455, \"y\": -0.01239089760929346}, {\"text\": \"What is ethology ?\", \"x\": 3.0445618629455566, \"y\": 4.474058151245117}, {\"text\": \"Who was the prophet of the Muslim people ?\", \"x\": 7.2693257331848145, \"y\": 1.7751954793930054}, {\"text\": \"Where did the term `` 86ed '' come from ?\", \"x\": 3.7802867889404297, \"y\": 5.193150520324707}, {\"text\": \"Who is Snoopy 's arch-enemy ?\", \"x\": 8.238615989685059, \"y\": 4.055080890655518}, {\"text\": \"What is the nature of learning ?\", \"x\": 2.9925215244293213, \"y\": 4.48968505859375}, {\"text\": \"What 's the only color Johnny Cash wears on stage ?\", \"x\": 3.537929058074951, \"y\": 2.775407552719116}, {\"text\": \"What 's the term for a young fox ?\", \"x\": 2.641855478286743, \"y\": 2.1039810180664062}, {\"text\": \"What U.S. state lived under six flags ?\", \"x\": 5.689413547515869, \"y\": 1.4790618419647217}, {\"text\": \"What is the Kashmir issue ?\", \"x\": 4.75579833984375, \"y\": 1.0829684734344482}, {\"text\": \"Where is the Loop ?\", \"x\": 5.2577314376831055, \"y\": 0.8947346210479736}, {\"text\": \"What does `` extended definition '' mean and how would one write a paper on it ?\", \"x\": 3.2775192260742188, \"y\": 4.785502910614014}, {\"text\": \"What country 's capital is Tirana ?\", \"x\": 5.91402006149292, \"y\": 0.42664486169815063}, {\"text\": \"What is titanium ?\", \"x\": 3.3244473934173584, \"y\": 4.031940460205078}, {\"text\": \"Who do Herb and Tootsie live next door to ?\", \"x\": 8.44970417022705, \"y\": 3.905050754547119}, {\"text\": \"Which city has the oldest relationship as a sister city with Los Angeles ?\", \"x\": 6.119690895080566, \"y\": 1.2184979915618896}, {\"text\": \"What is a caldera ?\", \"x\": 2.976740598678589, \"y\": 3.9389126300811768}, {\"text\": \"Why do people get calluses ?\", \"x\": 2.3632078170776367, \"y\": 3.5388405323028564}, {\"text\": \"What are the names of the tourist attractions in Reims ?\", \"x\": 6.0206990242004395, \"y\": 0.625433623790741}, {\"text\": \"What are Cushman and Wakefield known for ?\", \"x\": 5.267852306365967, \"y\": 4.055556297302246}, {\"text\": \"What body of water does the Danube River flow into ?\", \"x\": 4.824331283569336, \"y\": 0.7543484568595886}, {\"text\": \"Who is the founder of Scientology ?\", \"x\": 7.133244037628174, \"y\": 3.4057986736297607}, {\"text\": \"What does the six-footed Musca domestica become when it enters a house ?\", \"x\": 2.589529514312744, \"y\": 2.282135248184204}, {\"text\": \"What is the history of skateboarding ?\", \"x\": 5.616037845611572, \"y\": 2.956315279006958}, {\"text\": \"Who starred in Singing in the Rain and The Singing Nun ?\", \"x\": 8.714656829833984, \"y\": 4.62692928314209}, {\"text\": \"How do I make fuel bricks from recycled newspaper ?\", \"x\": 4.209790229797363, \"y\": 2.9091074466705322}, {\"text\": \"What 19th-century painter died in the Marquesas Islands ?\", \"x\": 7.074451446533203, \"y\": 0.4640691578388214}, {\"text\": \"The corpus callosum is in what part of the body ?\", \"x\": 2.280117988586426, \"y\": 3.1780343055725098}, {\"text\": \"How do I log on to home page at Headquarters U.S. European Command ?\", \"x\": 5.6064229011535645, \"y\": 4.949395179748535}, {\"text\": \"What country did the Nazis occupy for 1 , CD NNS IN NNP NNP NNP .\", \"x\": 7.458048343658447, \"y\": 1.5795660018920898}, {\"text\": \"What is Nebraska 's most valuable resource ?\", \"x\": 5.3261590003967285, \"y\": 1.2354973554611206}, {\"text\": \"How many species of the Great White shark are there ?\", \"x\": 3.1675519943237305, \"y\": 1.6775070428848267}, {\"text\": \"What is the origin of head lice ?\", \"x\": 2.0196475982666016, \"y\": 3.5837972164154053}, {\"text\": \"What is the nickname for the state of Mississippi ?\", \"x\": 5.253399848937988, \"y\": 1.5545997619628906}, {\"text\": \"What was the first domesticated bird ?\", \"x\": 2.947645664215088, \"y\": 1.8389896154403687}, {\"text\": \"How many villi are found in the small intestine ?\", \"x\": 3.7580947875976562, \"y\": 2.180328369140625}, {\"text\": \"What country did King Wenceslas rule ?\", \"x\": 6.927204608917236, \"y\": 0.962307333946228}, {\"text\": \"What is a fear of shadows ?\", \"x\": 1.6582908630371094, \"y\": 4.052834510803223}, {\"text\": \"Who were the five Marx brothers ?\", \"x\": 8.481828689575195, \"y\": 3.8433468341827393}, {\"text\": \"In which year was New Zealand excluded from the ANZUS alliance ?\", \"x\": 7.620835781097412, \"y\": 1.64397394657135}, {\"text\": \"When did CNN begin broadcasting ?\", \"x\": 6.265604496002197, \"y\": 3.9891104698181152}, {\"text\": \"What causes the body to shiver in cold temperatures ?\", \"x\": 2.451634645462036, \"y\": 3.455733060836792}, {\"text\": \"What are bear and bull markets ?\", \"x\": 3.845440626144409, \"y\": 4.309565544128418}, {\"text\": \"What J.R.R. Tolkien book features Bilbo Baggins as the central character ?\", \"x\": 7.927926540374756, \"y\": 4.760773658752441}, {\"text\": \"What is `` dew point '' ?\", \"x\": 3.5020346641540527, \"y\": 3.902975559234619}, {\"text\": \"What is the meaning of Jesus ?\", \"x\": 4.230588912963867, \"y\": 5.63836669921875}, {\"text\": \"What company 's logo is a `` W '' in a circle ?\", \"x\": 5.040094375610352, \"y\": 4.031365871429443}, {\"text\": \"What is the definition of a cascade ?\", \"x\": 3.0091257095336914, \"y\": 4.238896369934082}, {\"text\": \"When did Rococo painting and architecture flourish ?\", \"x\": 6.869652271270752, \"y\": 0.48180192708969116}, {\"text\": \"What country 's national passenger rail system is called Via ?\", \"x\": 5.450572967529297, \"y\": 0.6005473732948303}, {\"text\": \"Who invented Make-up ?\", \"x\": 5.615260124206543, \"y\": 3.4894611835479736}, {\"text\": \"What is the origin of the word `` attic '' ?\", \"x\": 3.5517029762268066, \"y\": 5.659553050994873}, {\"text\": \"What did Delilah do to Samson 's hair ?\", \"x\": 4.9146728515625, \"y\": 3.5723156929016113}, {\"text\": \"What kind of animals were in the Paleozoic era ?\", \"x\": 2.7639782428741455, \"y\": 2.474520444869995}, {\"text\": \"Which of the following was Rhodes Scholar ?\", \"x\": 7.337111949920654, \"y\": 3.2765989303588867}, {\"text\": \"Who comprised the now-defunct comic book team known as the Champions ?\", \"x\": 7.869622230529785, \"y\": 4.004029273986816}, {\"text\": \"How do you make a paintball ?\", \"x\": 3.841874599456787, \"y\": 3.1588001251220703}, {\"text\": \"What U.S. state is Fort Knox in ?\", \"x\": 5.841602325439453, \"y\": 1.489757776260376}, {\"text\": \"What is a female rabbit called ?\", \"x\": 2.7052950859069824, \"y\": 2.0449094772338867}, {\"text\": \"Where is the highest point in Japan ?\", \"x\": 4.551261901855469, \"y\": 0.5930111408233643}, {\"text\": \"Where do chihuahuas come from ?\", \"x\": 5.414562225341797, \"y\": 0.22128194570541382}, {\"text\": \"Where does Barney Rubble go to work after he drops Fred off in the `` Flintstones '' cartoon series ?\", \"x\": 8.368353843688965, \"y\": 3.9231696128845215}, {\"text\": \"What are the world 's four oceans ?\", \"x\": 4.2947797775268555, \"y\": 0.9172886610031128}, {\"text\": \"What 's the only work by Michelangelo that bears his signature ?\", \"x\": 7.045858860015869, \"y\": 0.5203496813774109}, {\"text\": \"What is the largest snake in the world ?\", \"x\": 3.9213125705718994, \"y\": 0.9441701769828796}, {\"text\": \"In what medium is Stuart Hamblen considered to be the first singing cowboy ?\", \"x\": 7.8285956382751465, \"y\": 4.267645835876465}, {\"text\": \"Where on the Internet can I find a song lyrics database similar to the International Lyrics Server ?\", \"x\": 6.308257579803467, \"y\": 5.2155938148498535}, {\"text\": \"How much money does a back injury lawsuit get ?\", \"x\": 5.475964546203613, \"y\": 2.3733088970184326}, {\"text\": \"What 's the common name for acetylsalicylic acid ?\", \"x\": 3.8330705165863037, \"y\": 3.8759591579437256}, {\"text\": \"What does the Georgetown `` Hoya '' mean ?\", \"x\": 4.043874740600586, \"y\": 5.347008228302002}, {\"text\": \"Where can I find a list of `` classic '' books 5th and 6th graders should read ?\", \"x\": 6.392902374267578, \"y\": 5.0266523361206055}, {\"text\": \"Which two products use a tiger as their symbol ?\", \"x\": 4.762938022613525, \"y\": 3.7769548892974854}, {\"text\": \"How is the election of a new Pope announced to the world ?\", \"x\": 7.292378902435303, \"y\": 1.0738604068756104}, {\"text\": \"How long does it take for your blood to make one complete trip through the body ?\", \"x\": 3.809972047805786, \"y\": 1.8685284852981567}, {\"text\": \"How do chickens have baby chicks ?\", \"x\": 3.080497980117798, \"y\": 2.0965640544891357}, {\"text\": \"What is the historical relationship of Catholic Church and bingo ?\", \"x\": 5.379601955413818, \"y\": 2.9975340366363525}, {\"text\": \"How was the element calcium named ?\", \"x\": 3.4421298503875732, \"y\": 3.9775938987731934}, {\"text\": \"What crooner joined The Andrews Sisters for Pistol Packin Mama ?\", \"x\": 7.771578311920166, \"y\": 4.294043064117432}, {\"text\": \"What piano company claims its product is the `` Instrument of the immortals '' ?\", \"x\": 5.4048991203308105, \"y\": 3.735151767730713}, {\"text\": \"When did the Bounty mutiny take place ?\", \"x\": 7.758572101593018, \"y\": 1.8264740705490112}, {\"text\": \"What novel inspired the movie BladeRunner ?\", \"x\": 7.497683048248291, \"y\": 5.031885147094727}, {\"text\": \"What is a transistor ?\", \"x\": 3.388962984085083, \"y\": 4.207965850830078}, {\"text\": \"What is a film starring Jude Law ?\", \"x\": 8.62254810333252, \"y\": 5.0354838371276855}, {\"text\": \"What Hollywood dog died in the arms of Jean Harlow in 1932 ?\", \"x\": 8.540874481201172, \"y\": 3.611208438873291}, {\"text\": \"What are the most common elements in the Earth 's crust ?\", \"x\": 3.2727837562561035, \"y\": 3.811439275741577}, {\"text\": \"How much would it cost to purchase a 2-foot-square party tent , with sides , ?\", \"x\": 4.658519744873047, \"y\": 2.470493793487549}, {\"text\": \"What actress has received the most Oscar nominations ?\", \"x\": 8.745672225952148, \"y\": 4.481651782989502}, {\"text\": \"What are equity securities ?\", \"x\": 4.658124923706055, \"y\": 4.616190433502197}, {\"text\": \"What is gymnophobia ?\", \"x\": 1.7780448198318481, \"y\": 4.029453277587891}, {\"text\": \"How many years do fossils take to form ?\", \"x\": 2.9758174419403076, \"y\": 2.533189535140991}, {\"text\": \"Where is the Orinoco ?\", \"x\": 5.051196098327637, \"y\": 0.5388672351837158}, {\"text\": \"What was the name of the `` Little Rascals '' dog ?\", \"x\": 8.320423126220703, \"y\": 3.715608596801758}, {\"text\": \"What city boasts Penn 's Landing , on the banks of the Delaware river ?\", \"x\": 5.929005146026611, \"y\": 1.4754101037979126}, {\"text\": \"What Broadway musical was inspired by Cervantes 's Don Quixote ?\", \"x\": 8.200859069824219, \"y\": 4.9923882484436035}, {\"text\": \"What is the origin of the word , JJ .\", \"x\": 3.785419225692749, \"y\": 5.794732093811035}, {\"text\": \"How many hostages were killed in the Entebbe raid ?\", \"x\": 7.183579921722412, \"y\": 1.9581284523010254}, {\"text\": \"How you can raise your IQ ?\", \"x\": 3.072377920150757, \"y\": 4.638108730316162}, {\"text\": \"What does INRI stand for when used on Jesus ' cross ?\", \"x\": 4.126908302307129, \"y\": 5.538230895996094}, {\"text\": \"Who produces Spumante ?\", \"x\": 4.310490131378174, \"y\": 3.4560530185699463}, {\"text\": \"Who earns their money the hard way ?\", \"x\": 6.304203033447266, \"y\": 3.536111354827881}, {\"text\": \"Who founded the People 's Temple Commune ?\", \"x\": 7.289409160614014, \"y\": 3.112029790878296}, {\"text\": \"What athlete makes the most money from sports merchandise sales ?\", \"x\": 6.363828182220459, \"y\": 3.273582696914673}, {\"text\": \"How many bends are there in a standard paper clip ?\", \"x\": 4.0497636795043945, \"y\": 2.4104325771331787}, {\"text\": \"Who discovered electricity ?\", \"x\": 5.6790266036987305, \"y\": 3.3902852535247803}, {\"text\": \"What part of your body contains the corpus callosum ?\", \"x\": 2.3370416164398193, \"y\": 3.147000312805176}, {\"text\": \"Who was the first American in space ?\", \"x\": 6.628103733062744, \"y\": 2.690288782119751}, {\"text\": \"What two South American countries do n't border Brazil ?\", \"x\": 5.452679634094238, \"y\": 0.39304065704345703}, {\"text\": \"What album put The Beatles on the cover of Time in 1967 ?\", \"x\": 7.133493900299072, \"y\": 4.384645462036133}, {\"text\": \"What poem contains the line , `` grow old with me the best is yet to be '' .\", \"x\": 7.5758891105651855, \"y\": 5.084971904754639}, {\"text\": \"What is a dental root canal ?\", \"x\": 2.7399494647979736, \"y\": 4.103834629058838}, {\"text\": \"What war did the Wanna-Go-Home Riots occur after ?\", \"x\": 7.815682888031006, \"y\": 1.709540605545044}, {\"text\": \"What is the busiest air travel season ?\", \"x\": 4.735188007354736, \"y\": 1.3427402973175049}, {\"text\": \"What 's the colored part of the eye called ?\", \"x\": 2.4325931072235107, \"y\": 3.09142804145813}, {\"text\": \"What are hook worms ?\", \"x\": 2.0516133308410645, \"y\": 3.444553852081299}, {\"text\": \"Where is the Rose Bowl played ?\", \"x\": 6.167695045471191, \"y\": 1.795151710510254}, {\"text\": \"Which Japanese car maker had its biggest percentage of sale in the domestic market ?\", \"x\": 4.975382328033447, \"y\": 3.9101336002349854}, {\"text\": \"Who is the mayor of Marbella ?\", \"x\": 7.038469314575195, \"y\": 2.4460458755493164}, {\"text\": \"What sun-blasted , 14-mile wide valley is just north of the Mojave desert ?\", \"x\": 5.299042701721191, \"y\": 0.9459851384162903}, {\"text\": \"In what year did Thatcher become prime minister ?\", \"x\": 7.741159439086914, \"y\": 2.038386821746826}, {\"text\": \"How many months does it take the moon to revolve around the Earth ?\", \"x\": 3.8598155975341797, \"y\": 1.54750394821167}, {\"text\": \"Where are the 49 steps ?\", \"x\": 5.0475687980651855, \"y\": 1.0051394701004028}, {\"text\": \"In what year was De Gaulle elected president of France ?\", \"x\": 7.778926849365234, \"y\": 2.086961030960083}, {\"text\": \"Who sings the themes for `` Dawson 's Creek '' and `` Felicity '' ?\", \"x\": 7.9399871826171875, \"y\": 4.430848598480225}, {\"text\": \"Who directed `` Jaws '' ?\", \"x\": 8.709662437438965, \"y\": 4.931524276733398}, {\"text\": \"On what T.V. show could Tom Terrific be found ?\", \"x\": 8.353216171264648, \"y\": 3.8157947063446045}, {\"text\": \"What Indian tribe is F Troop perpetually doing battle with ?\", \"x\": 7.36798620223999, \"y\": 2.504215955734253}, {\"text\": \"Where did Indian Pudding come from ?\", \"x\": 4.2200517654418945, \"y\": 3.7740464210510254}, {\"text\": \"Why do some clothing labels say `` Use a nonchlorine bleach '' ?\", \"x\": 4.002191066741943, \"y\": 3.2564826011657715}, {\"text\": \"How many colonies were involved in the American Revolution ?\", \"x\": 6.446254253387451, \"y\": 1.4471008777618408}, {\"text\": \"What is the name of the city that Maurizio Pellegrin lives in ?\", \"x\": 6.62412691116333, \"y\": 0.6492830514907837}, {\"text\": \"Where can I find pictorial directions on how to build a very simple treehouse ?\", \"x\": 4.38654088973999, \"y\": 2.852816343307495}, {\"text\": \"What game 's board shows the territories of Irkutsk , Yakutsk and Kamchatka ?\", \"x\": 5.367945194244385, \"y\": 2.5450692176818848}, {\"text\": \"What is the name of the managing director of Apricot Computer ?\", \"x\": 5.563400745391846, \"y\": 4.164167881011963}, {\"text\": \"What is the occupation of Nicholas Cage ?\", \"x\": 8.3673677444458, \"y\": 4.676750659942627}, {\"text\": \"Why do horseshoes bring luck ?\", \"x\": 3.2901194095611572, \"y\": 3.145310640335083}, {\"text\": \"What is the 401 , K , plan ?\", \"x\": 4.605299472808838, \"y\": 4.744334697723389}, {\"text\": \"What causes pneumonia ?\", \"x\": 2.26865816116333, \"y\": 3.9067437648773193}, {\"text\": \"What are the three winter months in the southern hemisphere ?\", \"x\": 4.102718353271484, \"y\": 1.275604009628296}, {\"text\": \"What does gringo mean ?\", \"x\": 3.9368531703948975, \"y\": 5.1012959480285645}, {\"text\": \"What country contains Africa 's northernmost point ?\", \"x\": 5.093776702880859, \"y\": 0.3823917806148529}, {\"text\": \"What therapy attempts to elicit the `` primal scream '' ?\", \"x\": 1.7381991147994995, \"y\": 4.0185394287109375}, {\"text\": \"Where is the Kalahari desert ?\", \"x\": 5.0302348136901855, \"y\": 0.5056062936782837}, {\"text\": \"Which Ventura County police department seized the largest cocaine shipment in it 's history ?\", \"x\": 6.338593006134033, \"y\": 1.5223331451416016}, {\"text\": \"What city is sometimes called Gotham ?\", \"x\": 5.954026699066162, \"y\": 1.1462541818618774}, {\"text\": \"What dangles over the tongue from the palate ?\", \"x\": 2.341465473175049, \"y\": 3.1796534061431885}, {\"text\": \"Who created Dennis the Menace ?\", \"x\": 7.97571325302124, \"y\": 4.527153015136719}, {\"text\": \"What dummy received an honorary degree from Northwestern University ?\", \"x\": 7.226180553436279, \"y\": 3.145564556121826}, {\"text\": \"When was the first Wall Street Journal published ?\", \"x\": 6.209676742553711, \"y\": 4.092358112335205}, {\"text\": \"What countries have the largest areas of forest ?\", \"x\": 5.480716705322266, \"y\": 0.08043170720338821}, {\"text\": \"How do I start a web based business ?\", \"x\": 5.340198040008545, \"y\": 4.8084917068481445}, {\"text\": \"Name Alvin 's brothers\", \"x\": 8.442283630371094, \"y\": 3.72701358795166}, {\"text\": \"What is Eagle 's syndrome styloid process ?\", \"x\": 2.3439059257507324, \"y\": 3.8278017044067383}, {\"text\": \"How did Jayne Mansfield die ?\", \"x\": 8.636295318603516, \"y\": 2.5400846004486084}, {\"text\": \"When did the royal wedding of Prince Andrew and Fergie take place ?\", \"x\": 7.612699508666992, \"y\": 1.0656113624572754}, {\"text\": \"What actor said in A Day at the Races : `` Either he 's dead or my watch has stopped '' ?\", \"x\": 8.580024719238281, \"y\": 4.45849084854126}, {\"text\": \"What explorer was nicknamed Iberia 's Pilot ?\", \"x\": 6.90728759765625, \"y\": 1.5588549375534058}, {\"text\": \"CNN began broadcasting in what year ?\", \"x\": 6.289044380187988, \"y\": 4.014278888702393}, {\"text\": \"What is a ball that hits the foul pole called ?\", \"x\": 4.379847049713135, \"y\": 2.769298791885376}, {\"text\": \"What makes hamburgers taste like steakburgers ?\", \"x\": 3.4090354442596436, \"y\": 3.3160922527313232}, {\"text\": \"Which company created the Internet browser Mosaic ?\", \"x\": 5.480821132659912, \"y\": 4.369910717010498}, {\"text\": \"What are the rites accompanying the circumcision of a newly born-child in Judaism called ?\", \"x\": 4.374599456787109, \"y\": 5.287731647491455}, {\"text\": \"What was the education system in the 1960 's ?\", \"x\": 6.486878395080566, \"y\": 2.309386730194092}, {\"text\": \"What South American city has the world 's highest commercial landing field ?\", \"x\": 5.573966979980469, \"y\": 0.8617043495178223}, {\"text\": \"How can I find out which cities have cable-modem access ?\", \"x\": 5.894742965698242, \"y\": 5.226052761077881}, {\"text\": \"What is Betsy Ross famous for ?\", \"x\": 7.604647159576416, \"y\": 3.4790170192718506}, {\"text\": \"How many species of sharks are there ?\", \"x\": 3.2581582069396973, \"y\": 1.7725385427474976}, {\"text\": \"What is `` snoogans '' ?\", \"x\": 3.7743771076202393, \"y\": 4.68800163269043}, {\"text\": \"How many people are there in the world ?\", \"x\": 5.772436618804932, \"y\": 1.8934770822525024}, {\"text\": \"What shrubs can be planted that will be safe from deer ?\", \"x\": 2.887911319732666, \"y\": 2.04876446723938}, {\"text\": \"What organization 's offices were broken into at Watergate in 1972 ?\", \"x\": 7.588733196258545, \"y\": 2.8202624320983887}, {\"text\": \"What is the design of the ship Titanic ?\", \"x\": 5.031139850616455, \"y\": 2.0870611667633057}, {\"text\": \"What does S.O.S. stand for ?\", \"x\": 4.275416374206543, \"y\": 4.9886698722839355}, {\"text\": \"Name a technique widely used to detect birth defects ?\", \"x\": 2.6228506565093994, \"y\": 3.998399257659912}, {\"text\": \"What is the daily requirement of folic acid for an expectant mother ?\", \"x\": 3.5451114177703857, \"y\": 2.3990724086761475}, {\"text\": \"What is the `` 7-minute cigarette '' ?\", \"x\": 4.152164936065674, \"y\": 3.77134370803833}, {\"text\": \"What four forms does gold occur in ?\", \"x\": 3.2495508193969727, \"y\": 3.7917323112487793}, {\"text\": \"What is the acreage of the Chappellet vineyard ?\", \"x\": 5.216370105743408, \"y\": 2.0503504276275635}, {\"text\": \"How do you correctly say the word ` qigong ' ?\", \"x\": 3.633942127227783, \"y\": 5.265019416809082}, {\"text\": \"When did beethoven die ?\", \"x\": 8.34266185760498, \"y\": 2.049008846282959}, {\"text\": \"How much does a new railroad coal car cost ?\", \"x\": 4.7956223487854, \"y\": 2.235538959503174}, {\"text\": \"What two European countries entered the War of American Independence against the British ?\", \"x\": 6.444710731506348, \"y\": 1.0855971574783325}, {\"text\": \"What is the filmmakers collabrative ?\", \"x\": 4.845437526702881, \"y\": 4.322445869445801}, {\"text\": \"What Russian composer 's Prelude in C Sharp Minor brought him fame and fortune ?\", \"x\": 7.08029842376709, \"y\": 4.525877475738525}, {\"text\": \"What caused Harry Houdini 's death ?\", \"x\": 8.555763244628906, \"y\": 2.359814167022705}, {\"text\": \"Who was the mother of the man who would not be king , the duke of Windsor ?\", \"x\": 7.385585784912109, \"y\": 1.1705825328826904}, {\"text\": \"How many revolutions does a standard LP make in three minutes ?\", \"x\": 4.203566074371338, \"y\": 2.0968334674835205}, {\"text\": \"What is the name of the tallest mountain in the world ?\", \"x\": 4.623335838317871, \"y\": 0.6261129379272461}, {\"text\": \"Where can I find a review of Nightmare on Elm Street in a film journal ?\", \"x\": 6.309689044952393, \"y\": 5.226948261260986}, {\"text\": \"What 's the slowest Olympic swimming stroke ?\", \"x\": 4.3417181968688965, \"y\": 1.9844034910202026}, {\"text\": \"What was the name of the first Russian astronaut to do a spacewalk ?\", \"x\": 6.817336082458496, \"y\": 2.651904582977295}, {\"text\": \"What disease is transmitted by the Anopheles mosquito ?\", \"x\": 2.0094664096832275, \"y\": 3.604321002960205}, {\"text\": \"What rum is so `` mixable '' it is a one-brand bar ?\", \"x\": 4.426173686981201, \"y\": 3.4713971614837646}, {\"text\": \"How many South American countries have the letter Z in their names ?\", \"x\": 5.462243556976318, \"y\": 0.32983964681625366}, {\"text\": \"What is the contents of proposition 98 ?\", \"x\": 6.040684700012207, \"y\": 4.637866973876953}, {\"text\": \"Where was George Washington born ?\", \"x\": 6.617422580718994, \"y\": 1.3881003856658936}, {\"text\": \"How many people on the ground were killed from the bombing of Pan Am Flight 103 over Lockerbie , Scotland , December 21 , CD .\", \"x\": 7.13635778427124, \"y\": 1.8894884586334229}, {\"text\": \"Who wrote NN DT NNP NNP '' ?\", \"x\": 6.9143853187561035, \"y\": 4.993762969970703}, {\"text\": \"What is paracetamol ?\", \"x\": 3.9269261360168457, \"y\": 3.7233614921569824}, {\"text\": \"What are the powers and weaknesses of Green Lantern 's ring ?\", \"x\": 4.354620933532715, \"y\": 3.8728981018066406}, {\"text\": \"Which mosquito 's bite draws blood , DT NN CC DT NN .\", \"x\": 1.9073152542114258, \"y\": 3.552703857421875}, {\"text\": \"When was the first steel mill in the United States built ?\", \"x\": 5.975426197052002, \"y\": 3.817415237426758}, {\"text\": \"What diminutive American female gymnast stole the show at the 1984 Olympics ?\", \"x\": 7.1011576652526855, \"y\": 3.4210808277130127}, {\"text\": \"What is the origin of the name Katie ?\", \"x\": 3.7429094314575195, \"y\": 5.981440544128418}, {\"text\": \"What schools in the Washington , DC NN NN VBP NN NN NN NN .\", \"x\": 5.9728803634643555, \"y\": 2.2123160362243652}, {\"text\": \"When did the Berlin Wall go up ?\", \"x\": 7.726613998413086, \"y\": 1.5952526330947876}, {\"text\": \"Who is Terrence Malick ?\", \"x\": 8.349088668823242, \"y\": 4.886916637420654}, {\"text\": \"What instrument is Ray Charles best known for playing ?\", \"x\": 7.174186706542969, \"y\": 4.1592326164245605}, {\"text\": \"What 's the meaning of the Latin battle cry : Ad arma , ad arma .\", \"x\": 3.8142683506011963, \"y\": 5.446086406707764}, {\"text\": \"What is the mascot for Notre Dame University ?\", \"x\": 2.622246503829956, \"y\": 1.6178840398788452}, {\"text\": \"What Las Vegas hotel burned in November , 1980 , with the loss of 84 lives ?\", \"x\": 8.109172821044922, \"y\": 1.834750771522522}, {\"text\": \"When did Mount St. Helen last have a significant eruption ?\", \"x\": 8.16858196258545, \"y\": 1.6303859949111938}, {\"text\": \"CNN is the abbreviation for what ?\", \"x\": 4.794788360595703, \"y\": 4.831739902496338}, {\"text\": \"When did World War I start ?\", \"x\": 8.008817672729492, \"y\": 1.4936320781707764}, {\"text\": \"How many feet are there in a fathom ?\", \"x\": 4.246670722961426, \"y\": 1.6850417852401733}, {\"text\": \"What is a Canada two-penny black ?\", \"x\": 4.649265289306641, \"y\": 2.9477572441101074}, {\"text\": \"What European city do Nicois live in ?\", \"x\": 6.327094554901123, \"y\": 0.479062557220459}, {\"text\": \"How can I find out what year a Beanie Baby was introduced ?\", \"x\": 4.7494730949401855, \"y\": 3.1780011653900146}, {\"text\": \"What is the classic definition of tragic hero ?\", \"x\": 7.574951648712158, \"y\": 5.193678855895996}, {\"text\": \"To what does Microsoft 's Windows 3 owe its success ?\", \"x\": 5.348849773406982, \"y\": 4.360006809234619}, {\"text\": \"Who was President of Afghanistan in 1994 ?\", \"x\": 7.73085355758667, \"y\": 2.595515489578247}, {\"text\": \"What are other ways of getting stretch marks besides pregnancy , weight loss , and weight lifting ?\", \"x\": 2.572784185409546, \"y\": 3.328899621963501}, {\"text\": \"What did brontosauruses eat ?\", \"x\": 2.756761074066162, \"y\": 2.4393112659454346}, {\"text\": \"What color bottles do good Rhine wines come in ?\", \"x\": 3.8009297847747803, \"y\": 2.9677603244781494}, {\"text\": \"Who was the lead actress in the movie ` Sleepless in Seattle ' ?\", \"x\": 8.871708869934082, \"y\": 4.818192005157471}, {\"text\": \"Who was the 16th President of the United States ?\", \"x\": 8.073526382446289, \"y\": 2.6211724281311035}, {\"text\": \"Who are the two sons of Ozzie and Harriet Nelson ?\", \"x\": 8.435284614562988, \"y\": 3.7341160774230957}, {\"text\": \"What is molybdenum ?\", \"x\": 3.3469700813293457, \"y\": 3.953592300415039}, {\"text\": \"When is Boxing Day ?\", \"x\": 7.732460021972656, \"y\": 0.9412273168563843}, {\"text\": \"What is the lowest level of the American judiciary ?\", \"x\": 6.029728412628174, \"y\": 4.584877014160156}, {\"text\": \"When was the battle of the Somme fought ?\", \"x\": 7.902993202209473, \"y\": 1.2941464185714722}, {\"text\": \"How many people did Randy Craft kill ?\", \"x\": 7.302372932434082, \"y\": 2.554844379425049}, {\"text\": \"What 's the official animal of Canada ?\", \"x\": 2.6480326652526855, \"y\": 1.6171529293060303}, {\"text\": \"When did Spielberg direct `` Jaws '' ?\", \"x\": 8.731851577758789, \"y\": 4.924026012420654}, {\"text\": \"What is the size of the largest akita ?\", \"x\": 3.82558536529541, \"y\": 1.2142324447631836}, {\"text\": \"What animal has the biggest eyes ?\", \"x\": 2.7766904830932617, \"y\": 1.6986275911331177}, {\"text\": \"What is California 's capital ?\", \"x\": 5.962440490722656, \"y\": 1.2258528470993042}, {\"text\": \"Who was the author of the book about computer hackers called `` The Cuckoo 's Egg : Tracking a Spy Through the Maze of Computer Espionage '' ?\", \"x\": 7.280783653259277, \"y\": 4.834034442901611}, {\"text\": \"Who was the founding member of the Pink Floyd band ?\", \"x\": 7.263227462768555, \"y\": 4.154777526855469}, {\"text\": \"What European country is home to the beer-producing city of Budweis ?\", \"x\": 5.761876106262207, \"y\": 0.2684727907180786}, {\"text\": \"How do I find the balance of my social security account ?\", \"x\": 5.786528587341309, \"y\": 5.186398029327393}, {\"text\": \"What is the history of Valentine 's Day cards ?\", \"x\": 5.18834114074707, \"y\": 3.1351027488708496}, {\"text\": \"Where was Christopher Columbus born ?\", \"x\": 6.737214088439941, \"y\": 1.2520750761032104}, {\"text\": \"What do Italians call Florence ?\", \"x\": 6.545039653778076, \"y\": 0.46909162402153015}, {\"text\": \"How do you get to the top of the Eiffel Tower ?\", \"x\": 4.865520477294922, \"y\": 1.0254862308502197}, {\"text\": \"What does ` PSI ' stand for ?\", \"x\": 4.333022117614746, \"y\": 4.998648643493652}, {\"text\": \"What sea did the Romans call mare nostrum ?\", \"x\": 3.803501844406128, \"y\": 5.323855400085449}, {\"text\": \"What 's the term for a bet before cards are dealt ?\", \"x\": 5.297213554382324, \"y\": 2.865488052368164}, {\"text\": \"Which came first , according to Genesis 1 : 2 : 22 - the chicken or the egg ?\", \"x\": 3.184335947036743, \"y\": 2.2086262702941895}, {\"text\": \"What city did the Flintstones live in ?\", \"x\": 6.20133638381958, \"y\": 1.3672411441802979}, {\"text\": \"What is Latin for incompetent ?\", \"x\": 3.3924920558929443, \"y\": 5.357900619506836}, {\"text\": \"What chemicals are used in lethal injection ?\", \"x\": 3.9161055088043213, \"y\": 3.5301597118377686}, {\"text\": \"What toy company is the world 's No.1 maker of female apparel ?\", \"x\": 5.080016613006592, \"y\": 3.8870809078216553}, {\"text\": \"What board game does a `` wood-pusher '' play poorly ?\", \"x\": 5.2624030113220215, \"y\": 2.777754545211792}, {\"text\": \"Which Doonesbury character was likely to turn into a werewolf ?\", \"x\": 8.121622085571289, \"y\": 4.023716926574707}, {\"text\": \"What is the abbreviation for micro ?\", \"x\": 4.1930155754089355, \"y\": 4.793108940124512}, {\"text\": \"What are the 7 articles of the constitution ?\", \"x\": 5.872465133666992, \"y\": 4.701327800750732}, {\"text\": \"Who has won the most Super Bowls ?\", \"x\": 6.365949630737305, \"y\": 2.658008098602295}, {\"text\": \"What does NASDAQ stand for ?\", \"x\": 4.7420735359191895, \"y\": 4.6954450607299805}, {\"text\": \"What is BPH ?\", \"x\": 2.2395262718200684, \"y\": 4.007626533508301}, {\"text\": \"What is the fastest commercial automobile that can be bought in the US ?\", \"x\": 4.568304538726807, \"y\": 2.0135669708251953}, {\"text\": \"What stadium do the Miami Dolphins play their home games in ?\", \"x\": 6.227151870727539, \"y\": 2.055292844772339}, {\"text\": \"Who has the only speaking role in `` Silent Movie '' ?\", \"x\": 8.714667320251465, \"y\": 4.6515278816223145}, {\"text\": \"Why is poop sometimes different colors ?\", \"x\": 3.334320545196533, \"y\": 2.9164695739746094}, {\"text\": \"What was Einstein 's IQ ?\", \"x\": 6.4944963455200195, \"y\": 3.679267168045044}, {\"text\": \"What day was Pearl Harbor attacked in 1942 ?\", \"x\": 8.039029121398926, \"y\": 1.5365411043167114}, {\"text\": \"What girl 's name is `` Teddy '' an affectionate form of ?\", \"x\": 3.8432047367095947, \"y\": 5.927427768707275}, {\"text\": \"What state is John F. Kennedy buried in ?\", \"x\": 6.321315288543701, \"y\": 1.5203717947006226}, {\"text\": \"What is the best way to remove wallpaper ?\", \"x\": 4.050815582275391, \"y\": 3.0643999576568604}, {\"text\": \"What U.S. state has an element named for it ?\", \"x\": 5.55174446105957, \"y\": 1.5197362899780273}, {\"text\": \"What company tabulates the ballots in voting for the Academy Awards ?\", \"x\": 5.2705888748168945, \"y\": 4.157469749450684}, {\"text\": \"How did the tradition of best man start ?\", \"x\": 4.908446311950684, \"y\": 3.362407684326172}, {\"text\": \"How many years ago did the ship Titanic sink ?\", \"x\": 8.080181121826172, \"y\": 1.6465784311294556}, {\"text\": \"What is the deepest area of the Arctic Ocean ?\", \"x\": 4.4621663093566895, \"y\": 0.7844786643981934}, {\"text\": \"What are Halloween 's colors ?\", \"x\": 3.482434034347534, \"y\": 2.8295161724090576}, {\"text\": \"How is silk screening done ?\", \"x\": 3.91171932220459, \"y\": 3.205319404602051}, {\"text\": \"What is the latitude and longitude of El Paso , Texas ?\", \"x\": 5.074254512786865, \"y\": 1.3577415943145752}, {\"text\": \"Who made a boat out of gopher wood ?\", \"x\": 5.380309104919434, \"y\": 2.7349135875701904}, {\"text\": \"Where can I find a `` Fifth Element '' screensaver ?\", \"x\": 6.166534423828125, \"y\": 5.223374843597412}, {\"text\": \"Which Bloom County resident wreaks havoc with a computer ?\", \"x\": 8.080719947814941, \"y\": 4.083933353424072}, {\"text\": \"How do you match a name to a social security number ?\", \"x\": 5.859716892242432, \"y\": 5.321983814239502}, {\"text\": \"How does a rainbow form ?\", \"x\": 3.0910933017730713, \"y\": 3.3911917209625244}, {\"text\": \"What is the normal resting heart rate of a healthy adult ?\", \"x\": 3.799811840057373, \"y\": 1.8932201862335205}, {\"text\": \"What is the population of Ohio ?\", \"x\": 5.717236042022705, \"y\": 1.8724696636199951}, {\"text\": \"How many calories are there in a Big Mac ?\", \"x\": 4.076898574829102, \"y\": 1.795760989189148}, {\"text\": \"Hazmat stands for what ?\", \"x\": 4.355929374694824, \"y\": 4.904650688171387}, {\"text\": \"What creature scares people in the film `` Jaws '' ?\", \"x\": 8.62706184387207, \"y\": 4.983885765075684}, {\"text\": \"What part did John Peter Zenger play in the deveopment of the newspaper in America ?\", \"x\": 6.289875507354736, \"y\": 4.135693073272705}, {\"text\": \"Who followed Caesar ?\", \"x\": 6.968015670776367, \"y\": 1.2877744436264038}, {\"text\": \"What are the four elements ?\", \"x\": 3.2460029125213623, \"y\": 3.7937819957733154}, {\"text\": \"Who was the first woman golfer to earn a million ?\", \"x\": 6.661367416381836, \"y\": 3.304483413696289}, {\"text\": \"What 's the tallest piece on a chessboard ?\", \"x\": 5.051059246063232, \"y\": 2.628507375717163}, {\"text\": \"What is Answers.com 's address ?\", \"x\": 5.463153839111328, \"y\": 4.826436519622803}, {\"text\": \"Where can I buy movies on videotape online ?\", \"x\": 5.991675853729248, \"y\": 5.223329544067383}, {\"text\": \"Who does the advertizing for Frito-Lay ?\", \"x\": 5.151724338531494, \"y\": 3.888451337814331}, {\"text\": \"Who is the leading competitor of Trans Union Company ?\", \"x\": 5.26206636428833, \"y\": 4.277604103088379}, {\"text\": \"What product did Robert Conrad dare people to knock off his shoulder ?\", \"x\": 5.391281604766846, \"y\": 3.5074989795684814}, {\"text\": \"Who invented the radio ?\", \"x\": 5.7263689041137695, \"y\": 3.4271926879882812}, {\"text\": \"What 's the American dollar equivalent for 8 pounds in the U.K. ?\", \"x\": 4.806529521942139, \"y\": 2.16731595993042}, {\"text\": \"What are the different approaches of systems analysis ?\", \"x\": 2.9726874828338623, \"y\": 4.2334980964660645}, {\"text\": \"How do doctors diagnose bone cancer ?\", \"x\": 2.445160150527954, \"y\": 3.952868938446045}, {\"text\": \"Who is the man behind the pig-the man who pulls the strings and speaks for Miss Piggy ?\", \"x\": 8.10299301147461, \"y\": 3.9362728595733643}, {\"text\": \"What is the speed of the Mississippi River ?\", \"x\": 4.396261692047119, \"y\": 1.536460041999817}, {\"text\": \"What are the developmental stages of a swimmer ?\", \"x\": 4.260347366333008, \"y\": 2.142096996307373}, {\"text\": \"What actor first portrayed James Bond ?\", \"x\": 8.683595657348633, \"y\": 4.572481632232666}, {\"text\": \"What ocean is the largest in the world ?\", \"x\": 4.385882377624512, \"y\": 0.7763317823410034}, {\"text\": \"Who was the first American poet to win the Nobel Prize for literature , in 1948 ?\", \"x\": 7.572998523712158, \"y\": 4.798303604125977}, {\"text\": \"What year did Jack Nicklaus join the Professional Golfers Association tour ?\", \"x\": 6.478855133056641, \"y\": 3.326401472091675}, {\"text\": \"How many sonnets did Shakespeare write ?\", \"x\": 6.811576843261719, \"y\": 4.208901405334473}, {\"text\": \"What causes the redness in your cheeks when you blush ?\", \"x\": 2.42045259475708, \"y\": 3.3272130489349365}, {\"text\": \"Who won the Nobel Peace Prize in 1991 ?\", \"x\": 7.421617031097412, \"y\": 3.2136971950531006}, {\"text\": \"Who are the Challengers of the Unknown ?\", \"x\": 7.844656467437744, \"y\": 3.931908130645752}, {\"text\": \"Define the Pheonix Club ?\", \"x\": 4.433380126953125, \"y\": 4.9987616539001465}, {\"text\": \"Which city did Christian Crusaders fight to recapture from the Muslims ?\", \"x\": 7.462252616882324, \"y\": 1.30280339717865}, {\"text\": \"What does it mean `` Rupee Depreciates '' ?\", \"x\": 3.7704756259918213, \"y\": 4.298769474029541}, {\"text\": \"What gaming devices were dubbed `` Mississippi marbles '' and `` Memphis dominoes '' ?\", \"x\": 5.2882399559021, \"y\": 2.849536657333374}, {\"text\": \"Who was the first coach of the Cleveland Browns ?\", \"x\": 6.568842887878418, \"y\": 2.9314911365509033}, {\"text\": \"How successful is arometherapy ?\", \"x\": 3.8695240020751953, \"y\": 3.7776846885681152}, {\"text\": \"What Jewish holiday saw the start of the 1973 Mideast War ?\", \"x\": 7.7530293464660645, \"y\": 1.3701115846633911}, {\"text\": \"How does a copier work ?\", \"x\": 3.6744489669799805, \"y\": 3.481710195541382}, {\"text\": \"What is the speed of the Mississippi River ?\", \"x\": 4.355172634124756, \"y\": 1.5828852653503418}, {\"text\": \"Who said of Super Bowl III in 1969 : `` We 'll win- I guarantee it '' ?\", \"x\": 6.590534210205078, \"y\": 2.858474016189575}, {\"text\": \"What is Dudley Do-Right 's horse 's name ?\", \"x\": 8.240168571472168, \"y\": 3.8356821537017822}, {\"text\": \"Who declared : `` I am down on whores and I shan 't stop ripping them '' ?\", \"x\": 7.4079484939575195, \"y\": 3.6721253395080566}, {\"text\": \"Where does chocolate come from ?\", \"x\": 5.324848651885986, \"y\": 0.22688080370426178}, {\"text\": \"What TV game show once saw a contestant admit to picking his toes in the shower ?\", \"x\": 8.476102828979492, \"y\": 3.4490952491760254}, {\"text\": \"What Soviet leader owned a Rolls-Royce ?\", \"x\": 7.755403518676758, \"y\": 2.485884189605713}, {\"text\": \"Where can I find a case on Individuals with Disabilities Education Act of 1991 ?\", \"x\": 6.153056621551514, \"y\": 4.753157615661621}, {\"text\": \"What war did Florence Nightingale tend the troops in ?\", \"x\": 7.8941264152526855, \"y\": 1.6012523174285889}, {\"text\": \"Who wrote the song , `` Stardust '' ?\", \"x\": 7.563859939575195, \"y\": 4.626771926879883}, {\"text\": \"How many Beatles ' records went #1 ?\", \"x\": 6.986800670623779, \"y\": 4.334190368652344}, {\"text\": \"Who is the only prime minister of Canada to serve 22 years but not necessarily consecutively ?\", \"x\": 7.821198463439941, \"y\": 2.293262004852295}, {\"text\": \"What is the abbreviation of the company name ` General Motors ' ?\", \"x\": 4.561227321624756, \"y\": 4.773196697235107}, {\"text\": \"What mountains lie between the Arkansas and Missouri rivers ?\", \"x\": 4.987873077392578, \"y\": 0.9295680522918701}, {\"text\": \"Who received the Will Rogers Award in 1989 ?\", \"x\": 7.288836479187012, \"y\": 3.2651748657226562}, {\"text\": \"What is the function of RAM ?\", \"x\": 3.3267123699188232, \"y\": 4.362626552581787}, {\"text\": \"What 's the closest G2 Spectrum Yellow Dwarf to Earth ?\", \"x\": 3.9136555194854736, \"y\": 1.4217822551727295}, {\"text\": \"How many equal angles are there in an isosceles triangle ?\", \"x\": 4.006734848022461, \"y\": 2.068434000015259}, {\"text\": \"What is the fear of cockroaches called ?\", \"x\": 1.7234679460525513, \"y\": 3.9573497772216797}, {\"text\": \"What CBS soap opera was interrupted by the bulletin of John F. Kennedy 's assassination ?\", \"x\": 8.561921119689941, \"y\": 3.0756876468658447}, {\"text\": \"What is the use of a 24-hour clock instead of a 12-hour clock ?\", \"x\": 5.796656131744385, \"y\": 0.5519642233848572}, {\"text\": \"What was the name of the lawyer who represented Randy Craft ?\", \"x\": 7.159769058227539, \"y\": 3.060274600982666}, {\"text\": \"What United States President had dreamed that he was assassinated ?\", \"x\": 8.111001968383789, \"y\": 2.5833513736724854}, {\"text\": \"What film did Lee Marvin win the 1965 best actor Oscar for ?\", \"x\": 8.747684478759766, \"y\": 4.7945685386657715}, {\"text\": \"Where is Basque country located ?\", \"x\": 5.640377521514893, \"y\": 0.26640892028808594}, {\"text\": \"What product does `` Mrs. Olsen '' promote ?\", \"x\": 5.039351463317871, \"y\": 3.7936928272247314}, {\"text\": \"What time of day did Emperor Hirohito die ?\", \"x\": 8.250175476074219, \"y\": 1.8934165239334106}, {\"text\": \"What is dry ice ?\", \"x\": 3.5869033336639404, \"y\": 3.8650388717651367}, {\"text\": \"What 's the most powerful card in Euchre ?\", \"x\": 5.152605056762695, \"y\": 2.7441837787628174}, {\"text\": \"What does `` intractable plantar keratoma '' mean ?\", \"x\": 2.408170700073242, \"y\": 4.025031089782715}, {\"text\": \"How many years did it take James Joyce to write Ulysses ?\", \"x\": 6.869583606719971, \"y\": 4.210195541381836}, {\"text\": \"What crop failure caused the Irish Famine ?\", \"x\": 8.222878456115723, \"y\": 1.64620041847229}, {\"text\": \"What South Korean city is served by Kimpo International Airport ?\", \"x\": 5.759483814239502, \"y\": 1.0341780185699463}, {\"text\": \"How many types of dogs ' tails are there - three\", \"x\": 3.0317630767822266, \"y\": 1.8867292404174805}, {\"text\": \"What is the longest-running television series ?\", \"x\": 8.589512825012207, \"y\": 3.375246286392212}, {\"text\": \"What predators exist on Antarctica ?\", \"x\": 2.8518619537353516, \"y\": 1.752022385597229}, {\"text\": \"What is the difference between a generator and an alternator ?\", \"x\": 3.499523878097534, \"y\": 4.189650535583496}, {\"text\": \"How is energy created ?\", \"x\": 2.974400043487549, \"y\": 3.5955235958099365}, {\"text\": \"What beer advertised that it had `` three rings '' ?\", \"x\": 4.7243475914001465, \"y\": 3.6096084117889404}, {\"text\": \"What is the quantity of American soldiers still unaccounted for from the Vietnam war ?\", \"x\": 6.984039783477783, \"y\": 2.0286288261413574}, {\"text\": \"What golfing accessory was patented by George Grant on December 12\", \"x\": 5.885111331939697, \"y\": 3.329739809036255}, {\"text\": \"What are the different types of plastic ?\", \"x\": 3.5234649181365967, \"y\": 3.2729063034057617}, {\"text\": \"How is it correct to say ` qigong ' ?\", \"x\": 3.511455774307251, \"y\": 5.21691370010376}, {\"text\": \"What was the highest mountain on earth before Mount Everest was discovered ?\", \"x\": 4.5494208335876465, \"y\": 0.6818159818649292}, {\"text\": \"Where was the Ligurian Republic , 1797-185 , ?\", \"x\": 6.487121105194092, \"y\": 0.5391571521759033}, {\"text\": \"What country 's people are the top television watchers ?\", \"x\": 5.661961078643799, \"y\": 0.09890864044427872}, {\"text\": \"When was the women 's suffrage amendment ratified ?\", \"x\": 6.359620094299316, \"y\": 4.130119800567627}, {\"text\": \"What Polynesian people inhabit New Zealand ?\", \"x\": 6.015252590179443, \"y\": -0.02442079596221447}, {\"text\": \"What movie tour of the Roman empire features the admonition : `` Row well and live '' ?\", \"x\": 8.532758712768555, \"y\": 5.037367343902588}, {\"text\": \"What Nevada center has been dubbed The Biggest Little City in the World ?\", \"x\": 5.81376314163208, \"y\": 1.2562309503555298}, {\"text\": \"What President lived at 219 North Delaware Street , Independence , Missouri ?\", \"x\": 8.048739433288574, \"y\": 2.697923421859741}, {\"text\": \"Give a reason for American Indians oftentimes dropping out of school .\", \"x\": 6.798725128173828, \"y\": 2.462282657623291}, {\"text\": \"Where must a soccer goalie stand to be permitted to handle the ball ?\", \"x\": 4.5623393058776855, \"y\": 2.5032780170440674}, {\"text\": \"What is the difference between classical conditioning and operant conditioning ?\", \"x\": 3.0092084407806396, \"y\": 4.412044048309326}, {\"text\": \"In what U.S. state was the first woman governor elected ?\", \"x\": 7.110231876373291, \"y\": 2.6995689868927}, {\"text\": \"What are some interesting facts and information about dogsledding ?\", \"x\": 5.112788677215576, \"y\": 2.5022623538970947}, {\"text\": \"What year did Hitler die ?\", \"x\": 8.08464241027832, \"y\": 1.8786282539367676}, {\"text\": \"What famous model was married to Billy Joel ?\", \"x\": 8.737990379333496, \"y\": 4.007299900054932}, {\"text\": \"What kind of animal is Babar ?\", \"x\": 2.6379082202911377, \"y\": 1.9889798164367676}, {\"text\": \"What is Jane Goodall known for ?\", \"x\": 7.490357398986816, \"y\": 3.4190921783447266}, {\"text\": \"What killed Bob Marley ?\", \"x\": 8.49850845336914, \"y\": 2.3058176040649414}, {\"text\": \"How much money are Dumbo 's ears insured for ?\", \"x\": 4.568654537200928, \"y\": 2.2933855056762695}, {\"text\": \"Who danced into stardom with Fred Astaire in 1941 's You 'll Never Get Rich ?\", \"x\": 8.330384254455566, \"y\": 4.474381446838379}, {\"text\": \"Who is Stein Eriksen ?\", \"x\": 6.831206321716309, \"y\": 3.395220994949341}, {\"text\": \"What does the name Billie mean ?\", \"x\": 3.8078179359436035, \"y\": 5.949007987976074}, {\"text\": \"Who is the fastest swimmer in the world ?\", \"x\": 4.519477367401123, \"y\": 1.846199870109558}, {\"text\": \"What is the highest peak in Africa ?\", \"x\": 4.7891340255737305, \"y\": 0.5101370811462402}, {\"text\": \"Where is Procter & Gamble headquartered in the U.S. ?\", \"x\": 5.32277774810791, \"y\": 3.858376979827881}, {\"text\": \"What desert has been called The Garden of Allah ?\", \"x\": 5.261758327484131, \"y\": 0.6707345843315125}, {\"text\": \"What do bicornate animals have two of ?\", \"x\": 2.676976442337036, \"y\": 2.1291308403015137}, {\"text\": \"What function does a community 's water tower serve ?\", \"x\": 3.2979602813720703, \"y\": 3.5272202491760254}, {\"text\": \"What is a fear of weakness ?\", \"x\": 1.691629409790039, \"y\": 4.1166558265686035}, {\"text\": \"How many miles is it to Ohio from North Carolina ?\", \"x\": 4.645571231842041, \"y\": 1.6995761394500732}, {\"text\": \"How much snow equals an inch of rain ?\", \"x\": 4.464826583862305, \"y\": 1.7696096897125244}, {\"text\": \"What does G.M.T. stand for ?\", \"x\": 4.296438217163086, \"y\": 4.907813549041748}, {\"text\": \"What does Inuit and Eskimo mean ?\", \"x\": 5.9848151206970215, \"y\": 0.04308860003948212}, {\"text\": \"What song served as the closing theme of The Johnny Cash Show ?\", \"x\": 7.679358959197998, \"y\": 4.323246479034424}, {\"text\": \"What field sport did dentist William Beers promote and write a standard book of rules for ?\", \"x\": 5.860148906707764, \"y\": 3.1439242362976074}, {\"text\": \"How do I tie dye clothes ?\", \"x\": 3.9555301666259766, \"y\": 3.082832098007202}, {\"text\": \"When does the average teenager first have intercourse ?\", \"x\": 3.6064095497131348, \"y\": 1.8429477214813232}, {\"text\": \"Why doesn 't www.answers.com have any answers to my questions ?\", \"x\": 5.483006000518799, \"y\": 4.752910614013672}, {\"text\": \"What actor 's autobiography is titled All My Yesterdays ?\", \"x\": 8.469747543334961, \"y\": 4.657541751861572}, {\"text\": \"What Russian master spy lived in the U.S. under the name Emil Goldfus ?\", \"x\": 7.388885021209717, \"y\": 4.20676326751709}, {\"text\": \"Where 's the 19th hole on a golf course ?\", \"x\": 5.91075325012207, \"y\": 2.5707361698150635}, {\"text\": \"What 's nature 's purpose for tornadoes ?\", \"x\": 3.0367236137390137, \"y\": 3.5613629817962646}, {\"text\": \"Who played the original Charlie 's Angels ?\", \"x\": 8.684322357177734, \"y\": 4.250044345855713}, {\"text\": \"Where can I find a person 's address from a telephone number ?\", \"x\": 5.776758670806885, \"y\": 5.2025885581970215}, {\"text\": \"What English word comes from the Old French covrefeu , meaning cover fire ?\", \"x\": 3.464540719985962, \"y\": 5.552121639251709}, {\"text\": \"What musical instrument did Prewitt play in James Jones 's From Here to Eternity ?\", \"x\": 7.324499607086182, \"y\": 4.267566204071045}, {\"text\": \"Where did Sarge Steel get his metal hand ?\", \"x\": 5.572300910949707, \"y\": 3.4340250492095947}, {\"text\": \"What makes popcorn pop ?\", \"x\": 3.3786628246307373, \"y\": 3.483680248260498}, {\"text\": \"Who wrote The Night of the Iguana ?\", \"x\": 7.73113489151001, \"y\": 4.969845294952393}, {\"text\": \"Where does your hair grow the fastest ?\", \"x\": 2.385781764984131, \"y\": 3.173463821411133}, {\"text\": \"What country did King Gustav V reign over from 197 to 195 ?\", \"x\": 6.792292594909668, \"y\": 0.8128002882003784}, {\"text\": \"Who painted Mother and Child ?\", \"x\": 7.1337738037109375, \"y\": 0.5250893235206604}, {\"text\": \"What is the speed of the Mississippi River ?\", \"x\": 4.346921920776367, \"y\": 1.6876391172409058}, {\"text\": \"In what area of the world was the Six Day War fought ?\", \"x\": 7.641572952270508, \"y\": 1.4003766775131226}, {\"text\": \"What is the brightest star visible from Earth ?\", \"x\": 3.8176820278167725, \"y\": 1.3844473361968994}, {\"text\": \"What film marked Robert Redford 's directorial debut ?\", \"x\": 8.704808235168457, \"y\": 4.971966743469238}, {\"text\": \"What was Mao 's second name ?\", \"x\": 7.829399108886719, \"y\": 2.8022773265838623}, {\"text\": \"What film or films has Jude Law appeared in ?\", \"x\": 8.774499893188477, \"y\": 4.93064546585083}, {\"text\": \"Where do hyenas live ?\", \"x\": 4.656844615936279, \"y\": 0.4828696846961975}, {\"text\": \"Who is the `` Queen Mother '' ?\", \"x\": 7.39552116394043, \"y\": 1.1664564609527588}, {\"text\": \"What 's the most commonly-spoken language in Belgium ?\", \"x\": 6.110047340393066, \"y\": 0.1548967808485031}, {\"text\": \"Who has more DNA - a man or a woman ?\", \"x\": 3.6683669090270996, \"y\": 2.0247247219085693}, {\"text\": \"What are Maid-Rites ?\", \"x\": 4.1274847984313965, \"y\": 4.538698196411133}, {\"text\": \"What children 's tale contains the line : `` Come , Cinderslut , and hold this skein of wool for me '' ?\", \"x\": 7.820223808288574, \"y\": 4.984113693237305}, {\"text\": \"What level of government or governmental agency is responsible for dealing with racism ?\", \"x\": 5.961632251739502, \"y\": 4.4651875495910645}, {\"text\": \"How many referees work a soccer game ?\", \"x\": 4.468456745147705, \"y\": 2.407114267349243}, {\"text\": \"What cocktail do you concoct with whisky and sweet vermouth ?\", \"x\": 4.381835460662842, \"y\": 3.5137693881988525}, {\"text\": \"How do you say `` fresh '' in Spanish ?\", \"x\": 3.6002085208892822, \"y\": 5.318946361541748}, {\"text\": \"What do bee hives do in cranberry bogs ?\", \"x\": 2.885937452316284, \"y\": 2.5209100246429443}, {\"text\": \"What caused the Lynmouth floods ?\", \"x\": 8.231189727783203, \"y\": 1.6424609422683716}, {\"text\": \"When is the Tulip Festival in Michigan ?\", \"x\": 7.362686634063721, \"y\": 1.1078389883041382}, {\"text\": \"Who came up with the name , El Nino ?\", \"x\": 5.106853485107422, \"y\": 3.4607648849487305}, {\"text\": \"What movie did Madilyn Kahn star in with Gene Wilder ?\", \"x\": 8.768733024597168, \"y\": 4.745513439178467}, {\"text\": \"What type of bridge is the Golden Gate Bridge ?\", \"x\": 5.141991138458252, \"y\": 2.023282289505005}, {\"text\": \"What dictator has the nickname `` El Maximo '' ?\", \"x\": 7.792484760284424, \"y\": 2.5738942623138428}, {\"text\": \"What stereo manufacturer is `` Slightly ahead of its time '' ?\", \"x\": 5.2588324546813965, \"y\": 3.6538467407226562}, {\"text\": \"What U.S. city is The Queen of the Pacific ?\", \"x\": 6.101485729217529, \"y\": 1.4047855138778687}, {\"text\": \"What TV sitcom character had the maiden name Ethel Potter ?\", \"x\": 8.674590110778809, \"y\": 3.913057327270508}, {\"text\": \"What was the first Lifesaver flavor ?\", \"x\": 4.428772449493408, \"y\": 3.4622159004211426}, {\"text\": \"Who kept the most famous diary in the English language ?\", \"x\": 7.64017391204834, \"y\": 4.818315029144287}, {\"text\": \"Where can I find out the top 1 singles ?\", \"x\": 6.402893543243408, \"y\": 5.138506889343262}, {\"text\": \"How many degrees cooler is the inside of a cucumber than the air outside ?\", \"x\": 4.176822662353516, \"y\": 2.09090518951416}, {\"text\": \"What Spanish artist painted Crucifixion ?\", \"x\": 7.067529678344727, \"y\": 0.5362047553062439}, {\"text\": \"What is the Jewish bible called ?\", \"x\": 4.554538249969482, \"y\": 5.396981239318848}, {\"text\": \"Why is the grass green ?\", \"x\": 3.3078346252441406, \"y\": 3.0196566581726074}, {\"text\": \"What is a firewall ?\", \"x\": 3.298840284347534, \"y\": 4.392788410186768}, {\"text\": \"What spy novelist served as Moscow correspondent for Reuter and The Times of London ?\", \"x\": 7.372617721557617, \"y\": 4.8015522956848145}, {\"text\": \"Which oil company almost picked a word that meant `` stalled car '' in Japanese as its new international name ?\", \"x\": 4.767846584320068, \"y\": 4.353072166442871}, {\"text\": \"How long does it take for Spider-Man 's web to evaporate ?\", \"x\": 3.9148130416870117, \"y\": 1.984504222869873}, {\"text\": \"Who was Randy Steven Craft 's lawyer ?\", \"x\": 7.108588218688965, \"y\": 3.0407068729400635}, {\"text\": \"What was known as the Spice Island ?\", \"x\": 5.170562744140625, \"y\": 0.08525846153497696}, {\"text\": \"Who was the first host of Person to Person ?\", \"x\": 8.360465049743652, \"y\": 3.2743053436279297}, {\"text\": \"Name the Ranger who was always after Yogi Bear .\", \"x\": 8.032024383544922, \"y\": 3.633911609649658}, {\"text\": \"What deck of cards includes the Wheel of Fortune , the Lovers , and Death ?\", \"x\": 5.189033508300781, \"y\": 2.7597157955169678}, {\"text\": \"What does the Statue of Liberty wear on her feet ?\", \"x\": 4.027244567871094, \"y\": 2.2185723781585693}, {\"text\": \"Who is the superstar in rent-a-cars ?\", \"x\": 6.105017185211182, \"y\": 3.567436456680298}, {\"text\": \"McCarren Airport is located in what city ?\", \"x\": 5.777629375457764, \"y\": 1.125337839126587}, {\"text\": \"What household facility contains a float ball , ballcock , and overflow tube ?\", \"x\": 3.3354012966156006, \"y\": 3.3860409259796143}, {\"text\": \"What was the name of Betty Boop 's dog ?\", \"x\": 8.349905014038086, \"y\": 3.7042524814605713}, {\"text\": \"What fraction of a beaver 's life is spent swimming ?\", \"x\": 3.9660496711730957, \"y\": 1.8235737085342407}, {\"text\": \"What was the Bridge of San Luis Rey made of ?\", \"x\": 5.137691020965576, \"y\": 2.1352696418762207}, {\"text\": \"What do economists do ?\", \"x\": 3.9119086265563965, \"y\": 4.342731475830078}, {\"text\": \"What country has the largest sheep population ?\", \"x\": 5.5408830642700195, \"y\": 0.0380672849714756}, {\"text\": \"What do I need to do to take my dog with me to live in Dominica , West Indies for a year ?\", \"x\": 5.111347675323486, \"y\": 0.07684236019849777}, {\"text\": \"What country is the world 's largest importer of cognac ?\", \"x\": 5.703274250030518, \"y\": 0.10253451764583588}, {\"text\": \"How many years is Johnnie Walker Black Label aged ?\", \"x\": 4.424671173095703, \"y\": 3.1508378982543945}, {\"text\": \"What does SIDS stand for ?\", \"x\": 2.3981029987335205, \"y\": 4.100142955780029}, {\"text\": \"What is Grenada 's main commodity export ?\", \"x\": 5.340825080871582, \"y\": 0.007040740922093391}, {\"text\": \"How much would a black-and-white 1-cent stamp be worth , Thomas Jefferson on it , ?\", \"x\": 4.755018711090088, \"y\": 2.7921998500823975}, {\"text\": \"What makes a clitoris sensitive ?\", \"x\": 2.2461647987365723, \"y\": 3.4922444820404053}, {\"text\": \"What country has the most time zones , with 11 ?\", \"x\": 5.61173677444458, \"y\": 0.32437288761138916}, {\"text\": \"What `` magic '' does Mandrake employ ?\", \"x\": 4.44706916809082, \"y\": 3.9373867511749268}, {\"text\": \"Who is the president of Stanford University ?\", \"x\": 7.3604207038879395, \"y\": 3.0802993774414062}, {\"text\": \"Whose first presidential order was : `` Let 's get this goddamn thing airborne '' ?\", \"x\": 7.929784774780273, \"y\": 2.733304262161255}, {\"text\": \"What was introduced commercially by Bayer A.G. of Leverkusen , in 1899 ?\", \"x\": 5.294607639312744, \"y\": 3.5771408081054688}, {\"text\": \"What city is Logan Airport in ?\", \"x\": 5.796380519866943, \"y\": 1.1289668083190918}, {\"text\": \"What is a nanometer ?\", \"x\": 3.4980907440185547, \"y\": 4.220757961273193}, {\"text\": \"How many innings are there in a regulation softball game ?\", \"x\": 4.433424472808838, \"y\": 2.1620280742645264}, {\"text\": \"When did CNN go on the air ?\", \"x\": 6.3591227531433105, \"y\": 4.095853328704834}, {\"text\": \"What is the largest city on the Great Lakes ?\", \"x\": 5.9984588623046875, \"y\": 1.4411096572875977}, {\"text\": \"What is the telephone number for the University of Kentucky ?\", \"x\": 5.846891403198242, \"y\": 2.0955004692077637}, {\"text\": \"Who invented baseball ?\", \"x\": 5.790616035461426, \"y\": 3.334306478500366}, {\"text\": \"How many wives did Brigham Young have ?\", \"x\": 6.812365531921387, \"y\": 3.811210870742798}, {\"text\": \"What product on the market is good for hiding facial scars ?\", \"x\": 2.942234754562378, \"y\": 3.319875478744507}, {\"text\": \"How long is the Coney Island boardwalk ?\", \"x\": 4.414089679718018, \"y\": 1.6957824230194092}, {\"text\": \"What city gained renown for its pea-soup fogs ?\", \"x\": 6.0934529304504395, \"y\": 1.0310736894607544}, {\"text\": \"What does `` Janelle '' mean ?\", \"x\": 3.874500036239624, \"y\": 5.846220016479492}, {\"text\": \"How do I get another city 's newspaper ?\", \"x\": 5.923208713531494, \"y\": 5.237392425537109}, {\"text\": \"Name a movie about the Sioux Indians starring Kevin Costner .\", \"x\": 8.67623233795166, \"y\": 4.984357833862305}, {\"text\": \"Who was shot in the back during a Poker game in Deadwood , the Dakota territory ?\", \"x\": 7.886724948883057, \"y\": 3.075648546218872}, {\"text\": \"What are the distinct physical characterstics of the Arabian horse ?\", \"x\": 3.092482566833496, \"y\": 2.0923776626586914}, {\"text\": \"What is a fear of thunder ?\", \"x\": 1.70807945728302, \"y\": 3.984795331954956}, {\"text\": \"What animal has killed the most people ?\", \"x\": 2.77274227142334, \"y\": 1.6344093084335327}, {\"text\": \"How many colleges are in Wyoming ?\", \"x\": 5.797837734222412, \"y\": 2.1533687114715576}, {\"text\": \"What Russian seaport has a name meaning `` Lord of the East '' ?\", \"x\": 6.131875038146973, \"y\": 1.4053735733032227}, {\"text\": \"Where can stocks be traded on-line ?\", \"x\": 5.188061237335205, \"y\": 4.8600754737854}, {\"text\": \"When was the Battle of Hastings ?\", \"x\": 7.868219375610352, \"y\": 1.3377147912979126}, {\"text\": \"What kind of file has the extension .dbf ?\", \"x\": 4.928112030029297, \"y\": 4.7789459228515625}, {\"text\": \"When did Muhammad live ?\", \"x\": 7.195868015289307, \"y\": 1.5793273448944092}, {\"text\": \"What then-derogatory term was applied to the painters Monet , Sisley , Pissarro , Renoir and Degas ?\", \"x\": 6.9723615646362305, \"y\": 0.4531187117099762}, {\"text\": \"What is a wop ?\", \"x\": 4.000307083129883, \"y\": 4.884967803955078}, {\"text\": \"Where do rocks come from ?\", \"x\": 3.07563853263855, \"y\": 3.6240036487579346}, {\"text\": \"How do I stop background noise in a car stereo ?\", \"x\": 4.584342956542969, \"y\": 3.2975404262542725}, {\"text\": \"Where do people mountain climb in Nepal ?\", \"x\": 4.622467994689941, \"y\": 0.6249233484268188}, {\"text\": \"What is the best college in the country ?\", \"x\": 5.9336724281311035, \"y\": 2.161712408065796}, {\"text\": \"What is viscosity ?\", \"x\": 3.2481608390808105, \"y\": 3.9916892051696777}, {\"text\": \"What was the name of the sitcom that Alyssa Milano starred in with Tony Danza ?\", \"x\": 8.771484375, \"y\": 3.967744827270508}, {\"text\": \"What are the Nordic nations ?\", \"x\": 5.892975807189941, \"y\": 0.2041606307029724}, {\"text\": \"Where on the Internet can I get information about the Fifth Amendment on the American Bill of Rights ?\", \"x\": 6.148432731628418, \"y\": 4.781279563903809}, {\"text\": \"What U.S. state borders Illinois to the north ?\", \"x\": 5.755545616149902, \"y\": 1.3398381471633911}, {\"text\": \"Name a film in which Jude Law acted .\", \"x\": 8.764054298400879, \"y\": 4.995710849761963}, {\"text\": \"What is the temperature for baking Peachy Oat Muffins ?\", \"x\": 4.216434001922607, \"y\": 2.080857753753662}, {\"text\": \"What is a fear of bees ?\", \"x\": 1.6333396434783936, \"y\": 3.8680295944213867}, {\"text\": \"What Vladimir Nabokov novel features Professor Humbert in love with a 12-year-old girl ?\", \"x\": 7.441593647003174, \"y\": 4.934588432312012}, {\"text\": \"What is a green bog ?\", \"x\": 3.1823980808258057, \"y\": 2.9823741912841797}, {\"text\": \"Where did the myth of Santa Claus originate ?\", \"x\": 5.042294979095459, \"y\": 3.271092414855957}, {\"text\": \"What does a chairbound basophobic fear ?\", \"x\": 1.7249376773834229, \"y\": 3.975963830947876}, {\"text\": \"What city is served by Logan International Airport ?\", \"x\": 5.813538074493408, \"y\": 1.1291465759277344}, {\"text\": \"What wrestling star became `` The Incredible Hulk '' ?\", \"x\": 6.736954212188721, \"y\": 3.470911741256714}, {\"text\": \"What attracts tourists to Reims ?\", \"x\": 6.121363162994385, \"y\": 0.6131389141082764}, {\"text\": \"What game do Steve McQueen and Edward G. Robinson play in The Cincinnati Kid ?\", \"x\": 6.06055212020874, \"y\": 2.9430887699127197}, {\"text\": \"What fastener did Whitcomb Judson patent in 1893 ?\", \"x\": 5.701039791107178, \"y\": 3.5868031978607178}, {\"text\": \"What 's an auberge in France ?\", \"x\": 6.283729553222656, \"y\": 0.556154191493988}, {\"text\": \"Who was the star of the 1965 Broadway hit Golden Boy ?\", \"x\": 8.630448341369629, \"y\": 4.707791328430176}, {\"text\": \"Where is Procter & Gamble based in the U.S. ?\", \"x\": 5.287493705749512, \"y\": 3.882327079772949}, {\"text\": \"What army was founded by William Booth and his wife Catherine ?\", \"x\": 7.259049415588379, \"y\": 2.920144557952881}, {\"text\": \"What does ribavirin consist of ?\", \"x\": 3.7441229820251465, \"y\": 3.647449016571045}, {\"text\": \"Name the soft drink that is `` number one in the sun . ''\", \"x\": 4.6334686279296875, \"y\": 3.7122244834899902}, {\"text\": \"What is the web address of the list of e-mail addresses of members of the House of Representatives ?\", \"x\": 5.620481014251709, \"y\": 5.006716251373291}, {\"text\": \"What was her real name ?\", \"x\": 7.941662311553955, \"y\": 3.5348918437957764}, {\"text\": \"Why are the ears your center of balance ?\", \"x\": 2.262561321258545, \"y\": 3.28324294090271}, {\"text\": \"Who invented the toothbrush ?\", \"x\": 5.757811069488525, \"y\": 3.3875787258148193}, {\"text\": \"What was the name of that popular song the Creeps sang ?\", \"x\": 7.494311809539795, \"y\": 4.408053874969482}, {\"text\": \"Where is the Abominable Snowman said to wander ?\", \"x\": 4.594038486480713, \"y\": 0.6886443495750427}, {\"text\": \"What is a fear of being alone ?\", \"x\": 1.6467533111572266, \"y\": 4.045699596405029}, {\"text\": \"How many dots make up the symbol for `` because '' ?\", \"x\": 4.154309272766113, \"y\": 4.597870826721191}, {\"text\": \"What do you get by adding Lactobacillus bulgaricus to milk ?\", \"x\": 3.9852094650268555, \"y\": 3.700387716293335}, {\"text\": \"When reading classified ads , what does EENTY : other stand for ?\", \"x\": 4.20534610748291, \"y\": 4.833253860473633}, {\"text\": \"How many hearts does an octopus have ?\", \"x\": 3.9074552059173584, \"y\": 2.0993454456329346}, {\"text\": \"What plant has the largest seed ?\", \"x\": 3.761758804321289, \"y\": 1.13359797000885}, {\"text\": \"What was the only country you were allowed to drive into Israel from in 1979 ?\", \"x\": 7.531169891357422, \"y\": 1.5268794298171997}, {\"text\": \"What 's approaching when a cyclist shouts : `` Oil '' ?\", \"x\": 4.627941608428955, \"y\": 4.306856632232666}, {\"text\": \"What baseball star turned down a $1 , 000-a-year contract because he felt he had n't earned it ?\", \"x\": 6.56196928024292, \"y\": 3.256503105163574}, {\"text\": \"What kind of sport is often associated with hooligans ?\", \"x\": 5.734490394592285, \"y\": 2.973855972290039}, {\"text\": \"What video game hero do some of his fans call Chomper ?\", \"x\": 7.921687602996826, \"y\": 4.008826732635498}, {\"text\": \"How many holes are there in a tenpin bowling ball ?\", \"x\": 4.202434539794922, \"y\": 2.346358299255371}, {\"text\": \"What is the longest word in the English language ?\", \"x\": 3.341171979904175, \"y\": 5.1801276206970215}, {\"text\": \"In What city or state do the most gay men live in ?\", \"x\": 5.823612689971924, \"y\": 1.4213677644729614}, {\"text\": \"What TV comediennes 's characters include former movie star Nora Desmond , secretary Mrs. Wiggins and a housewife named Eunice ?\", \"x\": 8.72229290008545, \"y\": 4.039495944976807}, {\"text\": \"What is `` the bear of beers '' ?\", \"x\": 4.416743755340576, \"y\": 3.4900176525115967}, {\"text\": \"Name the operating system that runs on IBM-compatible machines .\", \"x\": 5.134854316711426, \"y\": 4.357372760772705}, {\"text\": \"What does the name `` Justin '' mean ?\", \"x\": 3.8335483074188232, \"y\": 5.895934104919434}, {\"text\": \"What percentage of the body is muscle ?\", \"x\": 3.63441801071167, \"y\": 2.045912504196167}, {\"text\": \"What color of dry wine should be served with veal roasts and chops ?\", \"x\": 3.8602423667907715, \"y\": 3.104783058166504}, {\"text\": \"What is a golf ball made of ?\", \"x\": 3.7785568237304688, \"y\": 3.1119518280029297}, {\"text\": \"What is the Amish religion ?\", \"x\": 4.300262451171875, \"y\": 5.304159164428711}, {\"text\": \"What does an average daycare provider get paid in New England ?\", \"x\": 5.473029613494873, \"y\": 2.2301535606384277}, {\"text\": \"What was the name of the 187s Irish terrorist group in Pennsylvania mining areas ?\", \"x\": 7.471501350402832, \"y\": 2.438767433166504}, {\"text\": \"Who played the Ringo Kid in the 1939 film Stagecoach ?\", \"x\": 8.49030590057373, \"y\": 4.390145301818848}, {\"text\": \"Who died 1 feet from where John F. Kennedy did ?\", \"x\": 8.424236297607422, \"y\": 2.5586769580841064}, {\"text\": \"What is the `` coppertop '' battery ?\", \"x\": 3.475687026977539, \"y\": 3.8951761722564697}, {\"text\": \"What sign is The Water Carrier the zodiacal symbol for ?\", \"x\": 3.592421054840088, \"y\": 1.455025553703308}, {\"text\": \"What animals do you find in the stock market ?\", \"x\": 2.8049111366271973, \"y\": 2.3493905067443848}, {\"text\": \"What is color ?\", \"x\": 3.2811050415039062, \"y\": 2.976412057876587}, {\"text\": \"When is the site www.questions.com going to open ?\", \"x\": 5.525130748748779, \"y\": 4.665135860443115}, {\"text\": \"What did Shostakovich write for Rostropovich ?\", \"x\": 7.1059064865112305, \"y\": 4.523868560791016}, {\"text\": \"What first name was Nipsy Russell given at birth ?\", \"x\": 8.039746284484863, \"y\": 3.5600697994232178}, {\"text\": \"How can I get some free technical information on Electric Vehicle ?\", \"x\": 5.910215377807617, \"y\": 4.728512287139893}, {\"text\": \"Who is the youngest of the Beatles ?\", \"x\": 7.214943885803223, \"y\": 4.32229471206665}, {\"text\": \"How did shipyard inspector James J. Kilroy designate equipment as being satisfactory ?\", \"x\": 5.665886402130127, \"y\": 3.6555135250091553}, {\"text\": \"What is a Jellicle Cat ?\", \"x\": 2.6351194381713867, \"y\": 2.1003904342651367}, {\"text\": \"Where can I find the best free evidence for debate about Russia ?\", \"x\": 6.229365825653076, \"y\": 4.725208759307861}, {\"text\": \"What is Bill Gates of Microsoft E-mail address ?\", \"x\": 5.586109638214111, \"y\": 4.772021293640137}, {\"text\": \"What is the second hardest substance ?\", \"x\": 3.3590087890625, \"y\": 3.7689526081085205}, {\"text\": \"Why did several San Diego schools stop serving apples to students ?\", \"x\": 6.8836565017700195, \"y\": 2.5993120670318604}, {\"text\": \"What Russian city boasts the Hermitage Museum ?\", \"x\": 6.111579418182373, \"y\": 1.2345293760299683}, {\"text\": \"When is Bastille Day ?\", \"x\": 7.759436130523682, \"y\": 0.9936603307723999}, {\"text\": \"What makes a tornado turn ?\", \"x\": 3.1008503437042236, \"y\": 3.461483955383301}, {\"text\": \"How many shots can a stock M16 hold ?\", \"x\": 4.048095226287842, \"y\": 2.4705185890197754}, {\"text\": \"What two colors are you blind to if you suffer from protanopia ?\", \"x\": 3.4222161769866943, \"y\": 2.822431802749634}, {\"text\": \"Why do n't you guys have some sort of contest where you ask a question and whoever finds the answers wins a prize ?\", \"x\": 5.552884578704834, \"y\": 4.665111541748047}, {\"text\": \"Who is Coronado ?\", \"x\": 6.841823577880859, \"y\": 1.7404252290725708}, {\"text\": \"What was the name of the movie that starred Sharon Stone and Arnold Schwarzenegger ?\", \"x\": 8.768205642700195, \"y\": 4.902292728424072}, {\"text\": \"What is artificial intelligence ?\", \"x\": 3.1956138610839844, \"y\": 4.420858860015869}, {\"text\": \"What do flatfish eat ?\", \"x\": 2.8049471378326416, \"y\": 2.3892407417297363}, {\"text\": \"Who was the first Holy Roman Emperor ?\", \"x\": 7.114797592163086, \"y\": 0.9865109324455261}, {\"text\": \"What can I use to remove the stubborn gummed labels from some diskettes ?\", \"x\": 4.076170444488525, \"y\": 3.2304530143737793}, {\"text\": \"What day of the week sees the most fatal car accidents ?\", \"x\": 7.687582492828369, \"y\": 0.9917307496070862}, {\"text\": \"What is the origin of the word , magic ?\", \"x\": 3.547100782394409, \"y\": 5.637459754943848}, {\"text\": \"What sport do you shag flies in ?\", \"x\": 3.306151866912842, \"y\": 2.1547470092773438}, {\"text\": \"What is white chocolate ?\", \"x\": 4.017585277557373, \"y\": 3.4774057865142822}, {\"text\": \"Where is Trinidad ?\", \"x\": 5.156081199645996, \"y\": 0.2114679366350174}, {\"text\": \"Name the organization that is presided by a Security Council .\", \"x\": 4.755938529968262, \"y\": 4.90198278427124}, {\"text\": \"Who graced the airwaves with such pearls as `` Do ya lo-o-ove me ? Get naked , baby ! '' ?\", \"x\": 7.659669399261475, \"y\": 4.27266788482666}, {\"text\": \"What kind of wine is Spumante ?\", \"x\": 4.256985187530518, \"y\": 3.4550042152404785}, {\"text\": \"Who portrayed portly criminologist Carl Hyatt on Checkmate ?\", \"x\": 8.523008346557617, \"y\": 4.256545066833496}, {\"text\": \"How do you say I love you in Spanish ?\", \"x\": 3.64180326461792, \"y\": 5.356189250946045}, {\"text\": \"What does the name Gina mean ?\", \"x\": 3.86185359954834, \"y\": 5.926918983459473}, {\"text\": \"What is the most advanced handheld calculator in the world ?\", \"x\": 5.277568817138672, \"y\": 3.2035746574401855}, {\"text\": \"How fast is light ?\", \"x\": 4.161147117614746, \"y\": 1.6981309652328491}, {\"text\": \"What is the belt of low pressure around the equator called ?\", \"x\": 4.701393127441406, \"y\": 0.5487950444221497}, {\"text\": \"What are shooting stars ?\", \"x\": 3.0261359214782715, \"y\": 3.4481749534606934}, {\"text\": \"Whom did the Chicago Bulls beat in the 1993 championship ?\", \"x\": 6.444626331329346, \"y\": 2.7791521549224854}, {\"text\": \"When was the first American encyclopedia published ?\", \"x\": 6.228183269500732, \"y\": 4.202845096588135}, {\"text\": \"What 's the tallest building in New York City ?\", \"x\": 4.9494123458862305, \"y\": 1.0385046005249023}, {\"text\": \"How is Easter Sunday 's date determined ?\", \"x\": 7.712184429168701, \"y\": 0.9061272144317627}, {\"text\": \"What is the Motto for the State of Maryland ?\", \"x\": 4.141086578369141, \"y\": 5.3692216873168945}, {\"text\": \"Who is Desmond Tutu ?\", \"x\": 7.268489360809326, \"y\": 3.439030885696411}, {\"text\": \"Where can I find information on the Narragansett Indians and other tribes in Rhode Island ?\", \"x\": 6.227015495300293, \"y\": 4.79978084564209}, {\"text\": \"Name a tiger that is extinct .\", \"x\": 2.761098623275757, \"y\": 1.7146755456924438}, {\"text\": \"How many quarters equal a pound ?\", \"x\": 4.505758285522461, \"y\": 2.0845675468444824}, {\"text\": \"What kind of books does Fodor 's publish ?\", \"x\": 6.505583763122559, \"y\": 4.828714370727539}, {\"text\": \"What are the first names of Rowan and Martin , the stars of TV 's Laugh-In ?\", \"x\": 8.690214157104492, \"y\": 3.86081600189209}, {\"text\": \"What chapter of the Bible has the most verses ?\", \"x\": 4.962133884429932, \"y\": 5.412745475769043}, {\"text\": \"Who is the worst US President ever ?\", \"x\": 8.077369689941406, \"y\": 2.6731700897216797}, {\"text\": \"What Asian leader was known as The Little Brown Saint ?\", \"x\": 7.787424087524414, \"y\": 2.6470108032226562}, {\"text\": \"What is the abbreviated expression for the National Bureau of Investigation ?\", \"x\": 4.7285871505737305, \"y\": 4.881596088409424}, {\"text\": \"How fast does the fastest car go ?\", \"x\": 4.4465718269348145, \"y\": 1.8121371269226074}, {\"text\": \"What is the highest mountain in the world ?\", \"x\": 4.579821586608887, \"y\": 0.7053291201591492}, {\"text\": \"What arch can you see from the Place de la Concorde ?\", \"x\": 6.0441083908081055, \"y\": 0.6754186749458313}, {\"text\": \"Who sings the song `` Drink to me with thine eyes '' by Ben Johnson ?\", \"x\": 7.4639506340026855, \"y\": 4.470888614654541}, {\"text\": \"How long should a person wash their hands before they are clean ?\", \"x\": 3.8615739345550537, \"y\": 2.0042781829833984}, {\"text\": \"Which way do you turn your Bic to increase the flame - clockwise or counterclockwise ?\", \"x\": 4.085874557495117, \"y\": 2.6704647541046143}, {\"text\": \"Which is the wealthiest country in the world ?\", \"x\": 5.6454010009765625, \"y\": 0.10991683602333069}, {\"text\": \"How can I find a phone number of someone if I only know their email address ?\", \"x\": 5.6627607345581055, \"y\": 5.16470193862915}, {\"text\": \"How can you contact play producers and promoters on-line ?\", \"x\": 5.808940887451172, \"y\": 5.202911376953125}, {\"text\": \"Who is the monarch of the United Kingdom ?\", \"x\": 7.308389663696289, \"y\": 1.0156049728393555}, {\"text\": \"What is a fear of passing high objects ?\", \"x\": 1.7063534259796143, \"y\": 4.019820690155029}, {\"text\": \"What do players try to do when the music stops in a game of musical chairs ?\", \"x\": 5.131134986877441, \"y\": 2.6894021034240723}, {\"text\": \"What are the top ten most common girl names in the US ?\", \"x\": 5.8699421882629395, \"y\": 5.549213409423828}, {\"text\": \"Why is black the color of mourning in the West ?\", \"x\": 3.424492835998535, \"y\": 2.9303646087646484}, {\"text\": \"What is the rarest coin ?\", \"x\": 4.744095325469971, \"y\": 2.804215431213379}, {\"text\": \"What Judith Rossner novel was made into a film starring Diane Keaton ?\", \"x\": 8.607049942016602, \"y\": 5.007124423980713}, {\"text\": \"Which country is Australia 's largest export market ?\", \"x\": 5.531343460083008, \"y\": -0.008417085744440556}, {\"text\": \"Where is the Kentucky Horse Park located ?\", \"x\": 5.853636264801025, \"y\": 1.7340505123138428}, {\"text\": \"What is a fear of parasites ?\", \"x\": 1.781032681465149, \"y\": 3.8896842002868652}, {\"text\": \"In what Olympic Games did Nadia Comaneci become popular ?\", \"x\": 6.754051685333252, \"y\": 3.2898643016815186}, {\"text\": \"Who does data collection in tourism ?\", \"x\": 4.754793643951416, \"y\": 1.3635215759277344}, {\"text\": \"What was the name of the daughter of the Virginia chief Powhatan that married John Rolfe ?\", \"x\": 7.741424560546875, \"y\": 3.3780720233917236}, {\"text\": \"What is the leading pecan and peanut growing state ?\", \"x\": 5.4604902267456055, \"y\": 1.4662282466888428}, {\"text\": \"What does a nihilist believe in ?\", \"x\": 4.248327255249023, \"y\": 5.262425899505615}, {\"text\": \"What did Richard Feynman say upon hearing he would receive the Nobel Prize in Physics ?\", \"x\": 7.371016025543213, \"y\": 3.3807053565979004}, {\"text\": \"In what sport are these following numbers relevant : 118 , 126 , 134 , 142 , 15 , 158 , 167 , 177 , and 19 ?\", \"x\": 5.836514949798584, \"y\": 2.990957260131836}, {\"text\": \"Who were the four famous founders of United Artists ?\", \"x\": 8.596092224121094, \"y\": 4.235228538513184}, {\"text\": \"What 2 statues did France give to other countries ?\", \"x\": 6.175841808319092, \"y\": 0.570103645324707}, {\"text\": \"What are amphibians ?\", \"x\": 2.7054505348205566, \"y\": 2.6677849292755127}, {\"text\": \"How many sperm cells are in an average ejaculation ?\", \"x\": 3.733639717102051, \"y\": 2.0716216564178467}, {\"text\": \"Name the disposable razor that `` costs about 19 cents . ''\", \"x\": 4.8450608253479, \"y\": 3.446000337600708}, {\"text\": \"How far do you have to run if you hit a home run ?\", \"x\": 4.333658218383789, \"y\": 1.7719253301620483}, {\"text\": \"Who was the only U.S. President to wear a Nazi uniform ?\", \"x\": 8.007845878601074, \"y\": 2.5785646438598633}, {\"text\": \"Woodrow Wilson served as president of what university ?\", \"x\": 7.701667308807373, \"y\": 2.8951575756073}, {\"text\": \"Where are the tropical rain forest distributions ?\", \"x\": 5.268113136291504, \"y\": 0.23410382866859436}, {\"text\": \"What 's the nickname of oddsmaker Jimmy Snyder ?\", \"x\": 6.559741497039795, \"y\": 3.243250608444214}, {\"text\": \"What is the fear of being loved ?\", \"x\": 1.68073570728302, \"y\": 4.068062782287598}, {\"text\": \"What was the number of people that Randy Steven Craft was convicted of killing ?\", \"x\": 7.143885135650635, \"y\": 2.6129398345947266}, {\"text\": \"What was Queen Victoria 's title regarding India ?\", \"x\": 7.368068695068359, \"y\": 1.180989146232605}, {\"text\": \"How is a hydrogen bomb different from a nuclear bomb ?\", \"x\": 3.4500555992126465, \"y\": 4.167787551879883}, {\"text\": \"How far can a man travel in outer space ?\", \"x\": 4.426327228546143, \"y\": 1.5559773445129395}, {\"text\": \"Where was Lincoln assassinated ?\", \"x\": 8.300021171569824, \"y\": 2.4385323524475098}, {\"text\": \"What type of food makes you fat ?\", \"x\": 3.079890489578247, \"y\": 3.0710456371307373}, {\"text\": \"What is the name of the chronic neurological autoimmune disease which attacks the protein sheath that surrounds nerve cells causing a gradual loss of movement in the body ?\", \"x\": 2.267622470855713, \"y\": 3.897932529449463}, {\"text\": \"What was the U.S. highway death toll in 1969 ?\", \"x\": 6.9167399406433105, \"y\": 2.162581443786621}, {\"text\": \"What kind of animals are Dorsets , Lincolns , Oxfords and Southdowns ?\", \"x\": 2.8859212398529053, \"y\": 1.9991377592086792}, {\"text\": \"What are the shortest and the longest songs ever produced ?\", \"x\": 7.1237382888793945, \"y\": 4.405253887176514}, {\"text\": \"What letter is to the right of K on a typewriter keyboard ?\", \"x\": 4.237981796264648, \"y\": 4.728183746337891}, {\"text\": \"What is the origin and the meaning of the name , `` Hajo ? ''\", \"x\": 3.8308165073394775, \"y\": 5.905287265777588}, {\"text\": \"What is the plural of gulf ?\", \"x\": 3.771064281463623, \"y\": 4.984785079956055}, {\"text\": \"Whose autobiography is titled Yes I Can ?\", \"x\": 7.547124862670898, \"y\": 4.000248432159424}, {\"text\": \"What year did the United States pass the Copyright law ?\", \"x\": 6.207329273223877, \"y\": 4.222817420959473}, {\"text\": \"What percentage of Americans own their homes ?\", \"x\": 6.3678741455078125, \"y\": 2.078076124191284}, {\"text\": \"What 's the first day of the week ?\", \"x\": 7.805905342102051, \"y\": 0.8798878192901611}, {\"text\": \"What city was President William McKinley shot in ?\", \"x\": 8.112605094909668, \"y\": 2.5137667655944824}, {\"text\": \"What city has the world 's longest subway system ?\", \"x\": 5.469936847686768, \"y\": 0.7727760672569275}, {\"text\": \"Who claimed he killed 4 , 280 buffalo as food for the crew building the Kansas Pacific Railway ?\", \"x\": 7.777218818664551, \"y\": 3.325132369995117}, {\"text\": \"What is Bombay duck ?\", \"x\": 4.004308700561523, \"y\": 3.612175464630127}, {\"text\": \"How many degrees cooler is the inside of a cucumber than the air outside ?\", \"x\": 4.15708589553833, \"y\": 2.046447277069092}, {\"text\": \"What double talking `` professor '' holds a doctorate in Nothing ?\", \"x\": 7.254736423492432, \"y\": 3.4394309520721436}, {\"text\": \"What are the five most expensive cities in the world ?\", \"x\": 5.84934663772583, \"y\": 0.47612646222114563}, {\"text\": \"What 19th-century writer had a country estate on the Hudson dubbed Sunnyside ?\", \"x\": 7.615544319152832, \"y\": 4.925799369812012}, {\"text\": \"How many layers of yellow paint is a Faber Mongol pencil lucky enough to be sprayed with ?\", \"x\": 4.004563808441162, \"y\": 2.5354626178741455}, {\"text\": \"What is a virtual IP address ?\", \"x\": 3.351799964904785, \"y\": 4.5082926750183105}, {\"text\": \"What was the name of the cook on Rawhide ?\", \"x\": 7.946197986602783, \"y\": 3.434584140777588}, {\"text\": \"What county is Chicago in ?\", \"x\": 5.90819787979126, \"y\": 1.540134310722351}, {\"text\": \"What is the wingspan of a condor ?\", \"x\": 4.040109157562256, \"y\": 1.6935830116271973}, {\"text\": \"What facial feature typically contains about 55 hairs ?\", \"x\": 2.3802003860473633, \"y\": 3.09498929977417}, {\"text\": \"Who was named Admiral of the Ocean Seas and Viceroy and Governor General of all the islands he might discover , and also granted 10-?? of all profits of his voyage .\", \"x\": 6.904831886291504, \"y\": 1.4637911319732666}, {\"text\": \"How can I transport files from one computer to another ?\", \"x\": 5.430686950683594, \"y\": 4.949557304382324}, {\"text\": \"What 's the literary term for a play on words ?\", \"x\": 3.3969552516937256, \"y\": 5.186152935028076}, {\"text\": \"What color were their horses ?\", \"x\": 3.571532964706421, \"y\": 2.737320899963379}, {\"text\": \"What does an average daycare provider get paid in New England ?\", \"x\": 5.477952480316162, \"y\": 2.262620449066162}, {\"text\": \"What author landed a 468-pound marlin without harness in the early 193 's ?\", \"x\": 7.523064613342285, \"y\": 4.610550403594971}, {\"text\": \"How many Americans fought for the British in the American Revolution ?\", \"x\": 6.854928016662598, \"y\": 1.7629008293151855}, {\"text\": \"What kind of education do I need to become a flight attendant ?\", \"x\": 5.438520908355713, \"y\": 2.252413272857666}, {\"text\": \"What are the two languages of Malta ?\", \"x\": 6.123723983764648, \"y\": 0.14820139110088348}, {\"text\": \"How many oceans are there and name them ?\", \"x\": 4.30259895324707, \"y\": 1.223225712776184}, {\"text\": \"What happened during the Blackhawk Indian war of 1832 ?\", \"x\": 7.718845367431641, \"y\": 2.0247747898101807}, {\"text\": \"How many pairs of legs does a lobster have ?\", \"x\": 4.065227031707764, \"y\": 2.061291456222534}, {\"text\": \"What does the Latin ante mortem mean ?\", \"x\": 3.820115566253662, \"y\": 5.455220699310303}, {\"text\": \"What does the name Shawn mean ?\", \"x\": 3.794325113296509, \"y\": 5.887104511260986}, {\"text\": \"Where is the Danube ?\", \"x\": 5.0759806632995605, \"y\": 0.5510463714599609}, {\"text\": \"What lawyer won the largest divorce settlement , $85 million , in U.S. history for Sheika Dena Al-Farri ?\", \"x\": 7.08657169342041, \"y\": 3.151235580444336}, {\"text\": \"What do you call a group of geese ?\", \"x\": 2.9279747009277344, \"y\": 2.1327881813049316}, {\"text\": \"Who delivered his last newscast on March 6 , 1981 ?\", \"x\": 8.259591102600098, \"y\": 3.0096733570098877}, {\"text\": \"How many times has `` Louie , Louie '' been recorded ?\", \"x\": 7.071257591247559, \"y\": 4.2914605140686035}, {\"text\": \"How is Answers.com different from KnowPost.com ?\", \"x\": 5.326533794403076, \"y\": 4.785455226898193}, {\"text\": \"What is the longest place name in the U.S. ?\", \"x\": 5.607365131378174, \"y\": 1.3834292888641357}, {\"text\": \"What percent liked Thatcher after she had been in power for a decade ?\", \"x\": 7.706001281738281, \"y\": 2.295273542404175}, {\"text\": \"Where does Buzz Aldrin want to build a permanent , manned space station ?\", \"x\": 6.146199703216553, \"y\": 2.053757429122925}, {\"text\": \"What was Mel Gibson 's first movie ?\", \"x\": 8.825419425964355, \"y\": 4.895150661468506}, {\"text\": \"Why was the L.A. office of Shea and Gould closed ?\", \"x\": 6.969119548797607, \"y\": 2.8002328872680664}, {\"text\": \"How do I start a bank ?\", \"x\": 5.129008769989014, \"y\": 4.65745210647583}, {\"text\": \"How do Ouija Boards work ?\", \"x\": 3.770293951034546, \"y\": 3.3471319675445557}, {\"text\": \"What horse did Zorro ride ?\", \"x\": 8.093794822692871, \"y\": 3.912235736846924}, {\"text\": \"How do you get a broken cork out of a bottle ?\", \"x\": 4.044845104217529, \"y\": 2.8776986598968506}, {\"text\": \"Where can I find correct tabs for Third Eye Blind songs ?\", \"x\": 6.345638751983643, \"y\": 5.196949005126953}, {\"text\": \"How do you determine heating requirements for your home ?\", \"x\": 4.374475955963135, \"y\": 2.604689836502075}, {\"text\": \"What former major-league left-handed baseball pitcher was known as `` Space Man '' ?\", \"x\": 6.65627908706665, \"y\": 3.181283473968506}, {\"text\": \"Which hair care product told us `` hate that gray , wash it away '' ?\", \"x\": 4.89678955078125, \"y\": 3.640078067779541}, {\"text\": \"Why did the chicken cross the road ?\", \"x\": 3.177446126937866, \"y\": 2.3048229217529297}, {\"text\": \"What was Michelangelo 's last name ?\", \"x\": 7.058187007904053, \"y\": 0.5999935865402222}, {\"text\": \"Who is Barbara Jordan ?\", \"x\": 7.535106658935547, \"y\": 3.3926939964294434}, {\"text\": \"Who was the Democratic nominee in the American presidential election ?\", \"x\": 8.090848922729492, \"y\": 2.6485958099365234}, {\"text\": \"What was Connecticut 's first constitution called ?\", \"x\": 6.16332483291626, \"y\": 4.344557285308838}, {\"text\": \"What historical event happened in Dogtown in 1899 ?\", \"x\": 7.814305782318115, \"y\": 2.039342164993286}, {\"text\": \"What is being done about the millennium bug ?\", \"x\": 5.529775619506836, \"y\": 4.350123882293701}, {\"text\": \"What was the claim to fame of King Camp Gillette ?\", \"x\": 5.689597129821777, \"y\": 3.5394656658172607}, {\"text\": \"What is the most common kind of skin cancer in the U.S. ?\", \"x\": 2.3830437660217285, \"y\": 3.7071378231048584}, {\"text\": \"What is Olestra ?\", \"x\": 3.9002318382263184, \"y\": 3.7758779525756836}, {\"text\": \"What Asian country has a bill of rights for cows ?\", \"x\": 5.547959804534912, \"y\": 0.1009218841791153}, {\"text\": \"How many fingers are used to draw a bow ?\", \"x\": 4.150729656219482, \"y\": 2.304478645324707}, {\"text\": \"What are two plants that clothes are made from ?\", \"x\": 4.045255184173584, \"y\": 3.1516335010528564}, {\"text\": \"When was Hurricane Hugo ?\", \"x\": 8.181985855102539, \"y\": 1.639585256576538}, {\"text\": \"What is the most heavily caffeinated soft drink ?\", \"x\": 4.373706340789795, \"y\": 3.621610641479492}, {\"text\": \"What President-to-be was the first member of Congress to enlist following the attack on Pearl Harbor ?\", \"x\": 8.019134521484375, \"y\": 2.5603392124176025}, {\"text\": \"What was the price of Varian Associates ' vacuum products division ?\", \"x\": 5.411908149719238, \"y\": 3.848233699798584}, {\"text\": \"When was `` the Great Depression '' ?\", \"x\": 8.166163444519043, \"y\": 1.6599197387695312}, {\"text\": \"What language is mostly spoken in Brazil ?\", \"x\": 5.901808738708496, \"y\": 0.11712046712636948}, {\"text\": \"What college produced the most winning Super Bowl quarterbacks ?\", \"x\": 6.369466781616211, \"y\": 2.6732113361358643}, {\"text\": \"How do you solve `` Rubik 's Cube '' ?\", \"x\": 4.052043437957764, \"y\": 2.9959487915039062}, {\"text\": \"What is prepared mustard ?\", \"x\": 3.9635369777679443, \"y\": 3.6128501892089844}, {\"text\": \"What classical Spanish writer warned : `` All that glitters is not gold '' ?\", \"x\": 7.780099868774414, \"y\": 5.029781341552734}, {\"text\": \"What does `` antidisestablishmentarianism '' mean ?\", \"x\": 3.292588472366333, \"y\": 5.007386684417725}, {\"text\": \"What actor married John F. Kennedy 's sister ?\", \"x\": 8.8666410446167, \"y\": 4.081840991973877}, {\"text\": \"What does a topophobic actor suffer from ?\", \"x\": 1.8472816944122314, \"y\": 4.036440849304199}, {\"text\": \"Who fired Maria Ybarra from her position in San Diego council ?\", \"x\": 7.06162691116333, \"y\": 2.7388546466827393}, {\"text\": \"The italian artist , Maurizio Pellegrin , is how old ?\", \"x\": 6.818479061126709, \"y\": 0.6581118702888489}, {\"text\": \"What type of hunting are retrievers used for ?\", \"x\": 3.235680103302002, \"y\": 1.982084035873413}, {\"text\": \"What is Colin Powell best known for ?\", \"x\": 7.344499588012695, \"y\": 3.2844581604003906}, {\"text\": \"Who was the first black golfer to tee off in the Masters ?\", \"x\": 6.452527046203613, \"y\": 3.317709445953369}, {\"text\": \"What city is the setting for Puccini 's opera La Boheme ?\", \"x\": 6.592744827270508, \"y\": 0.5785932540893555}, {\"text\": \"What U.S. President showed a fondness for munching on bee pollen bars ?\", \"x\": 7.973992347717285, \"y\": 2.650080919265747}, {\"text\": \"What is measured in curies ?\", \"x\": 3.3511130809783936, \"y\": 4.015608310699463}, {\"text\": \"Whose cover is that of an employee of Universal Import and Export ?\", \"x\": 5.6496100425720215, \"y\": 3.9211082458496094}, {\"text\": \"What former president 's daughter has written a book titled Murder in the White House ?\", \"x\": 8.28111457824707, \"y\": 3.023299217224121}, {\"text\": \"What fictional character is known as the `` melancholy Dane '' ?\", \"x\": 7.859123229980469, \"y\": 4.756098747253418}, {\"text\": \"Italy is the largest producer of what ?\", \"x\": 5.725413799285889, \"y\": 0.07118898630142212}, {\"text\": \"What longtime game show host dropped dead while jogging in Central Park in 1984 ?\", \"x\": 8.358799934387207, \"y\": 3.239190101623535}, {\"text\": \"What is the meaning of W.B. Yeat 's poem , `` The Three Hermits ? ''\", \"x\": 7.562496662139893, \"y\": 5.0902099609375}, {\"text\": \"Who were the `` filthiest people alive ? ''\", \"x\": 7.736428260803223, \"y\": 3.688317060470581}, {\"text\": \"What infectious disease is the world 's deadliest ?\", \"x\": 2.1322295665740967, \"y\": 3.6680707931518555}, {\"text\": \"What is Spumante ?\", \"x\": 4.1598100662231445, \"y\": 3.506389856338501}, {\"text\": \"In what year did Ireland elect its first woman president ?\", \"x\": 7.456615924835205, \"y\": 2.417279005050659}, {\"text\": \"What is an isthmus ?\", \"x\": 2.926456928253174, \"y\": 4.115841388702393}, {\"text\": \"What was the name of the orca that died of a fungal infection ?\", \"x\": 8.569485664367676, \"y\": 2.21134614944458}, {\"text\": \"Where is Mozambique located ?\", \"x\": 5.172277927398682, \"y\": 0.3462524116039276}, {\"text\": \"What is Mississippi 's state animal ?\", \"x\": 2.7029099464416504, \"y\": 1.618632197380066}, {\"text\": \"What 's the origin of the word ` news ' ?\", \"x\": 3.5421807765960693, \"y\": 5.62260103225708}, {\"text\": \"What did Dan Aykroyd and John Belushi quit Saturday Night Live to become ?\", \"x\": 8.703859329223633, \"y\": 3.8126535415649414}, {\"text\": \"How many months does a normal human pregnancy last ?\", \"x\": 3.7007389068603516, \"y\": 1.8621973991394043}, {\"text\": \"How do fuel injectors work ?\", \"x\": 3.6003637313842773, \"y\": 3.6870877742767334}, {\"text\": \"How can your school march in the Macy 's Thanksgiving Parade ?\", \"x\": 5.819761753082275, \"y\": 1.9259995222091675}, {\"text\": \"What is the real name of disc jockey `` Wolfman Jack '' ?\", \"x\": 7.682998180389404, \"y\": 3.708050489425659}, {\"text\": \"What Italian liner was hijacked in 1985 ?\", \"x\": 7.8794474601745605, \"y\": 1.6907790899276733}, {\"text\": \"What city houses the U.S. headquarters of Procter and Gamble ?\", \"x\": 5.422672271728516, \"y\": 3.870546817779541}, {\"text\": \"What soap was touted as being `` for people who like people '' ?\", \"x\": 8.535196304321289, \"y\": 3.386702060699463}, {\"text\": \"How much was the minimum wage in 1991 ?\", \"x\": 5.650842666625977, \"y\": 2.5272135734558105}, {\"text\": \"What does NAFTA stand for ?\", \"x\": 4.582082748413086, \"y\": 4.855069637298584}, {\"text\": \"Who invented silly putty ?\", \"x\": 5.640230655670166, \"y\": 3.369809627532959}, {\"text\": \"What new middle school was built in Philadelphia , Pennsylvania last year ?\", \"x\": 6.125706195831299, \"y\": 1.976992130279541}, {\"text\": \"Who patented the first phonograph ?\", \"x\": 5.718110084533691, \"y\": 3.5457465648651123}, {\"text\": \"What are some tips for building a fire in a fireplace ?\", \"x\": 4.2093892097473145, \"y\": 2.7567174434661865}, {\"text\": \"What do manatees eat ?\", \"x\": 2.7852072715759277, \"y\": 2.434164524078369}, {\"text\": \"How do you say 2 in Latin ?\", \"x\": 3.622757911682129, \"y\": 5.274227619171143}, {\"text\": \"What were popular songs and types of songs in the 1920s ?\", \"x\": 7.6700053215026855, \"y\": 4.441210746765137}, {\"text\": \"How many Vietnamese were there in the Soviet Union ?\", \"x\": 7.120546340942383, \"y\": 1.9201844930648804}, {\"text\": \"What is November 's birthstone ?\", \"x\": 3.3442842960357666, \"y\": 3.834381103515625}, {\"text\": \"What is a Certified Nurse Midwife ?\", \"x\": 4.212609767913818, \"y\": 4.271470069885254}, {\"text\": \"On average , how many miles are there to the moon ?\", \"x\": 4.312317371368408, \"y\": 1.6985713243484497}, {\"text\": \"Who created private detective Philip Marlowe ?\", \"x\": 7.7726569175720215, \"y\": 4.817253589630127}, {\"text\": \"What Boris Pasternak book sold 5 , 0 copies to become the fiction best-seller of 1958 ?\", \"x\": 7.418872356414795, \"y\": 4.9163899421691895}, {\"text\": \"What is the origin of the expression `` tout de suite '' ?\", \"x\": 3.557574987411499, \"y\": 5.547425270080566}, {\"text\": \"What is the longest English word ?\", \"x\": 3.4298713207244873, \"y\": 5.236329078674316}, {\"text\": \"What is the purpose of a car bra ?\", \"x\": 3.626237630844116, \"y\": 3.685822010040283}, {\"text\": \"What is D.B. Cooper known for ?\", \"x\": 7.542933940887451, \"y\": 3.3138315677642822}, {\"text\": \"Who is Colin Powell ?\", \"x\": 7.407721996307373, \"y\": 3.4108800888061523}, {\"text\": \"What species is a colt ?\", \"x\": 2.763308048248291, \"y\": 2.0339715480804443}, {\"text\": \"What is the full name of the PLO ?\", \"x\": 4.643831253051758, \"y\": 5.021726131439209}, {\"text\": \"What is the smallest country in Africa ?\", \"x\": 5.139647006988525, \"y\": 0.2840951979160309}, {\"text\": \"Who coined the term NN cyberspace `` in his novel NN Neuromancer '' ?\", \"x\": 7.209554672241211, \"y\": 4.954379558563232}, {\"text\": \"What age followed the Bronze Age ?\", \"x\": 2.95800518989563, \"y\": 2.811244487762451}, {\"text\": \"What is her profession ?\", \"x\": 7.048799514770508, \"y\": 3.5726401805877686}, {\"text\": \"What is the full name of the man who invented the multicolored game cube that has 42.3 quintillion potential combinations ?\", \"x\": 5.538850784301758, \"y\": 3.1904232501983643}, {\"text\": \"What does the word LASER mean ?\", \"x\": 3.3790905475616455, \"y\": 4.278356075286865}, {\"text\": \"What does the name `` Anthony '' mean ?\", \"x\": 3.908118724822998, \"y\": 5.870074272155762}, {\"text\": \"Who was Lauren Bacall 's first husband ?\", \"x\": 8.829261779785156, \"y\": 4.12884521484375}, {\"text\": \"What is a rhomboideus minor ?\", \"x\": 2.5371806621551514, \"y\": 3.8755033016204834}, {\"text\": \"How many hands does Bjorn Borg use when hitting his forehand ?\", \"x\": 4.231286525726318, \"y\": 2.355036497116089}, {\"text\": \"How many people died on D-Day ?\", \"x\": 7.140385627746582, \"y\": 1.9239590167999268}, {\"text\": \"What U.S. Congressman said : `` Keep the faith , baby '' .\", \"x\": 7.8282365798950195, \"y\": 2.8835930824279785}, {\"text\": \"Who created the character of Scrooge ?\", \"x\": 7.880928039550781, \"y\": 4.704819202423096}, {\"text\": \"What is the student population at the University of Massachusetts in Amherst ?\", \"x\": 5.850153923034668, \"y\": 2.043391466140747}, {\"text\": \"Where is Windsor Castle ?\", \"x\": 5.916327476501465, \"y\": 0.9559860825538635}, {\"text\": \"When did the Dow first reach ?\", \"x\": 6.111539363861084, \"y\": 3.8840930461883545}, {\"text\": \"Why were people recruited for the Vietnam War ?\", \"x\": 7.243515491485596, \"y\": 1.9130008220672607}, {\"text\": \"What party was Winston Churchill a member of ?\", \"x\": 7.853429317474365, \"y\": 2.4408586025238037}, {\"text\": \"What American League baseball team 's worst finish between 1926 and 1964 was fourth ?\", \"x\": 6.617664337158203, \"y\": 3.0208194255828857}, {\"text\": \"Where can I find the names of all the 15 Pokemon ?\", \"x\": 6.040560245513916, \"y\": 5.471965312957764}, {\"text\": \"What state does Martha Stewart live in ?\", \"x\": 6.157852649688721, \"y\": 1.5423951148986816}, {\"text\": \"Which killer whale died at Sea World of a fungal infection ?\", \"x\": 8.539169311523438, \"y\": 2.234337329864502}, {\"text\": \"What are the Benelux countries ?\", \"x\": 5.988309383392334, \"y\": 0.28687405586242676}, {\"text\": \"Where 's the Petrified Forest ?\", \"x\": 5.163336753845215, \"y\": 0.8708059191703796}, {\"text\": \"What is a language spoken by the Sioux ?\", \"x\": 6.193141460418701, \"y\": 0.15184734761714935}, {\"text\": \"Where is Tornado Alley ?\", \"x\": 5.154609203338623, \"y\": 0.7669258117675781}, {\"text\": \"Who was the author of `` John Brown 's Body '' ?\", \"x\": 7.613395690917969, \"y\": 4.892571926116943}, {\"text\": \"What American poet wrote : `` Good fences make good neighbors '' ?\", \"x\": 7.597634315490723, \"y\": 5.076754570007324}, {\"text\": \"What state in the U.S. has the most blacks ?\", \"x\": 5.616527080535889, \"y\": 1.4903717041015625}, {\"text\": \"Why are electric cars less efficient in the northeast than in California ?\", \"x\": 5.2013397216796875, \"y\": 1.8562276363372803}, {\"text\": \"What was the occupation of Mandy Rice-Davies ?\", \"x\": 7.6061835289001465, \"y\": 3.500560760498047}, {\"text\": \"What is the city in which Maurizio Pellegrin lives called ?\", \"x\": 6.493189811706543, \"y\": 0.6118406057357788}, {\"text\": \"Who painted the Sistine Chapel ?\", \"x\": 7.111721515655518, \"y\": 0.5247519016265869}, {\"text\": \"Name the various costumed personas of Dr. Henry Pym .\", \"x\": 7.967126846313477, \"y\": 4.071234703063965}, {\"text\": \"What breed of dog was the `` Little Rascals '' dog ?\", \"x\": 8.281692504882812, \"y\": 3.679664134979248}, {\"text\": \"What are the living conditions in Cuba ?\", \"x\": 5.160379886627197, \"y\": 0.1838313192129135}, {\"text\": \"What color are school buses ?\", \"x\": 3.550065755844116, \"y\": 2.8289425373077393}, {\"text\": \"What is the oldest website on the Internet ?\", \"x\": 5.623093605041504, \"y\": 4.565794467926025}, {\"text\": \"What events happened January 26 , 1978 ?\", \"x\": 7.8425092697143555, \"y\": 1.9754453897476196}, {\"text\": \"What explorers followed Columbus to the Americas ?\", \"x\": 6.839293003082275, \"y\": 1.3973256349563599}, {\"text\": \"Who is actress Goldie Hawn 's current actor boyfriend ?\", \"x\": 8.845733642578125, \"y\": 4.219326019287109}, {\"text\": \"Who banned Peter Rose from baseball for betting on games ?\", \"x\": 6.546606063842773, \"y\": 3.081580638885498}, {\"text\": \"What are the seven virtues ?\", \"x\": 5.040670871734619, \"y\": 5.123251914978027}, {\"text\": \"What other name were the `` Little Rascals '' known as ?\", \"x\": 7.881053447723389, \"y\": 3.476270914077759}, {\"text\": \"When was the San Francisco fire ?\", \"x\": 8.048794746398926, \"y\": 1.7554868459701538}, {\"text\": \"What is a fear of food ?\", \"x\": 1.673885703086853, \"y\": 4.039760112762451}, {\"text\": \"How many casinos are in Atlantic City , NJ ?\", \"x\": 5.143631458282471, \"y\": 2.053135871887207}, {\"text\": \"What year did the Vietnam War end ?\", \"x\": 7.7793803215026855, \"y\": 1.8516111373901367}, {\"text\": \"What are the names of Richard Nixon 's two daughters ?\", \"x\": 8.18468952178955, \"y\": 3.27852463722229}, {\"text\": \"What 's the word for broken glass or sharp rocks embedded in cement on top of a wall ?\", \"x\": 3.0769846439361572, \"y\": 3.8905060291290283}, {\"text\": \"What is the chromosome number of an elephant ?\", \"x\": 3.731321096420288, \"y\": 2.003793478012085}, {\"text\": \"What organization was founded by the Rev. Jerry Falwell ?\", \"x\": 7.219679832458496, \"y\": 3.114068031311035}, {\"text\": \"What 's the longest river in the world ?\", \"x\": 4.565467834472656, \"y\": 0.7686598300933838}, {\"text\": \"Which soft drink does Madonna advertise for ?\", \"x\": 4.665138244628906, \"y\": 3.75712513923645}, {\"text\": \"What company is being bought by Yahoo and how much is the deal worth ?\", \"x\": 5.294771194458008, \"y\": 4.363114833831787}, {\"text\": \"When was Berlin 's Brandenburg gate erected ?\", \"x\": 7.264138698577881, \"y\": 1.555130958557129}, {\"text\": \"How many double-word-score spaces are there on a Scrabble Crossword Game board ?\", \"x\": 4.719252109527588, \"y\": 2.4712867736816406}, {\"text\": \"What year did Germany sign its nonaggression pact with the Soviet Union ?\", \"x\": 7.639737129211426, \"y\": 1.6642014980316162}, {\"text\": \"What mountain range is traversed by the highest railroad in the world ?\", \"x\": 4.790621280670166, \"y\": 0.631959855556488}, {\"text\": \"Why were the American soldiers in WWI called `` Doughboys ''\", \"x\": 7.620706081390381, \"y\": 3.1371326446533203}, {\"text\": \"Who was nicknamed The Little Corporal ?\", \"x\": 7.603320598602295, \"y\": 3.1666250228881836}, {\"text\": \"How many CDs has Garth Brooks sold ?\", \"x\": 6.7359299659729, \"y\": 4.081902503967285}, {\"text\": \"Name the vessel used by the Atari Force in the DC comics .\", \"x\": 7.782952308654785, \"y\": 3.97294282913208}, {\"text\": \"Where are the leading medical groups specializing in lung diseases ?\", \"x\": 2.341235399246216, \"y\": 3.927921772003174}, {\"text\": \"How can I find online spelling , and punctuation drills for my 6th grader ?\", \"x\": 6.20512580871582, \"y\": 5.087668418884277}, {\"text\": \"What 's the sacred river of India ?\", \"x\": 4.690037727355957, \"y\": 0.9182636737823486}, {\"text\": \"What is Stefan Edberg 's native country ?\", \"x\": 6.4412360191345215, \"y\": 0.7432016134262085}, {\"text\": \"What is the only gland in humans that can regenerate itself ?\", \"x\": 2.390056848526001, \"y\": 3.127835988998413}, {\"text\": \"How many Gutenberg Bibles are there ?\", \"x\": 6.511198997497559, \"y\": 4.161312103271484}, {\"text\": \"Name the largest country in South America .\", \"x\": 5.444957733154297, \"y\": 0.33254003524780273}, {\"text\": \"What astronomical phenomenon takes place in Jan. 1999 ?\", \"x\": 3.7959442138671875, \"y\": 1.3810391426086426}, {\"text\": \"What information can you get me on Fairground Park in St. Louis\", \"x\": 6.085818767547607, \"y\": 1.8873658180236816}, {\"text\": \"What was American folk hero John Chapman 's nickname ?\", \"x\": 7.685726165771484, \"y\": 3.3976755142211914}, {\"text\": \"What is the difference between a median and a mean ?\", \"x\": 3.6190786361694336, \"y\": 4.312871932983398}, {\"text\": \"What was the top box office movie in April 1998 ?\", \"x\": 8.747811317443848, \"y\": 4.947065353393555}, {\"text\": \"What makes thunder ?\", \"x\": 2.9938480854034424, \"y\": 3.582798480987549}, {\"text\": \"What author did photographer Yousuf Karsh call `` the shiest man I ever met '' ?\", \"x\": 7.6139116287231445, \"y\": 4.663370132446289}, {\"text\": \"Which is the largest clock , diameter wise , in Europe ?\", \"x\": 5.835851192474365, \"y\": 0.6208188533782959}, {\"text\": \"What plant is rum made from ?\", \"x\": 4.232288360595703, \"y\": 3.28177809715271}, {\"text\": \"What country are Godiva chocolates from ?\", \"x\": 5.637221813201904, \"y\": 0.2604988217353821}, {\"text\": \"Name the poet of the poem which begins : I do not know much about gods ; but I think that the river Is a strong brown god-sullen , and untamed ?\", \"x\": 7.615421295166016, \"y\": 5.011425495147705}, {\"text\": \"Which condiment was once sold as a patent medicine ?\", \"x\": 4.354036808013916, \"y\": 3.6964590549468994}, {\"text\": \"What U.S. state records the least rainfall ?\", \"x\": 5.46238374710083, \"y\": 1.4108370542526245}, {\"text\": \"Why did the world enter a global depression in 1929 ?\", \"x\": 8.182226181030273, \"y\": 1.698896884918213}, {\"text\": \"What was archy , and mehitabel ?\", \"x\": 8.296513557434082, \"y\": 3.7732937335968018}, {\"text\": \"What Texas city got its name from the Spanish for `` yellow '' ?\", \"x\": 6.101576805114746, \"y\": 1.2891603708267212}, {\"text\": \"What are the chemicals used in glowsticks ?\", \"x\": 3.781761646270752, \"y\": 3.423393964767456}, {\"text\": \"What country did the Nile River originate in ?\", \"x\": 4.956722736358643, \"y\": 0.5733698010444641}, {\"text\": \"What color are tennis balls ?\", \"x\": 3.439913749694824, \"y\": 2.871853828430176}, {\"text\": \"What barroom judge called himself The Law West of the Pecos ?\", \"x\": 7.81538200378418, \"y\": 3.448357343673706}, {\"text\": \"What excuse did the NATO people give for hitting the Chinese embassy ?\", \"x\": 7.417507648468018, \"y\": 1.7647422552108765}, {\"text\": \"Who was President of Costa Rica in 1994 ?\", \"x\": 7.690476417541504, \"y\": 2.63228440284729}, {\"text\": \"What sports event is Meyer Wolfsheim supposed to have fixed in The Great Gatsby ?\", \"x\": 6.201805114746094, \"y\": 3.0179078578948975}, {\"text\": \"What country has the best defensive position in the board game Diplomacy ?\", \"x\": 5.360368728637695, \"y\": 2.55151104927063}, {\"text\": \"What two countries share the Khyber Pass ?\", \"x\": 5.073858261108398, \"y\": 0.7325623631477356}, {\"text\": \"Who was chairman of the Senate select committee that tried to get to the bottom of Watergate ?\", \"x\": 7.576547145843506, \"y\": 2.9707889556884766}, {\"text\": \"What is the origin of the surname of Braun ?\", \"x\": 3.776728630065918, \"y\": 5.954505920410156}, {\"text\": \"What card game has variations called Canfield , Klondike and Spider ?\", \"x\": 5.258345127105713, \"y\": 2.7996761798858643}, {\"text\": \"What is Australia Day ?\", \"x\": 7.747218132019043, \"y\": 0.9228012561798096}, {\"text\": \"What mammal of North America is the world 's longest-lived for its size ?\", \"x\": 2.705216646194458, \"y\": 1.6645214557647705}, {\"text\": \"What was the Chivington Massacre ?\", \"x\": 7.753468036651611, \"y\": 2.035980701446533}, {\"text\": \"What actor starred in 1980 's Blue Lagoon , 1982 's The Pirate Movie and 1983 's A Night in Heaven ?\", \"x\": 8.731779098510742, \"y\": 4.749449253082275}, {\"text\": \"How many home runs did Lou Gehrig have during his career ?\", \"x\": 6.754048824310303, \"y\": 3.9233434200286865}, {\"text\": \"In what city is the headquarters of Sinn Fein ?\", \"x\": 7.222400665283203, \"y\": 2.206336259841919}, {\"text\": \"Where can I find information on George Bush ?\", \"x\": 6.158367156982422, \"y\": 4.877744197845459}, {\"text\": \"Who is the voice of Miss Piggy ?\", \"x\": 8.19046688079834, \"y\": 3.958110809326172}, {\"text\": \"What is the dialogue circle in cartoons called ?\", \"x\": 4.420588970184326, \"y\": 4.180513381958008}, {\"text\": \"What does the word camaro mean , from the GM car the Camaro ?\", \"x\": 4.052828788757324, \"y\": 5.0390448570251465}, {\"text\": \"Who replaced Bert Parks as the host of The Miss America Pageant ?\", \"x\": 8.186561584472656, \"y\": 3.255725860595703}, {\"text\": \"How many boys play the game in Winslow Homer 's 1872 painting Snap the Whip ?\", \"x\": 5.510456562042236, \"y\": 2.8841705322265625}, {\"text\": \"What is the AIM-54C Phoenix ?\", \"x\": 4.349099159240723, \"y\": 4.614090919494629}, {\"text\": \"When are sheep shorn ?\", \"x\": 3.513901948928833, \"y\": 1.643062710762024}, {\"text\": \"What sport is Chris Jogis a top player of ?\", \"x\": 6.2718682289123535, \"y\": 3.180938959121704}, {\"text\": \"What 's the second-largest island in the world ?\", \"x\": 5.041191101074219, \"y\": 0.11000405251979828}, {\"text\": \"What is the definition of low island ?\", \"x\": 5.021316051483154, \"y\": 0.1605212539434433}, {\"text\": \"What century does Captain Video live in ?\", \"x\": 6.613329887390137, \"y\": 2.3976755142211914}, {\"text\": \"What types of water pollution are there ?\", \"x\": 3.140672445297241, \"y\": 3.2495338916778564}, {\"text\": \"How many astronauts manned each Project Mercury flight ?\", \"x\": 6.691579818725586, \"y\": 2.2739510536193848}, {\"text\": \"What soft drink would provide me with the biggest intake of caffeine ?\", \"x\": 4.494007110595703, \"y\": 3.711439371109009}, {\"text\": \"What 's the name of a golf course in Myrtle Beach ?\", \"x\": 6.038236618041992, \"y\": 2.595207452774048}, {\"text\": \"What are some of the significant historical events of the 1990s ?\", \"x\": 7.80657434463501, \"y\": 2.0369627475738525}, {\"text\": \"Name the only extant trilogy of classical Greek plays .\", \"x\": 7.936179161071777, \"y\": 5.082736968994141}, {\"text\": \"Where is Logan Airport ?\", \"x\": 5.7577385902404785, \"y\": 1.148751139640808}, {\"text\": \"What is the difference between Neoclassical art and Romanticism art ?\", \"x\": 3.6312828063964844, \"y\": 4.271925926208496}, {\"text\": \"Who was the first person inducted into the U.S. Swimming Hall of Fame ?\", \"x\": 6.631178855895996, \"y\": 3.181678533554077}, {\"text\": \"What golfer has been called Ohio Fats and Blobbo ?\", \"x\": 6.591530799865723, \"y\": 3.3297019004821777}, {\"text\": \"Who murdered Leno and Rosemary LaBianca on August 1\", \"x\": 8.570310592651367, \"y\": 2.972771167755127}, {\"text\": \"What is the average cost for four years of medical school ?\", \"x\": 5.687102317810059, \"y\": 2.1876416206359863}, {\"text\": \"What does God create in the first sentence of the Bible ?\", \"x\": 4.749230861663818, \"y\": 5.306887149810791}, {\"text\": \"Which of the following men was not married to Rita Hayworth ?\", \"x\": 8.735346794128418, \"y\": 4.2738776206970215}, {\"text\": \"What is the current ticket fare from from Cairo to Barbados ?\", \"x\": 4.895709991455078, \"y\": 1.673230528831482}, {\"text\": \"What does NN O `` mean when used as a prefix in Irish surnames ?\", \"x\": 3.8994319438934326, \"y\": 5.9155497550964355}, {\"text\": \"How do you find oxidation numbers ?\", \"x\": 3.309887409210205, \"y\": 3.754864454269409}, {\"text\": \"What is the state nickname of Mississippi ?\", \"x\": 5.23379373550415, \"y\": 1.5232369899749756}, {\"text\": \"What is Black Hills , South Dakota most famous for ?\", \"x\": 5.347118854522705, \"y\": 1.1375188827514648}, {\"text\": \"What 1966 boob tube bomb took astronauts back to prehistoric times ?\", \"x\": 6.193726539611816, \"y\": 2.4945812225341797}, {\"text\": \"How many students attend the University of Massachusetts ?\", \"x\": 5.839123249053955, \"y\": 2.105717658996582}, {\"text\": \"Who said , `` I shall return . '' during World War Two ?\", \"x\": 7.863467216491699, \"y\": 2.789994716644287}, {\"text\": \"What holidays are celebrated in Ireland ?\", \"x\": 7.712210178375244, \"y\": 0.9572870135307312}, {\"text\": \"Who portrayed Etta Place , companion to Butch Cassidey and the Sundance Kid ?\", \"x\": 8.649344444274902, \"y\": 4.335341930389404}, {\"text\": \"What are the Greek numerals ?\", \"x\": 4.070399284362793, \"y\": 4.9471116065979}, {\"text\": \"What 's the name of the temple that is located near the capital city of Laos ?\", \"x\": 5.9123454093933105, \"y\": 0.6310048699378967}, {\"text\": \"What is a fear of sleep ?\", \"x\": 1.7251157760620117, \"y\": 4.041299819946289}, {\"text\": \"What auto race was Wilbur Reed the first to win three times ?\", \"x\": 6.499149322509766, \"y\": 3.198908567428589}, {\"text\": \"What are the most common breeding birds in the U.S. ?\", \"x\": 2.760699987411499, \"y\": 1.8502943515777588}, {\"text\": \"What was organized as a Confederate veterans ' social club in Pulaski , in Tennessee , in 1866 ?\", \"x\": 7.285743713378906, \"y\": 2.911475658416748}, {\"text\": \"How do you look up criminal records on the Internet ?\", \"x\": 5.908306121826172, \"y\": 5.174032211303711}, {\"text\": \"Where is the actress , Marion Davies , buried ?\", \"x\": 8.602842330932617, \"y\": 3.3795018196105957}, {\"text\": \"What is an example of an actual case of using the Fourteenth Amendment ?\", \"x\": 6.094269275665283, \"y\": 4.567591190338135}, {\"text\": \"Who was the Charlie perfume woman ?\", \"x\": 8.218962669372559, \"y\": 3.651108503341675}, {\"text\": \"Who portrayed `` Rosanne Rosanna-Dana '' on the television show `` Saturday Night Live '' ?\", \"x\": 8.744458198547363, \"y\": 3.95108699798584}]}}, {\"mode\": \"vega-lite\"});\n",
       "</script>"
      ],
      "text/plain": [
       "alt.Chart(...)"
      ]
     },
     "execution_count": 13,
     "metadata": {},
     "output_type": "execute_result"
    }
   ],
   "source": [
    "# @title Plot the archive {display-mode: \"form\"}\n",
    "\n",
    "# UMAP reduces the dimensions from 4096 (embed-english-v2.0) to 2 dimensions that we can plot\n",
    "reducer = umap.UMAP(n_neighbors=20)\n",
    "umap_embeds = reducer.fit_transform(embeds)\n",
    "\n",
    "# Prepare the data to plot and interactive visualization\n",
    "# using Altair\n",
    "df_explore = pd.DataFrame(data={\"text\": df[\"text\"]})\n",
    "df_explore[\"x\"] = umap_embeds[:, 0]\n",
    "df_explore[\"y\"] = umap_embeds[:, 1]\n",
    "\n",
    "# Plot\n",
    "chart = (\n",
    "    alt.Chart(df_explore)\n",
    "    .mark_circle(size=60)\n",
    "    .encode(\n",
    "        x=alt.X(\"x\", scale=alt.Scale(zero=False)),  #'x',\n",
    "        y=alt.Y(\"y\", scale=alt.Scale(zero=False)),\n",
    "        tooltip=[\"text\"],\n",
    "    )\n",
    "    .properties(width=700, height=400)\n",
    ")\n",
    "chart.interactive()"
   ]
  },
  {
   "cell_type": "markdown",
   "metadata": {
    "id": "4ZEYkKsSfQne"
   },
   "source": [
    "Hover over the points to read the text. Do you see some of the patterns in clustered points? Similar questions, or questions asking about similar topics?\n",
    "\n",
    "This concludes this introductory guide to semantic search using sentence embeddings. As you continue the path of building a search product additional considerations arise (like dealing with long texts, or finetuning to better improve the embeddings for a specific use case). \n"
   ]
  },
  {
   "cell_type": "markdown",
   "metadata": {
    "id": "gTClnyiiplGj"
   },
   "source": [
    "# Dependencies"
   ]
  },
  {
   "cell_type": "code",
   "execution_count": 14,
   "metadata": {
    "id": "LZTgOt37pmG9"
   },
   "outputs": [],
   "source": [
    "!pip install -q session-info"
   ]
  },
  {
   "cell_type": "code",
   "execution_count": 15,
   "metadata": {
    "colab": {
     "base_uri": "https://localhost:8080/",
     "height": 34
    },
    "id": "Z1MaoSYDpn1B",
    "outputId": "f58f9ecc-2b1b-435d-dc0b-8c79ddc5749d"
   },
   "outputs": [
    {
     "data": {
      "text/html": [
       "<details>\n",
       "<summary>Click to view session information</summary>\n",
       "<pre>\n",
       "-----\n",
       "altair                      4.2.2\n",
       "annoy                       NA\n",
       "cohere                      NA\n",
       "datasets                    2.12.0\n",
       "numpy                       1.22.4\n",
       "pandas                      1.5.3\n",
       "sentence_transformers       2.2.2\n",
       "session_info                1.0.0\n",
       "sklearn                     1.2.2\n",
       "tqdm                        4.65.0\n",
       "umap                        0.5.3\n",
       "-----\n",
       "</pre>\n",
       "<details>\n",
       "<summary>Click to view modules imported as dependencies</summary>\n",
       "<pre>\n",
       "PIL                                         8.4.0\n",
       "aa8f2297d25b4dc6fd3d98411eb3ba53823c4f42    NA\n",
       "absl                                        NA\n",
       "aiohttp                                     3.8.4\n",
       "aiosignal                                   1.3.1\n",
       "astunparse                                  1.6.3\n",
       "async_timeout                               4.0.2\n",
       "attr                                        23.1.0\n",
       "backcall                                    0.2.0\n",
       "backoff                                     2.2.1\n",
       "cachetools                                  5.3.0\n",
       "certifi                                     2022.12.07\n",
       "cffi                                        1.15.1\n",
       "chardet                                     4.0.0\n",
       "charset_normalizer                          2.0.12\n",
       "cloudpickle                                 2.2.1\n",
       "cryptography                                40.0.2\n",
       "cycler                                      0.10.0\n",
       "cython_runtime                              NA\n",
       "datasets_modules                            NA\n",
       "dateutil                                    2.8.2\n",
       "debugpy                                     1.6.6\n",
       "decorator                                   4.4.2\n",
       "defusedxml                                  0.7.1\n",
       "dill                                        0.3.6\n",
       "dot_parser                                  NA\n",
       "entrypoints                                 0.4\n",
       "etils                                       1.2.0\n",
       "filelock                                    3.12.0\n",
       "flatbuffers                                 23.3.3\n",
       "frozenlist                                  1.3.3\n",
       "fsspec                                      2023.4.0\n",
       "gast                                        NA\n",
       "google                                      NA\n",
       "google_auth_httplib2                        NA\n",
       "googleapiclient                             NA\n",
       "h5py                                        3.8.0\n",
       "httplib2                                    0.21.0\n",
       "huggingface_hub                             0.14.1\n",
       "idna                                        3.4\n",
       "importlib_resources                         NA\n",
       "ipykernel                                   5.5.6\n",
       "ipython_genutils                            0.2.0\n",
       "ipywidgets                                  7.7.1\n",
       "jax                                         0.4.10\n",
       "jaxlib                                      0.4.10\n",
       "jinja2                                      3.1.2\n",
       "joblib                                      1.2.0\n",
       "jsonschema                                  4.3.3\n",
       "keras                                       2.12.0\n",
       "kiwisolver                                  1.4.4\n",
       "llvmlite                                    0.39.1\n",
       "markupsafe                                  2.1.2\n",
       "matplotlib                                  3.7.1\n",
       "matplotlib_inline                           0.1.6\n",
       "ml_dtypes                                   0.1.0\n",
       "mpl_toolkits                                NA\n",
       "mpmath                                      1.3.0\n",
       "multidict                                   6.0.4\n",
       "multiprocess                                0.70.14\n",
       "nltk                                        3.8.1\n",
       "numba                                       0.56.4\n",
       "numexpr                                     2.8.4\n",
       "nvfuser                                     NA\n",
       "oauth2client                                4.1.3\n",
       "opt_einsum                                  v3.3.0\n",
       "packaging                                   23.1\n",
       "pexpect                                     4.8.0\n",
       "pickleshare                                 0.7.5\n",
       "pkg_resources                               NA\n",
       "platformdirs                                3.3.0\n",
       "portpicker                                  NA\n",
       "prompt_toolkit                              3.0.38\n",
       "psutil                                      5.9.5\n",
       "ptyprocess                                  0.7.0\n",
       "pyarrow                                     9.0.0\n",
       "pyasn1                                      0.5.0\n",
       "pyasn1_modules                              0.3.0\n",
       "pycparser                                   2.21\n",
       "pydev_ipython                               NA\n",
       "pydevconsole                                NA\n",
       "pydevd                                      2.9.5\n",
       "pydevd_file_utils                           NA\n",
       "pydevd_plugins                              NA\n",
       "pydevd_tracing                              NA\n",
       "pydot                                       1.4.2\n",
       "pydot_ng                                    2.0.0\n",
       "pygments                                    2.14.0\n",
       "pynndescent                                 0.5.10\n",
       "pyparsing                                   3.0.9\n",
       "pyrsistent                                  NA\n",
       "pytz                                        2022.7.1\n",
       "regex                                       2.5.123\n",
       "requests                                    2.27.1\n",
       "rich                                        NA\n",
       "rsa                                         4.9\n",
       "scipy                                       1.10.1\n",
       "sentencepiece                               0.1.99\n",
       "setuptools                                  67.7.2\n",
       "sitecustomize                               NA\n",
       "six                                         1.16.0\n",
       "socks                                       1.7.1\n",
       "soundfile                                   0.12.1\n",
       "sphinxcontrib                               NA\n",
       "storemagic                                  NA\n",
       "swig_runtime_data4                          NA\n",
       "sympy                                       1.11.1\n",
       "tblib                                       1.7.0\n",
       "tensorboard                                 2.12.2\n",
       "tensorflow                                  2.12.0\n",
       "tensorflow_probability                      0.20.1\n",
       "termcolor                                   NA\n",
       "threadpoolctl                               3.1.0\n",
       "tokenizers                                  0.13.3\n",
       "toolz                                       0.12.0\n",
       "torch                                       2.0.1+cu118\n",
       "tornado                                     6.3.1\n",
       "traitlets                                   5.7.1\n",
       "transformers                                4.29.2\n",
       "tree                                        0.1.8\n",
       "typing_extensions                           NA\n",
       "uritemplate                                 4.1.1\n",
       "urllib3                                     1.26.15\n",
       "wcwidth                                     0.2.6\n",
       "webcolors                                   1.13\n",
       "wrapt                                       1.14.1\n",
       "xxhash                                      NA\n",
       "yaml                                        6.0\n",
       "yarl                                        1.9.2\n",
       "zmq                                         23.2.1\n",
       "zoneinfo                                    NA\n",
       "</pre>\n",
       "</details> <!-- seems like this ends pre, so might as well be explicit -->\n",
       "<pre>\n",
       "-----\n",
       "IPython             7.34.0\n",
       "jupyter_client      6.1.12\n",
       "jupyter_core        5.3.0\n",
       "notebook            6.4.8\n",
       "-----\n",
       "Python 3.10.11 (main, Apr  5 2023, 14:15:10) [GCC 9.4.0]\n",
       "Linux-5.15.107+-x86_64-with-glibc2.31\n",
       "-----\n",
       "Session information updated at 2023-05-26 16:00\n",
       "</pre>\n",
       "</details>"
      ],
      "text/plain": [
       "<IPython.core.display.HTML object>"
      ]
     },
     "execution_count": 15,
     "metadata": {},
     "output_type": "execute_result"
    }
   ],
   "source": [
    "import session_info\n",
    "\n",
    "session_info.show()"
   ]
  }
 ],
 "metadata": {
  "colab": {
   "provenance": [],
   "toc_visible": true
  },
  "kernelspec": {
   "display_name": "Python 3.9.2 64-bit",
   "language": "python",
   "name": "python3"
  },
  "language_info": {
   "codemirror_mode": {
    "name": "ipython",
    "version": 3
   },
   "file_extension": ".py",
   "mimetype": "text/x-python",
   "name": "python",
   "nbconvert_exporter": "python",
   "pygments_lexer": "ipython3",
   "version": "3.9.2"
  },
  "vscode": {
   "interpreter": {
    "hash": "01fd550304b9e7cfb3e25c8e3ca63c0030fb0173de6652dd3d36373edc7c122f"
   }
  }
 },
 "nbformat": 4,
 "nbformat_minor": 0
}
