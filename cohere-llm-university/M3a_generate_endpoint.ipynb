{
 "cells": [
  {
   "cell_type": "markdown",
   "metadata": {
    "id": "t0VgmvtX9ph6"
   },
   "source": [
    "- co.generate()\n",
    "- `temperature` parameter"
   ]
  },
  {
   "cell_type": "code",
   "execution_count": 1,
   "metadata": {
    "id": "6Ja95Na3l9se"
   },
   "outputs": [],
   "source": [
    "!pip install -q cohere > /dev/null"
   ]
  },
  {
   "cell_type": "code",
   "execution_count": 2,
   "metadata": {
    "id": "koYBtMcrBu7g"
   },
   "outputs": [],
   "source": [
    "import cohere\n",
    "\n",
    "co = cohere.Client(\"Bwyjtd6MLlhwWHRTzOUx83Hfd6G3b8Vi0XsSuEH7\")  # Add your API key"
   ]
  },
  {
   "cell_type": "markdown",
   "metadata": {
    "id": "YQOdm9BY-hOe"
   },
   "source": [
    "## Most Basic Generation"
   ]
  },
  {
   "cell_type": "code",
   "execution_count": 3,
   "metadata": {
    "colab": {
     "base_uri": "https://localhost:8080/"
    },
    "id": "NcBCi0Qj-8sW",
    "outputId": "22bd76b9-786b-483c-f4be-82bc23ab2b5b"
   },
   "outputs": [
    {
     "name": "stdout",
     "output_type": "stream",
     "text": [
      "[cohere.Generation {\n",
      "\tid: b68431cf-7fad-4395-9d46-452b6e51363b\n",
      "\tprompt: Generate a concise product description for the product: wireless earbuds.\n",
      "\ttext: \n",
      "The wireless earbuds are designed to provide users with a compact and portable audio solution. They are equipped with a Bluetooth connection that allows them to be used with a variety of devices, including smartphones, tablets, and laptops. The earbuds also feature a noise-canceling microphone that allows users to make calls and listen to music without any distractions.\n",
      "\tlikelihood: None\n",
      "\ttoken_likelihoods: None\n",
      "}]\n"
     ]
    }
   ],
   "source": [
    "response = co.generate(\n",
    "    model=\"command-nightly\",\n",
    "    prompt=\"Generate a concise product description for the product: wireless earbuds.\",\n",
    "    max_tokens=100,\n",
    ")\n",
    "print(response)"
   ]
  },
  {
   "cell_type": "code",
   "execution_count": 4,
   "metadata": {
    "colab": {
     "base_uri": "https://localhost:8080/"
    },
    "id": "zhzYU2v7ruYQ",
    "outputId": "2306fb30-f10c-4ffa-8ccc-2c8d71818897"
   },
   "outputs": [
    {
     "name": "stdout",
     "output_type": "stream",
     "text": [
      "\n",
      "The wireless earbuds are designed to provide users with a compact and portable audio solution. They are equipped with a Bluetooth connection that allows them to be used with a variety of devices, including smartphones, tablets, and laptops. The earbuds also feature a noise-canceling microphone that allows users to make calls and listen to music without any distractions.\n"
     ]
    }
   ],
   "source": [
    "print(response.generations[0].text)"
   ]
  },
  {
   "cell_type": "markdown",
   "metadata": {
    "id": "9b4QxhP7-bup"
   },
   "source": [
    "## Include Likelihood in Generation \n",
    "- `return_likelihoods` parameter"
   ]
  },
  {
   "cell_type": "code",
   "execution_count": 5,
   "metadata": {
    "colab": {
     "base_uri": "https://localhost:8080/"
    },
    "id": "A-YnUrzA--b3",
    "outputId": "37d5e482-29e6-43ed-aa91-7d699c4fcfa7"
   },
   "outputs": [
    {
     "name": "stdout",
     "output_type": "stream",
     "text": [
      "[cohere.Generation {\n",
      "\tid: 7e6561dd-2457-4499-b5d7-a38e22eb3437\n",
      "\tprompt: Generate a concise product description for the product: wireless earbuds.\n",
      "\ttext: \n",
      "Enjoy crystal clear sound with these wireless earbuds. They are perfect for when you are on the go and don't want to be bothered with tangled cords. The earbuds are also sweatproof, making them perfect for working out.\n",
      "\tlikelihood: -0.33247057\n",
      "\ttoken_likelihoods: [TokenLikelihood(token='\\n', likelihood=-0.00014158308), TokenLikelihood(token='Enjoy', likelihood=-3.2168963), TokenLikelihood(token=' crystal', likelihood=-0.20072828), TokenLikelihood(token=' clear', likelihood=-0.0103415465), TokenLikelihood(token=' sound', likelihood=-0.27225858), TokenLikelihood(token=' with', likelihood=-0.49267045), TokenLikelihood(token=' these', likelihood=-0.26909816), TokenLikelihood(token=' wireless', likelihood=-0.10148734), TokenLikelihood(token=' earbuds', likelihood=-0.010580608), TokenLikelihood(token='.', likelihood=-0.07855273), TokenLikelihood(token=' They', likelihood=-0.17823088), TokenLikelihood(token=' are', likelihood=-0.5136207), TokenLikelihood(token=' perfect', likelihood=-0.60657483), TokenLikelihood(token=' for', likelihood=-7.224551e-06), TokenLikelihood(token=' when', likelihood=-0.021096332), TokenLikelihood(token=' you', likelihood=-2.4543265e-06), TokenLikelihood(token=' are', likelihood=-0.06429108), TokenLikelihood(token=' on', likelihood=-2.0218295e-05), TokenLikelihood(token=' the', likelihood=-0.0093337195), TokenLikelihood(token=' go', likelihood=-0.0001195276), TokenLikelihood(token=' and', likelihood=-0.0591462), TokenLikelihood(token=' don', likelihood=-0.64854085), TokenLikelihood(token=\"'t\", likelihood=-8.892534e-06), TokenLikelihood(token=' want', likelihood=-0.0018631442), TokenLikelihood(token=' to', likelihood=-1.2946569e-05), TokenLikelihood(token=' be', likelihood=-0.013726586), TokenLikelihood(token=' bothered', likelihood=-0.52510685), TokenLikelihood(token=' with', likelihood=-0.0074922666), TokenLikelihood(token=' tangled', likelihood=-0.6645671), TokenLikelihood(token=' cords', likelihood=-0.02256895), TokenLikelihood(token='.', likelihood=-0.00038948457), TokenLikelihood(token=' The', likelihood=-0.12564017), TokenLikelihood(token=' earbuds', likelihood=-0.35612702), TokenLikelihood(token=' are', likelihood=-0.29891482), TokenLikelihood(token=' also', likelihood=-0.097439036), TokenLikelihood(token=' sweat', likelihood=-2.6660206), TokenLikelihood(token='proof', likelihood=-0.8828204), TokenLikelihood(token=',', likelihood=-0.23691677), TokenLikelihood(token=' making', likelihood=-1.3305047), TokenLikelihood(token=' them', likelihood=-1.2708151e-05), TokenLikelihood(token=' perfect', likelihood=-0.21444124), TokenLikelihood(token=' for', likelihood=-2.9280032e-05), TokenLikelihood(token=' working', likelihood=-0.7557848), TokenLikelihood(token=' out', likelihood=-1.3306066e-05), TokenLikelihood(token='.', likelihood=-0.007036033)]\n",
      "}]\n"
     ]
    }
   ],
   "source": [
    "response = co.generate(\n",
    "    model=\"command-nightly\",\n",
    "    prompt=\"Generate a concise product description for the product: wireless earbuds.\",\n",
    "    max_tokens=100,\n",
    "    return_likelihoods=\"GENERATION\",\n",
    ")\n",
    "print(response)"
   ]
  },
  {
   "cell_type": "markdown",
   "metadata": {
    "id": "TLLs-PmKAPOj"
   },
   "source": [
    "## Experimenting with Prompt\n",
    "- `temperature` parameter"
   ]
  },
  {
   "cell_type": "code",
   "execution_count": 6,
   "metadata": {
    "colab": {
     "base_uri": "https://localhost:8080/"
    },
    "id": "3z8AD8Od-_Vs",
    "outputId": "d073d3f1-3b21-46fc-8a4d-958f03a99284"
   },
   "outputs": [
    {
     "name": "stdout",
     "output_type": "stream",
     "text": [
      "Temperature range: [0.0, 1.0, 2.0, 3.0, 4.0, 5.0]\n",
      "----------\n",
      "Temperature: 0.0\n",
      "----------\n",
      "Generation #1\n",
      "Text: \n",
      "The wireless earbuds are designed to provide a comfortable and secure fit for all-day wear. They are equipped with noise-canceling technology and powerful bass to provide clear sound quality. The earbuds also feature touch control for easy operation and are compatible with both Android and iOS devices.\n",
      "\n",
      "Likelihood: -0.32007536\n",
      "\n",
      "Generation #2\n",
      "Text: \n",
      "The wireless earbuds are designed to provide a comfortable and secure fit for all-day wear. They are equipped with noise-canceling technology and powerful bass to provide clear sound quality. The earbuds also feature touch control for easy operation and are compatible with both Android and iOS devices.\n",
      "\n",
      "Likelihood: -0.3201652\n",
      "\n",
      "Generation #3\n",
      "Text: \n",
      "The wireless earbuds are designed to provide a comfortable and secure fit for all-day wear. They are equipped with noise-canceling technology and powerful bass to provide clear sound quality. The earbuds also feature touch control for easy operation and are compatible with both Android and iOS devices.\n",
      "\n",
      "Likelihood: -0.3193799\n",
      "\n",
      "----------\n",
      "Temperature: 1.0\n",
      "----------\n",
      "Generation #1\n",
      "Text: \n",
      "Simply the best wireless earbuds.  Featuring cutting-edge technology, sleek and compact design, and crystal clear sound, these earbuds are the perfect accessory for all your on-the-go needs.\n",
      "\n",
      "Likelihood: -0.68919325\n",
      "\n",
      "Generation #2\n",
      "Text: \n",
      "Are you tired of tangled cords? Then try these wireless earbuds! They are designed to provide you with the best possible sound quality, so you can enjoy your music, videos, and calls without any distractions. Plus, they are extremely comfortable to wear, so you can use them for hours on end.\n",
      "\n",
      "Likelihood: -0.406114\n",
      "\n",
      "Generation #3\n",
      "Text: \n",
      "The wireless earbuds are designed to provide clear and dynamic sound quality, with a sleek and compact design that is perfect for on-the-go use. They are equipped with a powerful battery that provides up to 24 hours of continuous playback, and feature intuitive touch controls for easy operation. The earbuds also come with a charging case for convenient storage and charging.\n",
      "\n",
      "Likelihood: -0.34805968\n",
      "\n",
      "----------\n",
      "Temperature: 2.0\n",
      "----------\n",
      "Generation #1\n",
      "Text: \n",
      "Micro USB charging cable is included. Premium stereo sound: Enjoy enhanced sound quality from these true wireless earbuds. They have a 10mm dynamic driver and HD decoder chip technology to deliver crystal clear sound. The powerful bass lets you enjoy your music while staying focused on the journey. Large capacity battery: Get up to 8 hours of music playing time on one charge, with the portable charging case you can recharge the earbuds up to 3 times, giving a total of up to 24 hours battery life.\n",
      "\n",
      "Likelihood: -0.7544034\n",
      "\n",
      "Generation #2\n",
      "Text: \n",
      "Wireless earbuds are designed to provide users with a portable and convenient way to listen to music, podcasts, and other audio content without the hassle of tangled cords. These earbuds are equipped with Bluetooth technology, allowing them to connect to devices such as smartphones, tablets, and laptops without the need for physical connections.\n",
      "\n",
      "Some wireless earbuds come with noise-canceling features, which can be useful for blocking out external noise while on the go. Others come with water-resistant or waterproof ratings, making them\n",
      "\n",
      "Likelihood: -0.31171367\n",
      "\n",
      "Generation #3\n",
      "Text: \n",
      "The wireless earbuds are designed to provide high-quality sound and a comfortable fit, making them perfect for use during exercise or when on the go. They are equipped with a powerful battery that provides up to 8 hours of continuous playback, and feature an intuitive touch control that allows you to easily control the volume and playback.\n",
      "\n",
      "Likelihood: -0.53304756\n",
      "\n",
      "----------\n",
      "Temperature: 3.0\n",
      "----------\n",
      "Generation #1\n",
      "Text: \n",
      "Tangle-free, hands-free, and wireless music and phone calls. The lightweight, low-profile design ensures comfortable, all-day wear. The Flex Fit silicone rubber earpieces provide long-lasting comfort. They are also IPX5 water-resistant. The easy-to-use buttons on each earbud enable you to control the power, playback, and call functions. Works with all Bluetooth-enabled devices.\n",
      "\n",
      "Likelihood: -0.8806701\n",
      "\n",
      "Generation #2\n",
      "Text: \n",
      "these earbuds are designed with the latest technology and high-quality materials, providing a clear and immersive audio experience. they are also equipped with a noise-canceling feature, which helps to reduce background noise and enhance the sound quality. the earbuds have a sleek and compact design, making them easy to carry around and use on the go. they are also equipped with a long-lasting battery, providing up to 24 hours of continuous listening time on a single charge. overall, these earbuds are a great\n",
      "\n",
      "Likelihood: -0.47426778\n",
      "\n",
      "Generation #3\n",
      "Text: \n",
      "Power up your music, calls, and podcasts with these wireless earbuds. They feature Bluetooth technology so you can enjoy hassle-free listening, and the sleek design means they'll fit comfortably in your ears.\n",
      "\n",
      "Likelihood: -0.8315348\n",
      "\n",
      "----------\n",
      "Temperature: 4.0\n",
      "----------\n",
      "Generation #1\n",
      "Text: \n",
      "Introducing our new wireless earbuds - the perfect accessory for all your on-the-go needs! Enjoy crystal clear sound and comfortable, snug fit. These earbuds are sleek, lightweight, and easy to use, with no tangled cords to worry about. They're also sweat-resistant, making them ideal for workouts or any activity where you need to stay focused and distraction-free. Get yours today and experience the convenience of wireless listening!\n",
      "\n",
      "Likelihood: -0.21723357\n",
      "\n",
      "Generation #2\n",
      "Text: \n",
      "Small, lightweight, and easy to use, these wireless earbuds are the perfect way to stay connected while on the go.\n",
      "\n",
      "Likelihood: -0.504772\n",
      "\n",
      "Generation #3\n",
      "Text: \n",
      "Their comfortable fit and crystal clear sound make them perfect for any active lifestyle. They're also IPX5 water resistant, so you can keep moving without worry.\n",
      "\n",
      "Likelihood: -0.8212472\n",
      "\n",
      "----------\n",
      "Temperature: 5.0\n",
      "----------\n",
      "Generation #1\n",
      "Text: \n",
      "Benefits: \n",
      "-100% Wireless & Secure Fit\n",
      "- streamed stereo sound\n",
      "-One-step Pairing & Easy Operation\n",
      "-Intuitive compatible with Apple & Android\n",
      "-Guaranteed 100% satisfactions\n",
      "\n",
      "Quality:\n",
      "1.High-fidelity sound.2.Stunning design.3. comfortable to wear.4.Fashionable.5.Easy to use.6.Gift box packing.7. Reliable quality.8.Economical.\n",
      "\n",
      "Likelihood: -1.544756\n",
      "\n",
      "Generation #2\n",
      "Text: \n",
      "Their sleek design and comfortable fit make them perfect for everyday use, and the wireless technology allows for easy movement and convenience. The earbuds also come with noise cancellation technology, making them perfect for use in noisy environments. They are compatible with both Android and Apple devices, and come with a charging case for on-the-go top-ups.\n",
      "\n",
      "Likelihood: -0.57175314\n",
      "\n",
      "Generation #3\n",
      "Text: \n",
      "With no wires to get in the way, these wireless earbuds are designed to provide clear sound and comfortable fit. They are perfect for when you are on the go and need to be hands-free.\n",
      "\n",
      "Likelihood: -0.48967102\n",
      "\n"
     ]
    }
   ],
   "source": [
    "import time\n",
    "\n",
    "\n",
    "# Create a function to call the endpoint\n",
    "def generate_text(prompt, temperature, num_gens):\n",
    "    response = co.generate(\n",
    "        model=\"command-nightly\",\n",
    "        prompt=prompt,\n",
    "        max_tokens=100,\n",
    "        temperature=temperature,\n",
    "        num_generations=num_gens,\n",
    "        return_likelihoods=\"GENERATION\",\n",
    "    )\n",
    "    return response\n",
    "\n",
    "\n",
    "# Define the prompt\n",
    "prompt = \"Generate a concise product description for the product: wireless earbuds.\"\n",
    "\n",
    "# Define the range of temperature values and num_generations\n",
    "temperatures = [x / 10.0 for x in range(0, 60, 10)]\n",
    "num_gens = 3\n",
    "\n",
    "# Iterate generation over the range of temperature values\n",
    "print(f\"Temperature range: {temperatures}\")\n",
    "for temperature in temperatures:\n",
    "    response = generate_text(prompt, temperature, num_gens)\n",
    "    print(\"-\" * 10)\n",
    "    print(f\"Temperature: {temperature}\")\n",
    "    print(\"-\" * 10)\n",
    "    for i in range(3):\n",
    "        text = response.generations[i].text\n",
    "        likelihood = response.generations[i].likelihood\n",
    "        print(f\"Generation #{i+1}\")\n",
    "        print(f\"Text: {text}\\n\")\n",
    "        print(f\"Likelihood: {likelihood}\\n\")\n",
    "\n",
    "    time.sleep(60)"
   ]
  },
  {
   "cell_type": "markdown",
   "metadata": {
    "id": "jP9rxtex66as"
   },
   "source": [
    "# Dependencies"
   ]
  },
  {
   "cell_type": "code",
   "execution_count": 7,
   "metadata": {
    "colab": {
     "base_uri": "https://localhost:8080/"
    },
    "id": "9ZtO0oMM68HT",
    "outputId": "80026d99-2811-45b0-f10f-9a72a9613c39"
   },
   "outputs": [
    {
     "name": "stdout",
     "output_type": "stream",
     "text": [
      "  Preparing metadata (setup.py) ... \u001b[?25l\u001b[?25hdone\n",
      "\u001b[2K     \u001b[90m━━━━━━━━━━━━━━━━━━━━━━━━━━━━━━━━━━━━━━━━\u001b[0m \u001b[32m63.5/63.5 kB\u001b[0m \u001b[31m3.7 MB/s\u001b[0m eta \u001b[36m0:00:00\u001b[0m\n",
      "\u001b[?25h  Building wheel for session-info (setup.py) ... \u001b[?25l\u001b[?25hdone\n"
     ]
    }
   ],
   "source": [
    "!pip install -q session-info"
   ]
  },
  {
   "cell_type": "code",
   "execution_count": 8,
   "metadata": {
    "colab": {
     "base_uri": "https://localhost:8080/",
     "height": 34
    },
    "id": "Z--3X1pR6-hp",
    "outputId": "ffbb9567-ffe5-42df-d7b6-98d8e839f98a"
   },
   "outputs": [
    {
     "data": {
      "text/html": [
       "<details>\n",
       "<summary>Click to view session information</summary>\n",
       "<pre>\n",
       "-----\n",
       "cohere              NA\n",
       "session_info        1.0.0\n",
       "-----\n",
       "</pre>\n",
       "<details>\n",
       "<summary>Click to view modules imported as dependencies</summary>\n",
       "<pre>\n",
       "PIL                 8.4.0\n",
       "aiohttp             3.8.4\n",
       "aiosignal           1.3.1\n",
       "async_timeout       4.0.2\n",
       "attr                23.1.0\n",
       "backcall            0.2.0\n",
       "backoff             2.2.1\n",
       "certifi             2022.12.07\n",
       "cffi                1.15.1\n",
       "chardet             4.0.0\n",
       "charset_normalizer  2.0.12\n",
       "cycler              0.10.0\n",
       "cython_runtime      NA\n",
       "dateutil            2.8.2\n",
       "debugpy             1.6.6\n",
       "decorator           4.4.2\n",
       "defusedxml          0.7.1\n",
       "frozenlist          1.3.3\n",
       "google              NA\n",
       "httplib2            0.21.0\n",
       "idna                3.4\n",
       "ipykernel           5.5.6\n",
       "ipython_genutils    0.2.0\n",
       "kiwisolver          1.4.4\n",
       "matplotlib          3.7.1\n",
       "matplotlib_inline   0.1.6\n",
       "mpl_toolkits        NA\n",
       "multidict           6.0.4\n",
       "numpy               1.22.4\n",
       "packaging           23.1\n",
       "pexpect             4.8.0\n",
       "pickleshare         0.7.5\n",
       "pkg_resources       NA\n",
       "platformdirs        3.3.0\n",
       "portpicker          NA\n",
       "prompt_toolkit      3.0.38\n",
       "psutil              5.9.5\n",
       "ptyprocess          0.7.0\n",
       "pydev_ipython       NA\n",
       "pydevconsole        NA\n",
       "pydevd              2.9.5\n",
       "pydevd_file_utils   NA\n",
       "pydevd_plugins      NA\n",
       "pydevd_tracing      NA\n",
       "pygments            2.14.0\n",
       "pyparsing           3.0.9\n",
       "requests            2.27.1\n",
       "setuptools          67.7.2\n",
       "sitecustomize       NA\n",
       "six                 1.16.0\n",
       "socks               1.7.1\n",
       "sphinxcontrib       NA\n",
       "storemagic          NA\n",
       "tornado             6.3.1\n",
       "traitlets           5.7.1\n",
       "urllib3             1.26.15\n",
       "wcwidth             0.2.6\n",
       "yarl                1.9.2\n",
       "zmq                 23.2.1\n",
       "</pre>\n",
       "</details> <!-- seems like this ends pre, so might as well be explicit -->\n",
       "<pre>\n",
       "-----\n",
       "IPython             7.34.0\n",
       "jupyter_client      6.1.12\n",
       "jupyter_core        5.3.0\n",
       "notebook            6.4.8\n",
       "-----\n",
       "Python 3.10.11 (main, Apr  5 2023, 14:15:10) [GCC 9.4.0]\n",
       "Linux-5.15.107+-x86_64-with-glibc2.31\n",
       "-----\n",
       "Session information updated at 2023-05-30 09:28\n",
       "</pre>\n",
       "</details>"
      ],
      "text/plain": [
       "<IPython.core.display.HTML object>"
      ]
     },
     "execution_count": 8,
     "metadata": {},
     "output_type": "execute_result"
    }
   ],
   "source": [
    "import session_info\n",
    "\n",
    "session_info.show()"
   ]
  }
 ],
 "metadata": {
  "colab": {
   "provenance": [],
   "toc_visible": true
  },
  "kernelspec": {
   "display_name": "Python 3.9.2 64-bit",
   "language": "python",
   "name": "python3"
  },
  "language_info": {
   "name": "python",
   "version": "3.9.2"
  },
  "vscode": {
   "interpreter": {
    "hash": "01fd550304b9e7cfb3e25c8e3ca63c0030fb0173de6652dd3d36373edc7c122f"
   }
  }
 },
 "nbformat": 4,
 "nbformat_minor": 0
}
