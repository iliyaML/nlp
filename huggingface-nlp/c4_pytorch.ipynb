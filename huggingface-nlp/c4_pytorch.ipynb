{
 "cells": [
  {
   "cell_type": "markdown",
   "metadata": {
    "id": "PGTTEtibcZeB"
   },
   "source": [
    "References:\n",
    "- https://huggingface.co/learn/nlp-course/chapter4/1?fw=pt"
   ]
  },
  {
   "cell_type": "markdown",
   "metadata": {
    "id": "srMXq0clqY3u"
   },
   "source": [
    "Install the Transformers, Datasets, and Evaluate libraries to run this notebook."
   ]
  },
  {
   "cell_type": "code",
   "execution_count": 1,
   "metadata": {
    "id": "3FevggiBqY3v"
   },
   "outputs": [],
   "source": [
    "!pip install -q datasets evaluate transformers[sentencepiece] accelerate"
   ]
  },
  {
   "cell_type": "code",
   "execution_count": 2,
   "metadata": {
    "colab": {
     "base_uri": "https://localhost:8080/"
    },
    "id": "wgj0sqWNqgvx",
    "outputId": "cdbc64e8-6d34-41d9-a727-b8d203bb4e5d"
   },
   "outputs": [
    {
     "name": "stdout",
     "output_type": "stream",
     "text": [
      "Transformers version: 4.30.2\n",
      "Datasets version: 2.12.0\n",
      "PyTorch version: 2.0.1+cu118\n",
      "Evaluate version: 0.4.0\n",
      "Accelerate version: 0.20.3\n",
      "NumPy version: 1.22.4\n"
     ]
    }
   ],
   "source": [
    "import numpy as np\n",
    "\n",
    "import transformers\n",
    "import datasets\n",
    "import torch\n",
    "import evaluate\n",
    "import accelerate\n",
    "\n",
    "print(\"Transformers version:\", transformers.__version__)\n",
    "print(\"Datasets version:\", datasets.__version__)\n",
    "print(\"PyTorch version:\", torch.__version__)\n",
    "print(\"Evaluate version:\", evaluate.__version__)\n",
    "print(\"Accelerate version:\", accelerate.__version__)\n",
    "print(\"NumPy version:\", np.__version__)"
   ]
  },
  {
   "cell_type": "markdown",
   "metadata": {
    "id": "0Jr8ZdUeqY3s"
   },
   "source": [
    "# Using Pre-trained Models"
   ]
  },
  {
   "cell_type": "markdown",
   "metadata": {
    "id": "P-1kycqmq-CE"
   },
   "source": [
    "## Pipeline: fill-mask task"
   ]
  },
  {
   "cell_type": "code",
   "execution_count": 3,
   "metadata": {
    "colab": {
     "base_uri": "https://localhost:8080/"
    },
    "id": "3b-bA7h2qY3w",
    "outputId": "e03053d9-aa72-49c8-a88b-14be7932fc46"
   },
   "outputs": [
    {
     "data": {
      "text/plain": [
       "[{'score': 0.4909118711948395,\n",
       "  'token': 7200,\n",
       "  'token_str': 'délicieux',\n",
       "  'sequence': 'Le camembert est délicieux :)'},\n",
       " {'score': 0.10556942969560623,\n",
       "  'token': 2183,\n",
       "  'token_str': 'excellent',\n",
       "  'sequence': 'Le camembert est excellent :)'},\n",
       " {'score': 0.034533195197582245,\n",
       "  'token': 26202,\n",
       "  'token_str': 'succulent',\n",
       "  'sequence': 'Le camembert est succulent :)'},\n",
       " {'score': 0.033031314611434937,\n",
       "  'token': 528,\n",
       "  'token_str': 'meilleur',\n",
       "  'sequence': 'Le camembert est meilleur :)'},\n",
       " {'score': 0.030076298862695694,\n",
       "  'token': 1654,\n",
       "  'token_str': 'parfait',\n",
       "  'sequence': 'Le camembert est parfait :)'}]"
      ]
     },
     "execution_count": 3,
     "metadata": {},
     "output_type": "execute_result"
    }
   ],
   "source": [
    "from transformers import pipeline\n",
    "\n",
    "camembert_fill_mask = pipeline(\"fill-mask\", model=\"camembert-base\")\n",
    "results = camembert_fill_mask(\"Le camembert est <mask> :)\")\n",
    "results"
   ]
  },
  {
   "cell_type": "markdown",
   "metadata": {
    "id": "Y6m0d-TyrBrf"
   },
   "source": [
    "## CamembertTokenizer, CamembertForMaskedLM\n",
    "- Instantiate the checkpoint using the model architecture directly"
   ]
  },
  {
   "cell_type": "code",
   "execution_count": 4,
   "metadata": {
    "colab": {
     "base_uri": "https://localhost:8080/"
    },
    "id": "7WZJWesfqY3y",
    "outputId": "39e01b67-4c42-44ac-ae94-7f6d8098b029"
   },
   "outputs": [
    {
     "data": {
      "text/plain": [
       "CamembertForMaskedLM(\n",
       "  (roberta): CamembertModel(\n",
       "    (embeddings): CamembertEmbeddings(\n",
       "      (word_embeddings): Embedding(32005, 768, padding_idx=1)\n",
       "      (position_embeddings): Embedding(514, 768, padding_idx=1)\n",
       "      (token_type_embeddings): Embedding(1, 768)\n",
       "      (LayerNorm): LayerNorm((768,), eps=1e-05, elementwise_affine=True)\n",
       "      (dropout): Dropout(p=0.1, inplace=False)\n",
       "    )\n",
       "    (encoder): CamembertEncoder(\n",
       "      (layer): ModuleList(\n",
       "        (0-11): 12 x CamembertLayer(\n",
       "          (attention): CamembertAttention(\n",
       "            (self): CamembertSelfAttention(\n",
       "              (query): Linear(in_features=768, out_features=768, bias=True)\n",
       "              (key): Linear(in_features=768, out_features=768, bias=True)\n",
       "              (value): Linear(in_features=768, out_features=768, bias=True)\n",
       "              (dropout): Dropout(p=0.1, inplace=False)\n",
       "            )\n",
       "            (output): CamembertSelfOutput(\n",
       "              (dense): Linear(in_features=768, out_features=768, bias=True)\n",
       "              (LayerNorm): LayerNorm((768,), eps=1e-05, elementwise_affine=True)\n",
       "              (dropout): Dropout(p=0.1, inplace=False)\n",
       "            )\n",
       "          )\n",
       "          (intermediate): CamembertIntermediate(\n",
       "            (dense): Linear(in_features=768, out_features=3072, bias=True)\n",
       "            (intermediate_act_fn): GELUActivation()\n",
       "          )\n",
       "          (output): CamembertOutput(\n",
       "            (dense): Linear(in_features=3072, out_features=768, bias=True)\n",
       "            (LayerNorm): LayerNorm((768,), eps=1e-05, elementwise_affine=True)\n",
       "            (dropout): Dropout(p=0.1, inplace=False)\n",
       "          )\n",
       "        )\n",
       "      )\n",
       "    )\n",
       "  )\n",
       "  (lm_head): CamembertLMHead(\n",
       "    (dense): Linear(in_features=768, out_features=768, bias=True)\n",
       "    (layer_norm): LayerNorm((768,), eps=1e-05, elementwise_affine=True)\n",
       "    (decoder): Linear(in_features=768, out_features=32005, bias=True)\n",
       "  )\n",
       ")"
      ]
     },
     "execution_count": 4,
     "metadata": {},
     "output_type": "execute_result"
    }
   ],
   "source": [
    "from transformers import CamembertTokenizer, CamembertForMaskedLM\n",
    "\n",
    "tokenizer = CamembertTokenizer.from_pretrained(\"camembert-base\")\n",
    "model = CamembertForMaskedLM.from_pretrained(\"camembert-base\")\n",
    "model"
   ]
  },
  {
   "cell_type": "markdown",
   "metadata": {
    "id": "jUpRHtztrMra"
   },
   "source": [
    "## AutoTokenizer, AutoModelForMaskedLM\n",
    "- Recommend using the Auto* classes instead, as these are by design architecture-agnostic"
   ]
  },
  {
   "cell_type": "code",
   "execution_count": 5,
   "metadata": {
    "id": "9WccDbcJqY3y"
   },
   "outputs": [],
   "source": [
    "from transformers import AutoTokenizer, AutoModelForMaskedLM\n",
    "\n",
    "tokenizer = AutoTokenizer.from_pretrained(\"camembert-base\")\n",
    "model = AutoModelForMaskedLM.from_pretrained(\"camembert-base\")"
   ]
  },
  {
   "cell_type": "markdown",
   "metadata": {
    "id": "KmR2Orm-RO5q"
   },
   "source": [
    "# Sharing Pre-trained Models"
   ]
  },
  {
   "cell_type": "markdown",
   "metadata": {
    "id": "7-_OuWJBRRuz"
   },
   "source": [
    "## Using the `push_to_hub_` API"
   ]
  },
  {
   "cell_type": "code",
   "execution_count": 6,
   "metadata": {
    "colab": {
     "base_uri": "https://localhost:8080/",
     "height": 331,
     "referenced_widgets": [
      "a40ebb9ff2864c60a8c0c0e2f643a72e",
      "d6edb00f55744d0f8710c8ece09aa625",
      "284ede5f07ae48b093a28b75a04a4cea",
      "93673c7008774cf99340aaeabee4ac84",
      "92cfda5d3afc49a381139c4d7bcf76e6",
      "49776a0cb2c24a649d43f89f15b1058b",
      "f431614a606145c3b37ea38ae9de9c00",
      "0d0ed62614bb433d86877d95c7a6c09a",
      "0184b2f4b5bf441d89365b97f3f475e6",
      "aa3032ed9e6241eb9cf1e125de3d8649",
      "c44958dab0034689ad75ffd53f5a1b8a",
      "3d08d68b1afa436d9d899c04ac387a27",
      "e54bacdc9795407fa3319e5b3b72d74e",
      "e57b336ac5b141c6b0cde08860b1179f",
      "7f7d94e9563245678586d7a2716aaae4",
      "21c7889e49a84a0b9a06eeb145a6eae1",
      "e991a6cce27b4ca2b3cc5c7b322907e7"
     ]
    },
    "id": "DA9R87yvRjTO",
    "outputId": "c51d0ea3-797a-4517-fa64-bf63499ff7c9"
   },
   "outputs": [
    {
     "data": {
      "application/vnd.jupyter.widget-view+json": {
       "model_id": "a40ebb9ff2864c60a8c0c0e2f643a72e",
       "version_major": 2,
       "version_minor": 0
      },
      "text/plain": [
       "VBox(children=(HTML(value='<center> <img\\nsrc=https://huggingface.co/front/assets/huggingface_logo-noborder.sv…"
      ]
     },
     "metadata": {},
     "output_type": "display_data"
    }
   ],
   "source": [
    "from huggingface_hub import notebook_login\n",
    "\n",
    "notebook_login()"
   ]
  },
  {
   "cell_type": "code",
   "execution_count": 7,
   "metadata": {
    "id": "iYOLaN13R-c0"
   },
   "outputs": [],
   "source": [
    "from transformers import AutoModelForMaskedLM, AutoTokenizer\n",
    "\n",
    "checkpoint = \"camembert-base\"\n",
    "\n",
    "model = AutoModelForMaskedLM.from_pretrained(checkpoint)\n",
    "tokenizer = AutoTokenizer.from_pretrained(checkpoint)"
   ]
  },
  {
   "cell_type": "code",
   "execution_count": 8,
   "metadata": {
    "colab": {
     "base_uri": "https://localhost:8080/"
    },
    "id": "a97uUhG4TkP3",
    "outputId": "eb5854e6-4588-495e-8f9d-77051bd8cfac"
   },
   "outputs": [
    {
     "data": {
      "text/plain": [
       "CommitInfo(commit_url='https://huggingface.co/iliyaML/dummy-model/commit/8f4948beab51d26208a715fbf9e546c459b23a6a', commit_message='Upload CamembertForMaskedLM', commit_description='', oid='8f4948beab51d26208a715fbf9e546c459b23a6a', pr_url=None, pr_revision=None, pr_num=None)"
      ]
     },
     "execution_count": 8,
     "metadata": {},
     "output_type": "execute_result"
    }
   ],
   "source": [
    "model.push_to_hub(\"dummy-model\")"
   ]
  },
  {
   "cell_type": "code",
   "execution_count": 9,
   "metadata": {
    "colab": {
     "base_uri": "https://localhost:8080/"
    },
    "id": "1vwcWN8tTrXN",
    "outputId": "fa9af229-3339-4e4b-f2dc-cb51077f2978"
   },
   "outputs": [
    {
     "data": {
      "text/plain": [
       "CommitInfo(commit_url='https://huggingface.co/iliyaML/dummy-model/commit/65e33408f2597de62a3235a7f7492b3f60a0f7c2', commit_message='Upload tokenizer', commit_description='', oid='65e33408f2597de62a3235a7f7492b3f60a0f7c2', pr_url=None, pr_revision=None, pr_num=None)"
      ]
     },
     "execution_count": 9,
     "metadata": {},
     "output_type": "execute_result"
    }
   ],
   "source": [
    "tokenizer.push_to_hub(\"dummy-model\")"
   ]
  },
  {
   "cell_type": "markdown",
   "metadata": {
    "id": "Xi2elV8brC7y"
   },
   "source": [
    "# Dependencies"
   ]
  },
  {
   "cell_type": "code",
   "execution_count": 10,
   "metadata": {
    "id": "qJgp5tyLrDzO"
   },
   "outputs": [],
   "source": [
    "!pip install -q session-info"
   ]
  },
  {
   "cell_type": "code",
   "execution_count": 11,
   "metadata": {
    "colab": {
     "base_uri": "https://localhost:8080/",
     "height": 399
    },
    "id": "D8EhTKixrFc2",
    "outputId": "4dd6c0d7-6d42-4abf-fad9-961d564ec9c1"
   },
   "outputs": [
    {
     "data": {
      "text/html": [
       "<details>\n",
       "<summary>Click to view session information</summary>\n",
       "<pre>\n",
       "-----\n",
       "accelerate          0.20.3\n",
       "datasets            2.12.0\n",
       "evaluate            0.4.0\n",
       "huggingface_hub     0.15.1\n",
       "numpy               1.22.4\n",
       "session_info        1.0.0\n",
       "torch               2.0.1+cu118\n",
       "transformers        4.30.2\n",
       "-----\n",
       "</pre>\n",
       "<details>\n",
       "<summary>Click to view modules imported as dependencies</summary>\n",
       "<pre>\n",
       "PIL                                         8.4.0\n",
       "aa8f2297d25b4dc6fd3d98411eb3ba53823c4f42    NA\n",
       "absl                                        NA\n",
       "aiohttp                                     3.8.4\n",
       "aiosignal                                   1.3.1\n",
       "astunparse                                  1.6.3\n",
       "async_timeout                               4.0.2\n",
       "attr                                        23.1.0\n",
       "backcall                                    0.2.0\n",
       "cachetools                                  5.3.0\n",
       "certifi                                     2022.12.07\n",
       "cffi                                        1.15.1\n",
       "chardet                                     4.0.0\n",
       "charset_normalizer                          2.0.12\n",
       "cloudpickle                                 2.2.1\n",
       "cryptography                                40.0.2\n",
       "cycler                                      0.10.0\n",
       "cython_runtime                              NA\n",
       "dateutil                                    2.8.2\n",
       "debugpy                                     1.6.6\n",
       "decorator                                   4.4.2\n",
       "defusedxml                                  0.7.1\n",
       "dill                                        0.3.6\n",
       "dot_parser                                  NA\n",
       "etils                                       1.2.0\n",
       "filelock                                    3.12.0\n",
       "flatbuffers                                 23.3.3\n",
       "frozenlist                                  1.3.3\n",
       "fsspec                                      2023.4.0\n",
       "gast                                        NA\n",
       "google                                      NA\n",
       "google_auth_httplib2                        NA\n",
       "googleapiclient                             NA\n",
       "h5py                                        3.8.0\n",
       "httplib2                                    0.21.0\n",
       "idna                                        3.4\n",
       "importlib_resources                         NA\n",
       "ipykernel                                   5.5.6\n",
       "ipython_genutils                            0.2.0\n",
       "ipywidgets                                  7.7.1\n",
       "jax                                         0.4.10\n",
       "jaxlib                                      0.4.10\n",
       "joblib                                      1.2.0\n",
       "keras                                       2.12.0\n",
       "kiwisolver                                  1.4.4\n",
       "matplotlib                                  3.7.1\n",
       "matplotlib_inline                           0.1.6\n",
       "ml_dtypes                                   0.1.0\n",
       "mpl_toolkits                                NA\n",
       "mpmath                                      1.3.0\n",
       "multidict                                   6.0.4\n",
       "multiprocess                                0.70.14\n",
       "numexpr                                     2.8.4\n",
       "nvfuser                                     NA\n",
       "oauth2client                                4.1.3\n",
       "opt_einsum                                  v3.3.0\n",
       "packaging                                   23.1\n",
       "pandas                                      1.5.3\n",
       "pexpect                                     4.8.0\n",
       "pickleshare                                 0.7.5\n",
       "pkg_resources                               NA\n",
       "platformdirs                                3.3.0\n",
       "portpicker                                  NA\n",
       "prompt_toolkit                              3.0.38\n",
       "psutil                                      5.9.5\n",
       "ptyprocess                                  0.7.0\n",
       "pyarrow                                     9.0.0\n",
       "pyasn1                                      0.5.0\n",
       "pyasn1_modules                              0.3.0\n",
       "pydev_ipython                               NA\n",
       "pydevconsole                                NA\n",
       "pydevd                                      2.9.5\n",
       "pydevd_file_utils                           NA\n",
       "pydevd_plugins                              NA\n",
       "pydevd_tracing                              NA\n",
       "pydot                                       1.4.2\n",
       "pydot_ng                                    2.0.0\n",
       "pygments                                    2.14.0\n",
       "pyparsing                                   3.0.9\n",
       "pytz                                        2022.7.1\n",
       "requests                                    2.27.1\n",
       "rich                                        NA\n",
       "rsa                                         4.9\n",
       "safetensors                                 0.3.1\n",
       "scipy                                       1.10.1\n",
       "sentencepiece                               0.1.99\n",
       "setuptools                                  67.7.2\n",
       "sitecustomize                               NA\n",
       "six                                         1.16.0\n",
       "sklearn                                     1.2.2\n",
       "socks                                       1.7.1\n",
       "soundfile                                   0.12.1\n",
       "sphinxcontrib                               NA\n",
       "storemagic                                  NA\n",
       "swig_runtime_data4                          NA\n",
       "sympy                                       1.11.1\n",
       "tblib                                       1.7.0\n",
       "tensorboard                                 2.12.2\n",
       "tensorflow                                  2.12.0\n",
       "tensorflow_probability                      0.20.1\n",
       "termcolor                                   NA\n",
       "threadpoolctl                               3.1.0\n",
       "tokenizers                                  0.13.3\n",
       "tornado                                     6.3.1\n",
       "tqdm                                        4.65.0\n",
       "traitlets                                   5.7.1\n",
       "tree                                        0.1.8\n",
       "typing_extensions                           NA\n",
       "uritemplate                                 4.1.1\n",
       "urllib3                                     1.26.15\n",
       "wcwidth                                     0.2.6\n",
       "wrapt                                       1.14.1\n",
       "xxhash                                      NA\n",
       "yaml                                        6.0\n",
       "yarl                                        1.9.2\n",
       "zmq                                         23.2.1\n",
       "zoneinfo                                    NA\n",
       "</pre>\n",
       "</details> <!-- seems like this ends pre, so might as well be explicit -->\n",
       "<pre>\n",
       "-----\n",
       "IPython             7.34.0\n",
       "jupyter_client      6.1.12\n",
       "jupyter_core        5.3.0\n",
       "notebook            6.4.8\n",
       "-----\n",
       "Python 3.10.12 (main, Jun  7 2023, 12:45:35) [GCC 9.4.0]\n",
       "Linux-5.15.107+-x86_64-with-glibc2.31\n",
       "-----\n",
       "Session information updated at 2023-06-14 14:38\n",
       "</pre>\n",
       "</details>"
      ],
      "text/plain": [
       "<IPython.core.display.HTML object>"
      ]
     },
     "execution_count": 11,
     "metadata": {},
     "output_type": "execute_result"
    }
   ],
   "source": [
    "import session_info\n",
    "\n",
    "session_info.show()"
   ]
  }
 ],
 "metadata": {
  "colab": {
   "provenance": [],
   "toc_visible": true
  },
  "kernelspec": {
   "display_name": "Python 3",
   "name": "python3"
  },
  "language_info": {
   "name": "python"
  },
  "widgets": {
   "application/vnd.jupyter.widget-state+json": {
    "0184b2f4b5bf441d89365b97f3f475e6": {
     "model_module": "@jupyter-widgets/controls",
     "model_module_version": "1.5.0",
     "model_name": "DescriptionStyleModel",
     "state": {
      "_model_module": "@jupyter-widgets/controls",
      "_model_module_version": "1.5.0",
      "_model_name": "DescriptionStyleModel",
      "_view_count": null,
      "_view_module": "@jupyter-widgets/base",
      "_view_module_version": "1.2.0",
      "_view_name": "StyleView",
      "description_width": ""
     }
    },
    "0d0ed62614bb433d86877d95c7a6c09a": {
     "model_module": "@jupyter-widgets/base",
     "model_module_version": "1.2.0",
     "model_name": "LayoutModel",
     "state": {
      "_model_module": "@jupyter-widgets/base",
      "_model_module_version": "1.2.0",
      "_model_name": "LayoutModel",
      "_view_count": null,
      "_view_module": "@jupyter-widgets/base",
      "_view_module_version": "1.2.0",
      "_view_name": "LayoutView",
      "align_content": null,
      "align_items": null,
      "align_self": null,
      "border": null,
      "bottom": null,
      "display": null,
      "flex": null,
      "flex_flow": null,
      "grid_area": null,
      "grid_auto_columns": null,
      "grid_auto_flow": null,
      "grid_auto_rows": null,
      "grid_column": null,
      "grid_gap": null,
      "grid_row": null,
      "grid_template_areas": null,
      "grid_template_columns": null,
      "grid_template_rows": null,
      "height": null,
      "justify_content": null,
      "justify_items": null,
      "left": null,
      "margin": null,
      "max_height": null,
      "max_width": null,
      "min_height": null,
      "min_width": null,
      "object_fit": null,
      "object_position": null,
      "order": null,
      "overflow": null,
      "overflow_x": null,
      "overflow_y": null,
      "padding": null,
      "right": null,
      "top": null,
      "visibility": null,
      "width": null
     }
    },
    "21c7889e49a84a0b9a06eeb145a6eae1": {
     "model_module": "@jupyter-widgets/base",
     "model_module_version": "1.2.0",
     "model_name": "LayoutModel",
     "state": {
      "_model_module": "@jupyter-widgets/base",
      "_model_module_version": "1.2.0",
      "_model_name": "LayoutModel",
      "_view_count": null,
      "_view_module": "@jupyter-widgets/base",
      "_view_module_version": "1.2.0",
      "_view_name": "LayoutView",
      "align_content": null,
      "align_items": null,
      "align_self": null,
      "border": null,
      "bottom": null,
      "display": null,
      "flex": null,
      "flex_flow": null,
      "grid_area": null,
      "grid_auto_columns": null,
      "grid_auto_flow": null,
      "grid_auto_rows": null,
      "grid_column": null,
      "grid_gap": null,
      "grid_row": null,
      "grid_template_areas": null,
      "grid_template_columns": null,
      "grid_template_rows": null,
      "height": null,
      "justify_content": null,
      "justify_items": null,
      "left": null,
      "margin": null,
      "max_height": null,
      "max_width": null,
      "min_height": null,
      "min_width": null,
      "object_fit": null,
      "object_position": null,
      "order": null,
      "overflow": null,
      "overflow_x": null,
      "overflow_y": null,
      "padding": null,
      "right": null,
      "top": null,
      "visibility": null,
      "width": null
     }
    },
    "284ede5f07ae48b093a28b75a04a4cea": {
     "model_module": "@jupyter-widgets/controls",
     "model_module_version": "1.5.0",
     "model_name": "PasswordModel",
     "state": {
      "_dom_classes": [],
      "_model_module": "@jupyter-widgets/controls",
      "_model_module_version": "1.5.0",
      "_model_name": "PasswordModel",
      "_view_count": null,
      "_view_module": "@jupyter-widgets/controls",
      "_view_module_version": "1.5.0",
      "_view_name": "PasswordView",
      "continuous_update": true,
      "description": "Token:",
      "description_tooltip": null,
      "disabled": false,
      "layout": "IPY_MODEL_aa3032ed9e6241eb9cf1e125de3d8649",
      "placeholder": "​",
      "style": "IPY_MODEL_c44958dab0034689ad75ffd53f5a1b8a",
      "value": ""
     }
    },
    "3d08d68b1afa436d9d899c04ac387a27": {
     "model_module": "@jupyter-widgets/base",
     "model_module_version": "1.2.0",
     "model_name": "LayoutModel",
     "state": {
      "_model_module": "@jupyter-widgets/base",
      "_model_module_version": "1.2.0",
      "_model_name": "LayoutModel",
      "_view_count": null,
      "_view_module": "@jupyter-widgets/base",
      "_view_module_version": "1.2.0",
      "_view_name": "LayoutView",
      "align_content": null,
      "align_items": null,
      "align_self": null,
      "border": null,
      "bottom": null,
      "display": null,
      "flex": null,
      "flex_flow": null,
      "grid_area": null,
      "grid_auto_columns": null,
      "grid_auto_flow": null,
      "grid_auto_rows": null,
      "grid_column": null,
      "grid_gap": null,
      "grid_row": null,
      "grid_template_areas": null,
      "grid_template_columns": null,
      "grid_template_rows": null,
      "height": null,
      "justify_content": null,
      "justify_items": null,
      "left": null,
      "margin": null,
      "max_height": null,
      "max_width": null,
      "min_height": null,
      "min_width": null,
      "object_fit": null,
      "object_position": null,
      "order": null,
      "overflow": null,
      "overflow_x": null,
      "overflow_y": null,
      "padding": null,
      "right": null,
      "top": null,
      "visibility": null,
      "width": null
     }
    },
    "49776a0cb2c24a649d43f89f15b1058b": {
     "model_module": "@jupyter-widgets/controls",
     "model_module_version": "1.5.0",
     "model_name": "HTMLModel",
     "state": {
      "_dom_classes": [],
      "_model_module": "@jupyter-widgets/controls",
      "_model_module_version": "1.5.0",
      "_model_name": "HTMLModel",
      "_view_count": null,
      "_view_module": "@jupyter-widgets/controls",
      "_view_module_version": "1.5.0",
      "_view_name": "HTMLView",
      "description": "",
      "description_tooltip": null,
      "layout": "IPY_MODEL_21c7889e49a84a0b9a06eeb145a6eae1",
      "placeholder": "​",
      "style": "IPY_MODEL_e991a6cce27b4ca2b3cc5c7b322907e7",
      "value": "\n<b>Pro Tip:</b> If you don't already have one, you can create a dedicated\n'notebooks' token with 'write' access, that you can then easily reuse for all\nnotebooks. </center>"
     }
    },
    "7f7d94e9563245678586d7a2716aaae4": {
     "model_module": "@jupyter-widgets/controls",
     "model_module_version": "1.5.0",
     "model_name": "ButtonStyleModel",
     "state": {
      "_model_module": "@jupyter-widgets/controls",
      "_model_module_version": "1.5.0",
      "_model_name": "ButtonStyleModel",
      "_view_count": null,
      "_view_module": "@jupyter-widgets/base",
      "_view_module_version": "1.2.0",
      "_view_name": "StyleView",
      "button_color": null,
      "font_weight": ""
     }
    },
    "92cfda5d3afc49a381139c4d7bcf76e6": {
     "model_module": "@jupyter-widgets/controls",
     "model_module_version": "1.5.0",
     "model_name": "ButtonModel",
     "state": {
      "_dom_classes": [],
      "_model_module": "@jupyter-widgets/controls",
      "_model_module_version": "1.5.0",
      "_model_name": "ButtonModel",
      "_view_count": null,
      "_view_module": "@jupyter-widgets/controls",
      "_view_module_version": "1.5.0",
      "_view_name": "ButtonView",
      "button_style": "",
      "description": "Login",
      "disabled": false,
      "icon": "",
      "layout": "IPY_MODEL_e57b336ac5b141c6b0cde08860b1179f",
      "style": "IPY_MODEL_7f7d94e9563245678586d7a2716aaae4",
      "tooltip": ""
     }
    },
    "93673c7008774cf99340aaeabee4ac84": {
     "model_module": "@jupyter-widgets/controls",
     "model_module_version": "1.5.0",
     "model_name": "CheckboxModel",
     "state": {
      "_dom_classes": [],
      "_model_module": "@jupyter-widgets/controls",
      "_model_module_version": "1.5.0",
      "_model_name": "CheckboxModel",
      "_view_count": null,
      "_view_module": "@jupyter-widgets/controls",
      "_view_module_version": "1.5.0",
      "_view_name": "CheckboxView",
      "description": "Add token as git credential?",
      "description_tooltip": null,
      "disabled": false,
      "indent": true,
      "layout": "IPY_MODEL_3d08d68b1afa436d9d899c04ac387a27",
      "style": "IPY_MODEL_e54bacdc9795407fa3319e5b3b72d74e",
      "value": true
     }
    },
    "a40ebb9ff2864c60a8c0c0e2f643a72e": {
     "model_module": "@jupyter-widgets/controls",
     "model_module_version": "1.5.0",
     "model_name": "VBoxModel",
     "state": {
      "_dom_classes": [],
      "_model_module": "@jupyter-widgets/controls",
      "_model_module_version": "1.5.0",
      "_model_name": "VBoxModel",
      "_view_count": null,
      "_view_module": "@jupyter-widgets/controls",
      "_view_module_version": "1.5.0",
      "_view_name": "VBoxView",
      "box_style": "",
      "children": [
       "IPY_MODEL_d6edb00f55744d0f8710c8ece09aa625",
       "IPY_MODEL_284ede5f07ae48b093a28b75a04a4cea",
       "IPY_MODEL_93673c7008774cf99340aaeabee4ac84",
       "IPY_MODEL_92cfda5d3afc49a381139c4d7bcf76e6",
       "IPY_MODEL_49776a0cb2c24a649d43f89f15b1058b"
      ],
      "layout": "IPY_MODEL_f431614a606145c3b37ea38ae9de9c00"
     }
    },
    "aa3032ed9e6241eb9cf1e125de3d8649": {
     "model_module": "@jupyter-widgets/base",
     "model_module_version": "1.2.0",
     "model_name": "LayoutModel",
     "state": {
      "_model_module": "@jupyter-widgets/base",
      "_model_module_version": "1.2.0",
      "_model_name": "LayoutModel",
      "_view_count": null,
      "_view_module": "@jupyter-widgets/base",
      "_view_module_version": "1.2.0",
      "_view_name": "LayoutView",
      "align_content": null,
      "align_items": null,
      "align_self": null,
      "border": null,
      "bottom": null,
      "display": null,
      "flex": null,
      "flex_flow": null,
      "grid_area": null,
      "grid_auto_columns": null,
      "grid_auto_flow": null,
      "grid_auto_rows": null,
      "grid_column": null,
      "grid_gap": null,
      "grid_row": null,
      "grid_template_areas": null,
      "grid_template_columns": null,
      "grid_template_rows": null,
      "height": null,
      "justify_content": null,
      "justify_items": null,
      "left": null,
      "margin": null,
      "max_height": null,
      "max_width": null,
      "min_height": null,
      "min_width": null,
      "object_fit": null,
      "object_position": null,
      "order": null,
      "overflow": null,
      "overflow_x": null,
      "overflow_y": null,
      "padding": null,
      "right": null,
      "top": null,
      "visibility": null,
      "width": null
     }
    },
    "c44958dab0034689ad75ffd53f5a1b8a": {
     "model_module": "@jupyter-widgets/controls",
     "model_module_version": "1.5.0",
     "model_name": "DescriptionStyleModel",
     "state": {
      "_model_module": "@jupyter-widgets/controls",
      "_model_module_version": "1.5.0",
      "_model_name": "DescriptionStyleModel",
      "_view_count": null,
      "_view_module": "@jupyter-widgets/base",
      "_view_module_version": "1.2.0",
      "_view_name": "StyleView",
      "description_width": ""
     }
    },
    "d6edb00f55744d0f8710c8ece09aa625": {
     "model_module": "@jupyter-widgets/controls",
     "model_module_version": "1.5.0",
     "model_name": "HTMLModel",
     "state": {
      "_dom_classes": [],
      "_model_module": "@jupyter-widgets/controls",
      "_model_module_version": "1.5.0",
      "_model_name": "HTMLModel",
      "_view_count": null,
      "_view_module": "@jupyter-widgets/controls",
      "_view_module_version": "1.5.0",
      "_view_name": "HTMLView",
      "description": "",
      "description_tooltip": null,
      "layout": "IPY_MODEL_0d0ed62614bb433d86877d95c7a6c09a",
      "placeholder": "​",
      "style": "IPY_MODEL_0184b2f4b5bf441d89365b97f3f475e6",
      "value": "<center> <img\nsrc=https://huggingface.co/front/assets/huggingface_logo-noborder.svg\nalt='Hugging Face'> <br> Copy a token from <a\nhref=\"https://huggingface.co/settings/tokens\" target=\"_blank\">your Hugging Face\ntokens page</a> and paste it below. <br> Immediately click login after copying\nyour token or it might be stored in plain text in this notebook file. </center>"
     }
    },
    "e54bacdc9795407fa3319e5b3b72d74e": {
     "model_module": "@jupyter-widgets/controls",
     "model_module_version": "1.5.0",
     "model_name": "DescriptionStyleModel",
     "state": {
      "_model_module": "@jupyter-widgets/controls",
      "_model_module_version": "1.5.0",
      "_model_name": "DescriptionStyleModel",
      "_view_count": null,
      "_view_module": "@jupyter-widgets/base",
      "_view_module_version": "1.2.0",
      "_view_name": "StyleView",
      "description_width": ""
     }
    },
    "e57b336ac5b141c6b0cde08860b1179f": {
     "model_module": "@jupyter-widgets/base",
     "model_module_version": "1.2.0",
     "model_name": "LayoutModel",
     "state": {
      "_model_module": "@jupyter-widgets/base",
      "_model_module_version": "1.2.0",
      "_model_name": "LayoutModel",
      "_view_count": null,
      "_view_module": "@jupyter-widgets/base",
      "_view_module_version": "1.2.0",
      "_view_name": "LayoutView",
      "align_content": null,
      "align_items": null,
      "align_self": null,
      "border": null,
      "bottom": null,
      "display": null,
      "flex": null,
      "flex_flow": null,
      "grid_area": null,
      "grid_auto_columns": null,
      "grid_auto_flow": null,
      "grid_auto_rows": null,
      "grid_column": null,
      "grid_gap": null,
      "grid_row": null,
      "grid_template_areas": null,
      "grid_template_columns": null,
      "grid_template_rows": null,
      "height": null,
      "justify_content": null,
      "justify_items": null,
      "left": null,
      "margin": null,
      "max_height": null,
      "max_width": null,
      "min_height": null,
      "min_width": null,
      "object_fit": null,
      "object_position": null,
      "order": null,
      "overflow": null,
      "overflow_x": null,
      "overflow_y": null,
      "padding": null,
      "right": null,
      "top": null,
      "visibility": null,
      "width": null
     }
    },
    "e991a6cce27b4ca2b3cc5c7b322907e7": {
     "model_module": "@jupyter-widgets/controls",
     "model_module_version": "1.5.0",
     "model_name": "DescriptionStyleModel",
     "state": {
      "_model_module": "@jupyter-widgets/controls",
      "_model_module_version": "1.5.0",
      "_model_name": "DescriptionStyleModel",
      "_view_count": null,
      "_view_module": "@jupyter-widgets/base",
      "_view_module_version": "1.2.0",
      "_view_name": "StyleView",
      "description_width": ""
     }
    },
    "f431614a606145c3b37ea38ae9de9c00": {
     "model_module": "@jupyter-widgets/base",
     "model_module_version": "1.2.0",
     "model_name": "LayoutModel",
     "state": {
      "_model_module": "@jupyter-widgets/base",
      "_model_module_version": "1.2.0",
      "_model_name": "LayoutModel",
      "_view_count": null,
      "_view_module": "@jupyter-widgets/base",
      "_view_module_version": "1.2.0",
      "_view_name": "LayoutView",
      "align_content": null,
      "align_items": "center",
      "align_self": null,
      "border": null,
      "bottom": null,
      "display": "flex",
      "flex": null,
      "flex_flow": "column",
      "grid_area": null,
      "grid_auto_columns": null,
      "grid_auto_flow": null,
      "grid_auto_rows": null,
      "grid_column": null,
      "grid_gap": null,
      "grid_row": null,
      "grid_template_areas": null,
      "grid_template_columns": null,
      "grid_template_rows": null,
      "height": null,
      "justify_content": null,
      "justify_items": null,
      "left": null,
      "margin": null,
      "max_height": null,
      "max_width": null,
      "min_height": null,
      "min_width": null,
      "object_fit": null,
      "object_position": null,
      "order": null,
      "overflow": null,
      "overflow_x": null,
      "overflow_y": null,
      "padding": null,
      "right": null,
      "top": null,
      "visibility": null,
      "width": "50%"
     }
    }
   }
  }
 },
 "nbformat": 4,
 "nbformat_minor": 0
}
